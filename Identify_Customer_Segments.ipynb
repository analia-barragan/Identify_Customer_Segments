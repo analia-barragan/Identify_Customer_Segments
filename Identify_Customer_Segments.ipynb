{
 "cells": [
  {
   "cell_type": "markdown",
   "metadata": {},
   "source": [
    "# Project: Identify Customer Segments\n",
    "\n",
    "In this project, you will apply unsupervised learning techniques to identify segments of the population that form the core customer base for a mail-order sales company in Germany. These segments can then be used to direct marketing campaigns towards audiences that will have the highest expected rate of returns. The data that you will use has been provided by our partners at Bertelsmann Arvato Analytics, and represents a real-life data science task.\n",
    "\n",
    "This notebook will help you complete this task by providing a framework within which you will perform your analysis steps. In each step of the project, you will see some text describing the subtask that you will perform, followed by one or more code cells for you to complete your work. **Feel free to add additional code and markdown cells as you go along so that you can explore everything in precise chunks.** The code cells provided in the base template will outline only the major tasks, and will usually not be enough to cover all of the minor tasks that comprise it.\n",
    "\n",
    "It should be noted that while there will be precise guidelines on how you should handle certain tasks in the project, there will also be places where an exact specification is not provided. **There will be times in the project where you will need to make and justify your own decisions on how to treat the data.** These are places where there may not be only one way to handle the data. In real-life tasks, there may be many valid ways to approach an analysis task. One of the most important things you can do is clearly document your approach so that other scientists can understand the decisions you've made.\n",
    "\n",
    "At the end of most sections, there will be a Markdown cell labeled **Discussion**. In these cells, you will report your findings for the completed section, as well as document the decisions that you made in your approach to each subtask. **Your project will be evaluated not just on the code used to complete the tasks outlined, but also your communication about your observations and conclusions at each stage.**"
   ]
  },
  {
   "cell_type": "code",
   "execution_count": 1,
   "metadata": {},
   "outputs": [
    {
     "data": {
      "text/plain": [
       "'\\nImport note: The classroom currently uses sklearn version 0.19.\\nIf you need to use an imputer, it is available in sklearn.preprocessing.Imputer,\\ninstead of sklearn.impute as in newer versions of sklearn.\\n'"
      ]
     },
     "execution_count": 1,
     "metadata": {},
     "output_type": "execute_result"
    }
   ],
   "source": [
    "# import libraries here; add more as necessary\n",
    "import numpy as np\n",
    "import pandas as pd\n",
    "import matplotlib.pyplot as plt\n",
    "import seaborn as sns\n",
    "from workspace_utils import active_session\n",
    "import re\n",
    "import itertools\n",
    "from sklearn.preprocessing import Imputer, StandardScaler\n",
    "from sklearn.decomposition import PCA\n",
    "from sklearn.cluster import KMeans\n",
    "\n",
    "# magic word for producing visualizations in notebook\n",
    "%matplotlib inline\n",
    "\n",
    "'''\n",
    "Import note: The classroom currently uses sklearn version 0.19.\n",
    "If you need to use an imputer, it is available in sklearn.preprocessing.Imputer,\n",
    "instead of sklearn.impute as in newer versions of sklearn.\n",
    "'''"
   ]
  },
  {
   "cell_type": "markdown",
   "metadata": {},
   "source": [
    "### Step 0: Load the Data\n",
    "\n",
    "There are four files associated with this project (not including this one):\n",
    "\n",
    "- `Udacity_AZDIAS_Subset.csv`: Demographics data for the general population of Germany; 891211 persons (rows) x 85 features (columns).\n",
    "- `Udacity_CUSTOMERS_Subset.csv`: Demographics data for customers of a mail-order company; 191652 persons (rows) x 85 features (columns).\n",
    "- `Data_Dictionary.md`: Detailed information file about the features in the provided datasets.\n",
    "- `AZDIAS_Feature_Summary.csv`: Summary of feature attributes for demographics data; 85 features (rows) x 4 columns\n",
    "\n",
    "Each row of the demographics files represents a single person, but also includes information outside of individuals, including information about their household, building, and neighborhood. You will use this information to cluster the general population into groups with similar demographic properties. Then, you will see how the people in the customers dataset fit into those created clusters. The hope here is that certain clusters are over-represented in the customers data, as compared to the general population; those over-represented clusters will be assumed to be part of the core userbase. This information can then be used for further applications, such as targeting for a marketing campaign.\n",
    "\n",
    "To start off with, load in the demographics data for the general population into a pandas DataFrame, and do the same for the feature attributes summary. Note for all of the `.csv` data files in this project: they're semicolon (`;`) delimited, so you'll need an additional argument in your [`read_csv()`](https://pandas.pydata.org/pandas-docs/stable/generated/pandas.read_csv.html) call to read in the data properly. Also, considering the size of the main dataset, it may take some time for it to load completely.\n",
    "\n",
    "Once the dataset is loaded, it's recommended that you take a little bit of time just browsing the general structure of the dataset and feature summary file. You'll be getting deep into the innards of the cleaning in the first major step of the project, so gaining some general familiarity can help you get your bearings."
   ]
  },
  {
   "cell_type": "code",
   "execution_count": 2,
   "metadata": {},
   "outputs": [],
   "source": [
    "# Load in the general demographics data.\n",
    "azdias = pd.read_csv('Udacity_AZDIAS_Subset.csv', sep = ';')\n",
    "\n",
    "# Load in the feature summary file.\n",
    "feat_info = pd.read_csv('AZDIAS_Feature_Summary.csv', sep=';')"
   ]
  },
  {
   "cell_type": "markdown",
   "metadata": {},
   "source": [
    "**Note:**\n",
    "\n",
    "The analysis will begin by getting a general idea of the structure and data in the `AZDIAS_Feature_Summary.csv` file. Then the structure and data in the `Udacity_AZDIAS_Subset.csv` will be analyzed. "
   ]
  },
  {
   "cell_type": "code",
   "execution_count": 3,
   "metadata": {},
   "outputs": [
    {
     "name": "stdout",
     "output_type": "stream",
     "text": [
      "The summary of features dataset has 85 rows and 4 columns.\n"
     ]
    },
    {
     "data": {
      "text/html": [
       "<div>\n",
       "<style scoped>\n",
       "    .dataframe tbody tr th:only-of-type {\n",
       "        vertical-align: middle;\n",
       "    }\n",
       "\n",
       "    .dataframe tbody tr th {\n",
       "        vertical-align: top;\n",
       "    }\n",
       "\n",
       "    .dataframe thead th {\n",
       "        text-align: right;\n",
       "    }\n",
       "</style>\n",
       "<table border=\"1\" class=\"dataframe\">\n",
       "  <thead>\n",
       "    <tr style=\"text-align: right;\">\n",
       "      <th></th>\n",
       "      <th>attribute</th>\n",
       "      <th>information_level</th>\n",
       "      <th>type</th>\n",
       "      <th>missing_or_unknown</th>\n",
       "    </tr>\n",
       "  </thead>\n",
       "  <tbody>\n",
       "    <tr>\n",
       "      <th>0</th>\n",
       "      <td>AGER_TYP</td>\n",
       "      <td>person</td>\n",
       "      <td>categorical</td>\n",
       "      <td>[-1,0]</td>\n",
       "    </tr>\n",
       "    <tr>\n",
       "      <th>1</th>\n",
       "      <td>ALTERSKATEGORIE_GROB</td>\n",
       "      <td>person</td>\n",
       "      <td>ordinal</td>\n",
       "      <td>[-1,0,9]</td>\n",
       "    </tr>\n",
       "    <tr>\n",
       "      <th>2</th>\n",
       "      <td>ANREDE_KZ</td>\n",
       "      <td>person</td>\n",
       "      <td>categorical</td>\n",
       "      <td>[-1,0]</td>\n",
       "    </tr>\n",
       "    <tr>\n",
       "      <th>3</th>\n",
       "      <td>CJT_GESAMTTYP</td>\n",
       "      <td>person</td>\n",
       "      <td>categorical</td>\n",
       "      <td>[0]</td>\n",
       "    </tr>\n",
       "    <tr>\n",
       "      <th>4</th>\n",
       "      <td>FINANZ_MINIMALIST</td>\n",
       "      <td>person</td>\n",
       "      <td>ordinal</td>\n",
       "      <td>[-1]</td>\n",
       "    </tr>\n",
       "    <tr>\n",
       "      <th>5</th>\n",
       "      <td>FINANZ_SPARER</td>\n",
       "      <td>person</td>\n",
       "      <td>ordinal</td>\n",
       "      <td>[-1]</td>\n",
       "    </tr>\n",
       "    <tr>\n",
       "      <th>6</th>\n",
       "      <td>FINANZ_VORSORGER</td>\n",
       "      <td>person</td>\n",
       "      <td>ordinal</td>\n",
       "      <td>[-1]</td>\n",
       "    </tr>\n",
       "    <tr>\n",
       "      <th>7</th>\n",
       "      <td>FINANZ_ANLEGER</td>\n",
       "      <td>person</td>\n",
       "      <td>ordinal</td>\n",
       "      <td>[-1]</td>\n",
       "    </tr>\n",
       "    <tr>\n",
       "      <th>8</th>\n",
       "      <td>FINANZ_UNAUFFAELLIGER</td>\n",
       "      <td>person</td>\n",
       "      <td>ordinal</td>\n",
       "      <td>[-1]</td>\n",
       "    </tr>\n",
       "    <tr>\n",
       "      <th>9</th>\n",
       "      <td>FINANZ_HAUSBAUER</td>\n",
       "      <td>person</td>\n",
       "      <td>ordinal</td>\n",
       "      <td>[-1]</td>\n",
       "    </tr>\n",
       "  </tbody>\n",
       "</table>\n",
       "</div>"
      ],
      "text/plain": [
       "               attribute information_level         type missing_or_unknown\n",
       "0               AGER_TYP            person  categorical             [-1,0]\n",
       "1   ALTERSKATEGORIE_GROB            person      ordinal           [-1,0,9]\n",
       "2              ANREDE_KZ            person  categorical             [-1,0]\n",
       "3          CJT_GESAMTTYP            person  categorical                [0]\n",
       "4      FINANZ_MINIMALIST            person      ordinal               [-1]\n",
       "5          FINANZ_SPARER            person      ordinal               [-1]\n",
       "6       FINANZ_VORSORGER            person      ordinal               [-1]\n",
       "7         FINANZ_ANLEGER            person      ordinal               [-1]\n",
       "8  FINANZ_UNAUFFAELLIGER            person      ordinal               [-1]\n",
       "9       FINANZ_HAUSBAUER            person      ordinal               [-1]"
      ]
     },
     "execution_count": 3,
     "metadata": {},
     "output_type": "execute_result"
    }
   ],
   "source": [
    "print('The summary of features dataset has {} rows and {} columns.'.format(feat_info.shape[0], feat_info.shape[1]))\n",
    "feat_info.head(10)"
   ]
  },
  {
   "cell_type": "code",
   "execution_count": 4,
   "metadata": {},
   "outputs": [
    {
     "name": "stdout",
     "output_type": "stream",
     "text": [
      "<class 'pandas.core.frame.DataFrame'>\n",
      "RangeIndex: 85 entries, 0 to 84\n",
      "Data columns (total 4 columns):\n",
      "attribute             85 non-null object\n",
      "information_level     85 non-null object\n",
      "type                  85 non-null object\n",
      "missing_or_unknown    85 non-null object\n",
      "dtypes: object(4)\n",
      "memory usage: 2.7+ KB\n"
     ]
    }
   ],
   "source": [
    "feat_info.info()"
   ]
  },
  {
   "cell_type": "code",
   "execution_count": 5,
   "metadata": {},
   "outputs": [
    {
     "data": {
      "text/html": [
       "<div>\n",
       "<style scoped>\n",
       "    .dataframe tbody tr th:only-of-type {\n",
       "        vertical-align: middle;\n",
       "    }\n",
       "\n",
       "    .dataframe tbody tr th {\n",
       "        vertical-align: top;\n",
       "    }\n",
       "\n",
       "    .dataframe thead th {\n",
       "        text-align: right;\n",
       "    }\n",
       "</style>\n",
       "<table border=\"1\" class=\"dataframe\">\n",
       "  <thead>\n",
       "    <tr style=\"text-align: right;\">\n",
       "      <th></th>\n",
       "      <th>attribute</th>\n",
       "      <th>information_level</th>\n",
       "      <th>type</th>\n",
       "      <th>missing_or_unknown</th>\n",
       "    </tr>\n",
       "  </thead>\n",
       "  <tbody>\n",
       "    <tr>\n",
       "      <th>count</th>\n",
       "      <td>85</td>\n",
       "      <td>85</td>\n",
       "      <td>85</td>\n",
       "      <td>85</td>\n",
       "    </tr>\n",
       "    <tr>\n",
       "      <th>unique</th>\n",
       "      <td>85</td>\n",
       "      <td>9</td>\n",
       "      <td>5</td>\n",
       "      <td>9</td>\n",
       "    </tr>\n",
       "    <tr>\n",
       "      <th>top</th>\n",
       "      <td>PLZ8_ANTG2</td>\n",
       "      <td>person</td>\n",
       "      <td>ordinal</td>\n",
       "      <td>[-1]</td>\n",
       "    </tr>\n",
       "    <tr>\n",
       "      <th>freq</th>\n",
       "      <td>1</td>\n",
       "      <td>43</td>\n",
       "      <td>49</td>\n",
       "      <td>26</td>\n",
       "    </tr>\n",
       "  </tbody>\n",
       "</table>\n",
       "</div>"
      ],
      "text/plain": [
       "         attribute information_level     type missing_or_unknown\n",
       "count           85                85       85                 85\n",
       "unique          85                 9        5                  9\n",
       "top     PLZ8_ANTG2            person  ordinal               [-1]\n",
       "freq             1                43       49                 26"
      ]
     },
     "execution_count": 5,
     "metadata": {},
     "output_type": "execute_result"
    }
   ],
   "source": [
    "feat_info.describe()"
   ]
  },
  {
   "cell_type": "code",
   "execution_count": 6,
   "metadata": {},
   "outputs": [
    {
     "data": {
      "text/plain": [
       "array(['[-1,0]', '[-1,0,9]', '[0]', '[-1]', '[]', '[-1,9]', '[-1,X]',\n",
       "       '[XX]', '[-1,XX]'], dtype=object)"
      ]
     },
     "execution_count": 6,
     "metadata": {},
     "output_type": "execute_result"
    }
   ],
   "source": [
    "feat_info.missing_or_unknown.unique()"
   ]
  },
  {
   "cell_type": "code",
   "execution_count": 7,
   "metadata": {},
   "outputs": [
    {
     "name": "stdout",
     "output_type": "stream",
     "text": [
      "The AZDIAS dataset has 891221 rows and 85 columns.\n"
     ]
    },
    {
     "data": {
      "text/html": [
       "<div>\n",
       "<style scoped>\n",
       "    .dataframe tbody tr th:only-of-type {\n",
       "        vertical-align: middle;\n",
       "    }\n",
       "\n",
       "    .dataframe tbody tr th {\n",
       "        vertical-align: top;\n",
       "    }\n",
       "\n",
       "    .dataframe thead th {\n",
       "        text-align: right;\n",
       "    }\n",
       "</style>\n",
       "<table border=\"1\" class=\"dataframe\">\n",
       "  <thead>\n",
       "    <tr style=\"text-align: right;\">\n",
       "      <th></th>\n",
       "      <th>AGER_TYP</th>\n",
       "      <th>ALTERSKATEGORIE_GROB</th>\n",
       "      <th>ANREDE_KZ</th>\n",
       "      <th>CJT_GESAMTTYP</th>\n",
       "      <th>FINANZ_MINIMALIST</th>\n",
       "      <th>FINANZ_SPARER</th>\n",
       "      <th>FINANZ_VORSORGER</th>\n",
       "      <th>FINANZ_ANLEGER</th>\n",
       "      <th>FINANZ_UNAUFFAELLIGER</th>\n",
       "      <th>FINANZ_HAUSBAUER</th>\n",
       "      <th>...</th>\n",
       "      <th>PLZ8_ANTG1</th>\n",
       "      <th>PLZ8_ANTG2</th>\n",
       "      <th>PLZ8_ANTG3</th>\n",
       "      <th>PLZ8_ANTG4</th>\n",
       "      <th>PLZ8_BAUMAX</th>\n",
       "      <th>PLZ8_HHZ</th>\n",
       "      <th>PLZ8_GBZ</th>\n",
       "      <th>ARBEIT</th>\n",
       "      <th>ORTSGR_KLS9</th>\n",
       "      <th>RELAT_AB</th>\n",
       "    </tr>\n",
       "  </thead>\n",
       "  <tbody>\n",
       "    <tr>\n",
       "      <th>0</th>\n",
       "      <td>-1</td>\n",
       "      <td>2</td>\n",
       "      <td>1</td>\n",
       "      <td>2.0</td>\n",
       "      <td>3</td>\n",
       "      <td>4</td>\n",
       "      <td>3</td>\n",
       "      <td>5</td>\n",
       "      <td>5</td>\n",
       "      <td>3</td>\n",
       "      <td>...</td>\n",
       "      <td>NaN</td>\n",
       "      <td>NaN</td>\n",
       "      <td>NaN</td>\n",
       "      <td>NaN</td>\n",
       "      <td>NaN</td>\n",
       "      <td>NaN</td>\n",
       "      <td>NaN</td>\n",
       "      <td>NaN</td>\n",
       "      <td>NaN</td>\n",
       "      <td>NaN</td>\n",
       "    </tr>\n",
       "    <tr>\n",
       "      <th>1</th>\n",
       "      <td>-1</td>\n",
       "      <td>1</td>\n",
       "      <td>2</td>\n",
       "      <td>5.0</td>\n",
       "      <td>1</td>\n",
       "      <td>5</td>\n",
       "      <td>2</td>\n",
       "      <td>5</td>\n",
       "      <td>4</td>\n",
       "      <td>5</td>\n",
       "      <td>...</td>\n",
       "      <td>2.0</td>\n",
       "      <td>3.0</td>\n",
       "      <td>2.0</td>\n",
       "      <td>1.0</td>\n",
       "      <td>1.0</td>\n",
       "      <td>5.0</td>\n",
       "      <td>4.0</td>\n",
       "      <td>3.0</td>\n",
       "      <td>5.0</td>\n",
       "      <td>4.0</td>\n",
       "    </tr>\n",
       "    <tr>\n",
       "      <th>2</th>\n",
       "      <td>-1</td>\n",
       "      <td>3</td>\n",
       "      <td>2</td>\n",
       "      <td>3.0</td>\n",
       "      <td>1</td>\n",
       "      <td>4</td>\n",
       "      <td>1</td>\n",
       "      <td>2</td>\n",
       "      <td>3</td>\n",
       "      <td>5</td>\n",
       "      <td>...</td>\n",
       "      <td>3.0</td>\n",
       "      <td>3.0</td>\n",
       "      <td>1.0</td>\n",
       "      <td>0.0</td>\n",
       "      <td>1.0</td>\n",
       "      <td>4.0</td>\n",
       "      <td>4.0</td>\n",
       "      <td>3.0</td>\n",
       "      <td>5.0</td>\n",
       "      <td>2.0</td>\n",
       "    </tr>\n",
       "    <tr>\n",
       "      <th>3</th>\n",
       "      <td>2</td>\n",
       "      <td>4</td>\n",
       "      <td>2</td>\n",
       "      <td>2.0</td>\n",
       "      <td>4</td>\n",
       "      <td>2</td>\n",
       "      <td>5</td>\n",
       "      <td>2</td>\n",
       "      <td>1</td>\n",
       "      <td>2</td>\n",
       "      <td>...</td>\n",
       "      <td>2.0</td>\n",
       "      <td>2.0</td>\n",
       "      <td>2.0</td>\n",
       "      <td>0.0</td>\n",
       "      <td>1.0</td>\n",
       "      <td>3.0</td>\n",
       "      <td>4.0</td>\n",
       "      <td>2.0</td>\n",
       "      <td>3.0</td>\n",
       "      <td>3.0</td>\n",
       "    </tr>\n",
       "    <tr>\n",
       "      <th>4</th>\n",
       "      <td>-1</td>\n",
       "      <td>3</td>\n",
       "      <td>1</td>\n",
       "      <td>5.0</td>\n",
       "      <td>4</td>\n",
       "      <td>3</td>\n",
       "      <td>4</td>\n",
       "      <td>1</td>\n",
       "      <td>3</td>\n",
       "      <td>2</td>\n",
       "      <td>...</td>\n",
       "      <td>2.0</td>\n",
       "      <td>4.0</td>\n",
       "      <td>2.0</td>\n",
       "      <td>1.0</td>\n",
       "      <td>2.0</td>\n",
       "      <td>3.0</td>\n",
       "      <td>3.0</td>\n",
       "      <td>4.0</td>\n",
       "      <td>6.0</td>\n",
       "      <td>5.0</td>\n",
       "    </tr>\n",
       "  </tbody>\n",
       "</table>\n",
       "<p>5 rows × 85 columns</p>\n",
       "</div>"
      ],
      "text/plain": [
       "   AGER_TYP  ALTERSKATEGORIE_GROB  ANREDE_KZ  CJT_GESAMTTYP  \\\n",
       "0        -1                     2          1            2.0   \n",
       "1        -1                     1          2            5.0   \n",
       "2        -1                     3          2            3.0   \n",
       "3         2                     4          2            2.0   \n",
       "4        -1                     3          1            5.0   \n",
       "\n",
       "   FINANZ_MINIMALIST  FINANZ_SPARER  FINANZ_VORSORGER  FINANZ_ANLEGER  \\\n",
       "0                  3              4                 3               5   \n",
       "1                  1              5                 2               5   \n",
       "2                  1              4                 1               2   \n",
       "3                  4              2                 5               2   \n",
       "4                  4              3                 4               1   \n",
       "\n",
       "   FINANZ_UNAUFFAELLIGER  FINANZ_HAUSBAUER    ...     PLZ8_ANTG1  PLZ8_ANTG2  \\\n",
       "0                      5                 3    ...            NaN         NaN   \n",
       "1                      4                 5    ...            2.0         3.0   \n",
       "2                      3                 5    ...            3.0         3.0   \n",
       "3                      1                 2    ...            2.0         2.0   \n",
       "4                      3                 2    ...            2.0         4.0   \n",
       "\n",
       "   PLZ8_ANTG3  PLZ8_ANTG4  PLZ8_BAUMAX  PLZ8_HHZ  PLZ8_GBZ  ARBEIT  \\\n",
       "0         NaN         NaN          NaN       NaN       NaN     NaN   \n",
       "1         2.0         1.0          1.0       5.0       4.0     3.0   \n",
       "2         1.0         0.0          1.0       4.0       4.0     3.0   \n",
       "3         2.0         0.0          1.0       3.0       4.0     2.0   \n",
       "4         2.0         1.0          2.0       3.0       3.0     4.0   \n",
       "\n",
       "   ORTSGR_KLS9  RELAT_AB  \n",
       "0          NaN       NaN  \n",
       "1          5.0       4.0  \n",
       "2          5.0       2.0  \n",
       "3          3.0       3.0  \n",
       "4          6.0       5.0  \n",
       "\n",
       "[5 rows x 85 columns]"
      ]
     },
     "execution_count": 7,
     "metadata": {},
     "output_type": "execute_result"
    }
   ],
   "source": [
    "print('The AZDIAS dataset has {} rows and {} columns.'.format(azdias.shape[0], azdias.shape[1]))\n",
    "azdias.head()"
   ]
  },
  {
   "cell_type": "code",
   "execution_count": 8,
   "metadata": {},
   "outputs": [
    {
     "name": "stdout",
     "output_type": "stream",
     "text": [
      "<class 'pandas.core.frame.DataFrame'>\n",
      "RangeIndex: 891221 entries, 0 to 891220\n",
      "Data columns (total 85 columns):\n",
      "AGER_TYP                 891221 non-null int64\n",
      "ALTERSKATEGORIE_GROB     891221 non-null int64\n",
      "ANREDE_KZ                891221 non-null int64\n",
      "CJT_GESAMTTYP            886367 non-null float64\n",
      "FINANZ_MINIMALIST        891221 non-null int64\n",
      "FINANZ_SPARER            891221 non-null int64\n",
      "FINANZ_VORSORGER         891221 non-null int64\n",
      "FINANZ_ANLEGER           891221 non-null int64\n",
      "FINANZ_UNAUFFAELLIGER    891221 non-null int64\n",
      "FINANZ_HAUSBAUER         891221 non-null int64\n",
      "FINANZTYP                891221 non-null int64\n",
      "GEBURTSJAHR              891221 non-null int64\n",
      "GFK_URLAUBERTYP          886367 non-null float64\n",
      "GREEN_AVANTGARDE         891221 non-null int64\n",
      "HEALTH_TYP               891221 non-null int64\n",
      "LP_LEBENSPHASE_FEIN      886367 non-null float64\n",
      "LP_LEBENSPHASE_GROB      886367 non-null float64\n",
      "LP_FAMILIE_FEIN          886367 non-null float64\n",
      "LP_FAMILIE_GROB          886367 non-null float64\n",
      "LP_STATUS_FEIN           886367 non-null float64\n",
      "LP_STATUS_GROB           886367 non-null float64\n",
      "NATIONALITAET_KZ         891221 non-null int64\n",
      "PRAEGENDE_JUGENDJAHRE    891221 non-null int64\n",
      "RETOURTYP_BK_S           886367 non-null float64\n",
      "SEMIO_SOZ                891221 non-null int64\n",
      "SEMIO_FAM                891221 non-null int64\n",
      "SEMIO_REL                891221 non-null int64\n",
      "SEMIO_MAT                891221 non-null int64\n",
      "SEMIO_VERT               891221 non-null int64\n",
      "SEMIO_LUST               891221 non-null int64\n",
      "SEMIO_ERL                891221 non-null int64\n",
      "SEMIO_KULT               891221 non-null int64\n",
      "SEMIO_RAT                891221 non-null int64\n",
      "SEMIO_KRIT               891221 non-null int64\n",
      "SEMIO_DOM                891221 non-null int64\n",
      "SEMIO_KAEM               891221 non-null int64\n",
      "SEMIO_PFLICHT            891221 non-null int64\n",
      "SEMIO_TRADV              891221 non-null int64\n",
      "SHOPPER_TYP              891221 non-null int64\n",
      "SOHO_KZ                  817722 non-null float64\n",
      "TITEL_KZ                 817722 non-null float64\n",
      "VERS_TYP                 891221 non-null int64\n",
      "ZABEOTYP                 891221 non-null int64\n",
      "ALTER_HH                 817722 non-null float64\n",
      "ANZ_PERSONEN             817722 non-null float64\n",
      "ANZ_TITEL                817722 non-null float64\n",
      "HH_EINKOMMEN_SCORE       872873 non-null float64\n",
      "KK_KUNDENTYP             306609 non-null float64\n",
      "W_KEIT_KIND_HH           783619 non-null float64\n",
      "WOHNDAUER_2008           817722 non-null float64\n",
      "ANZ_HAUSHALTE_AKTIV      798073 non-null float64\n",
      "ANZ_HH_TITEL             794213 non-null float64\n",
      "GEBAEUDETYP              798073 non-null float64\n",
      "KONSUMNAEHE              817252 non-null float64\n",
      "MIN_GEBAEUDEJAHR         798073 non-null float64\n",
      "OST_WEST_KZ              798073 non-null object\n",
      "WOHNLAGE                 798073 non-null float64\n",
      "CAMEO_DEUG_2015          792242 non-null object\n",
      "CAMEO_DEU_2015           792242 non-null object\n",
      "CAMEO_INTL_2015          792242 non-null object\n",
      "KBA05_ANTG1              757897 non-null float64\n",
      "KBA05_ANTG2              757897 non-null float64\n",
      "KBA05_ANTG3              757897 non-null float64\n",
      "KBA05_ANTG4              757897 non-null float64\n",
      "KBA05_BAUMAX             757897 non-null float64\n",
      "KBA05_GBZ                757897 non-null float64\n",
      "BALLRAUM                 797481 non-null float64\n",
      "EWDICHTE                 797481 non-null float64\n",
      "INNENSTADT               797481 non-null float64\n",
      "GEBAEUDETYP_RASTER       798066 non-null float64\n",
      "KKK                      770025 non-null float64\n",
      "MOBI_REGIO               757897 non-null float64\n",
      "ONLINE_AFFINITAET        886367 non-null float64\n",
      "REGIOTYP                 770025 non-null float64\n",
      "KBA13_ANZAHL_PKW         785421 non-null float64\n",
      "PLZ8_ANTG1               774706 non-null float64\n",
      "PLZ8_ANTG2               774706 non-null float64\n",
      "PLZ8_ANTG3               774706 non-null float64\n",
      "PLZ8_ANTG4               774706 non-null float64\n",
      "PLZ8_BAUMAX              774706 non-null float64\n",
      "PLZ8_HHZ                 774706 non-null float64\n",
      "PLZ8_GBZ                 774706 non-null float64\n",
      "ARBEIT                   794005 non-null float64\n",
      "ORTSGR_KLS9              794005 non-null float64\n",
      "RELAT_AB                 794005 non-null float64\n",
      "dtypes: float64(49), int64(32), object(4)\n",
      "memory usage: 578.0+ MB\n"
     ]
    }
   ],
   "source": [
    "azdias.info()"
   ]
  },
  {
   "cell_type": "code",
   "execution_count": 9,
   "metadata": {},
   "outputs": [
    {
     "data": {
      "text/html": [
       "<div>\n",
       "<style scoped>\n",
       "    .dataframe tbody tr th:only-of-type {\n",
       "        vertical-align: middle;\n",
       "    }\n",
       "\n",
       "    .dataframe tbody tr th {\n",
       "        vertical-align: top;\n",
       "    }\n",
       "\n",
       "    .dataframe thead th {\n",
       "        text-align: right;\n",
       "    }\n",
       "</style>\n",
       "<table border=\"1\" class=\"dataframe\">\n",
       "  <thead>\n",
       "    <tr style=\"text-align: right;\">\n",
       "      <th></th>\n",
       "      <th>AGER_TYP</th>\n",
       "      <th>ALTERSKATEGORIE_GROB</th>\n",
       "      <th>ANREDE_KZ</th>\n",
       "      <th>CJT_GESAMTTYP</th>\n",
       "      <th>FINANZ_MINIMALIST</th>\n",
       "      <th>FINANZ_SPARER</th>\n",
       "      <th>FINANZ_VORSORGER</th>\n",
       "      <th>FINANZ_ANLEGER</th>\n",
       "      <th>FINANZ_UNAUFFAELLIGER</th>\n",
       "      <th>FINANZ_HAUSBAUER</th>\n",
       "      <th>...</th>\n",
       "      <th>PLZ8_ANTG1</th>\n",
       "      <th>PLZ8_ANTG2</th>\n",
       "      <th>PLZ8_ANTG3</th>\n",
       "      <th>PLZ8_ANTG4</th>\n",
       "      <th>PLZ8_BAUMAX</th>\n",
       "      <th>PLZ8_HHZ</th>\n",
       "      <th>PLZ8_GBZ</th>\n",
       "      <th>ARBEIT</th>\n",
       "      <th>ORTSGR_KLS9</th>\n",
       "      <th>RELAT_AB</th>\n",
       "    </tr>\n",
       "  </thead>\n",
       "  <tbody>\n",
       "    <tr>\n",
       "      <th>count</th>\n",
       "      <td>891221.000000</td>\n",
       "      <td>891221.000000</td>\n",
       "      <td>891221.000000</td>\n",
       "      <td>886367.000000</td>\n",
       "      <td>891221.000000</td>\n",
       "      <td>891221.000000</td>\n",
       "      <td>891221.000000</td>\n",
       "      <td>891221.000000</td>\n",
       "      <td>891221.000000</td>\n",
       "      <td>891221.000000</td>\n",
       "      <td>...</td>\n",
       "      <td>774706.000000</td>\n",
       "      <td>774706.000000</td>\n",
       "      <td>774706.000000</td>\n",
       "      <td>774706.000000</td>\n",
       "      <td>774706.000000</td>\n",
       "      <td>774706.000000</td>\n",
       "      <td>774706.000000</td>\n",
       "      <td>794005.000000</td>\n",
       "      <td>794005.000000</td>\n",
       "      <td>794005.00000</td>\n",
       "    </tr>\n",
       "    <tr>\n",
       "      <th>mean</th>\n",
       "      <td>-0.358435</td>\n",
       "      <td>2.777398</td>\n",
       "      <td>1.522098</td>\n",
       "      <td>3.632838</td>\n",
       "      <td>3.074528</td>\n",
       "      <td>2.821039</td>\n",
       "      <td>3.401106</td>\n",
       "      <td>3.033328</td>\n",
       "      <td>2.874167</td>\n",
       "      <td>3.075121</td>\n",
       "      <td>...</td>\n",
       "      <td>2.253330</td>\n",
       "      <td>2.801858</td>\n",
       "      <td>1.595426</td>\n",
       "      <td>0.699166</td>\n",
       "      <td>1.943913</td>\n",
       "      <td>3.612821</td>\n",
       "      <td>3.381087</td>\n",
       "      <td>3.167854</td>\n",
       "      <td>5.293002</td>\n",
       "      <td>3.07222</td>\n",
       "    </tr>\n",
       "    <tr>\n",
       "      <th>std</th>\n",
       "      <td>1.198724</td>\n",
       "      <td>1.068775</td>\n",
       "      <td>0.499512</td>\n",
       "      <td>1.595021</td>\n",
       "      <td>1.321055</td>\n",
       "      <td>1.464749</td>\n",
       "      <td>1.322134</td>\n",
       "      <td>1.529603</td>\n",
       "      <td>1.486731</td>\n",
       "      <td>1.353248</td>\n",
       "      <td>...</td>\n",
       "      <td>0.972008</td>\n",
       "      <td>0.920309</td>\n",
       "      <td>0.986736</td>\n",
       "      <td>0.727137</td>\n",
       "      <td>1.459654</td>\n",
       "      <td>0.973967</td>\n",
       "      <td>1.111598</td>\n",
       "      <td>1.002376</td>\n",
       "      <td>2.303739</td>\n",
       "      <td>1.36298</td>\n",
       "    </tr>\n",
       "    <tr>\n",
       "      <th>min</th>\n",
       "      <td>-1.000000</td>\n",
       "      <td>1.000000</td>\n",
       "      <td>1.000000</td>\n",
       "      <td>1.000000</td>\n",
       "      <td>1.000000</td>\n",
       "      <td>1.000000</td>\n",
       "      <td>1.000000</td>\n",
       "      <td>1.000000</td>\n",
       "      <td>1.000000</td>\n",
       "      <td>1.000000</td>\n",
       "      <td>...</td>\n",
       "      <td>0.000000</td>\n",
       "      <td>0.000000</td>\n",
       "      <td>0.000000</td>\n",
       "      <td>0.000000</td>\n",
       "      <td>1.000000</td>\n",
       "      <td>1.000000</td>\n",
       "      <td>1.000000</td>\n",
       "      <td>1.000000</td>\n",
       "      <td>0.000000</td>\n",
       "      <td>1.00000</td>\n",
       "    </tr>\n",
       "    <tr>\n",
       "      <th>25%</th>\n",
       "      <td>-1.000000</td>\n",
       "      <td>2.000000</td>\n",
       "      <td>1.000000</td>\n",
       "      <td>2.000000</td>\n",
       "      <td>2.000000</td>\n",
       "      <td>1.000000</td>\n",
       "      <td>3.000000</td>\n",
       "      <td>2.000000</td>\n",
       "      <td>2.000000</td>\n",
       "      <td>2.000000</td>\n",
       "      <td>...</td>\n",
       "      <td>1.000000</td>\n",
       "      <td>2.000000</td>\n",
       "      <td>1.000000</td>\n",
       "      <td>0.000000</td>\n",
       "      <td>1.000000</td>\n",
       "      <td>3.000000</td>\n",
       "      <td>3.000000</td>\n",
       "      <td>3.000000</td>\n",
       "      <td>4.000000</td>\n",
       "      <td>2.00000</td>\n",
       "    </tr>\n",
       "    <tr>\n",
       "      <th>50%</th>\n",
       "      <td>-1.000000</td>\n",
       "      <td>3.000000</td>\n",
       "      <td>2.000000</td>\n",
       "      <td>4.000000</td>\n",
       "      <td>3.000000</td>\n",
       "      <td>3.000000</td>\n",
       "      <td>3.000000</td>\n",
       "      <td>3.000000</td>\n",
       "      <td>3.000000</td>\n",
       "      <td>3.000000</td>\n",
       "      <td>...</td>\n",
       "      <td>2.000000</td>\n",
       "      <td>3.000000</td>\n",
       "      <td>2.000000</td>\n",
       "      <td>1.000000</td>\n",
       "      <td>1.000000</td>\n",
       "      <td>4.000000</td>\n",
       "      <td>3.000000</td>\n",
       "      <td>3.000000</td>\n",
       "      <td>5.000000</td>\n",
       "      <td>3.00000</td>\n",
       "    </tr>\n",
       "    <tr>\n",
       "      <th>75%</th>\n",
       "      <td>-1.000000</td>\n",
       "      <td>4.000000</td>\n",
       "      <td>2.000000</td>\n",
       "      <td>5.000000</td>\n",
       "      <td>4.000000</td>\n",
       "      <td>4.000000</td>\n",
       "      <td>5.000000</td>\n",
       "      <td>5.000000</td>\n",
       "      <td>4.000000</td>\n",
       "      <td>4.000000</td>\n",
       "      <td>...</td>\n",
       "      <td>3.000000</td>\n",
       "      <td>3.000000</td>\n",
       "      <td>2.000000</td>\n",
       "      <td>1.000000</td>\n",
       "      <td>3.000000</td>\n",
       "      <td>4.000000</td>\n",
       "      <td>4.000000</td>\n",
       "      <td>4.000000</td>\n",
       "      <td>7.000000</td>\n",
       "      <td>4.00000</td>\n",
       "    </tr>\n",
       "    <tr>\n",
       "      <th>max</th>\n",
       "      <td>3.000000</td>\n",
       "      <td>9.000000</td>\n",
       "      <td>2.000000</td>\n",
       "      <td>6.000000</td>\n",
       "      <td>5.000000</td>\n",
       "      <td>5.000000</td>\n",
       "      <td>5.000000</td>\n",
       "      <td>5.000000</td>\n",
       "      <td>5.000000</td>\n",
       "      <td>5.000000</td>\n",
       "      <td>...</td>\n",
       "      <td>4.000000</td>\n",
       "      <td>4.000000</td>\n",
       "      <td>3.000000</td>\n",
       "      <td>2.000000</td>\n",
       "      <td>5.000000</td>\n",
       "      <td>5.000000</td>\n",
       "      <td>5.000000</td>\n",
       "      <td>9.000000</td>\n",
       "      <td>9.000000</td>\n",
       "      <td>9.00000</td>\n",
       "    </tr>\n",
       "  </tbody>\n",
       "</table>\n",
       "<p>8 rows × 81 columns</p>\n",
       "</div>"
      ],
      "text/plain": [
       "            AGER_TYP  ALTERSKATEGORIE_GROB      ANREDE_KZ  CJT_GESAMTTYP  \\\n",
       "count  891221.000000         891221.000000  891221.000000  886367.000000   \n",
       "mean       -0.358435              2.777398       1.522098       3.632838   \n",
       "std         1.198724              1.068775       0.499512       1.595021   \n",
       "min        -1.000000              1.000000       1.000000       1.000000   \n",
       "25%        -1.000000              2.000000       1.000000       2.000000   \n",
       "50%        -1.000000              3.000000       2.000000       4.000000   \n",
       "75%        -1.000000              4.000000       2.000000       5.000000   \n",
       "max         3.000000              9.000000       2.000000       6.000000   \n",
       "\n",
       "       FINANZ_MINIMALIST  FINANZ_SPARER  FINANZ_VORSORGER  FINANZ_ANLEGER  \\\n",
       "count      891221.000000  891221.000000     891221.000000   891221.000000   \n",
       "mean            3.074528       2.821039          3.401106        3.033328   \n",
       "std             1.321055       1.464749          1.322134        1.529603   \n",
       "min             1.000000       1.000000          1.000000        1.000000   \n",
       "25%             2.000000       1.000000          3.000000        2.000000   \n",
       "50%             3.000000       3.000000          3.000000        3.000000   \n",
       "75%             4.000000       4.000000          5.000000        5.000000   \n",
       "max             5.000000       5.000000          5.000000        5.000000   \n",
       "\n",
       "       FINANZ_UNAUFFAELLIGER  FINANZ_HAUSBAUER      ...          PLZ8_ANTG1  \\\n",
       "count          891221.000000     891221.000000      ...       774706.000000   \n",
       "mean                2.874167          3.075121      ...            2.253330   \n",
       "std                 1.486731          1.353248      ...            0.972008   \n",
       "min                 1.000000          1.000000      ...            0.000000   \n",
       "25%                 2.000000          2.000000      ...            1.000000   \n",
       "50%                 3.000000          3.000000      ...            2.000000   \n",
       "75%                 4.000000          4.000000      ...            3.000000   \n",
       "max                 5.000000          5.000000      ...            4.000000   \n",
       "\n",
       "          PLZ8_ANTG2     PLZ8_ANTG3     PLZ8_ANTG4    PLZ8_BAUMAX  \\\n",
       "count  774706.000000  774706.000000  774706.000000  774706.000000   \n",
       "mean        2.801858       1.595426       0.699166       1.943913   \n",
       "std         0.920309       0.986736       0.727137       1.459654   \n",
       "min         0.000000       0.000000       0.000000       1.000000   \n",
       "25%         2.000000       1.000000       0.000000       1.000000   \n",
       "50%         3.000000       2.000000       1.000000       1.000000   \n",
       "75%         3.000000       2.000000       1.000000       3.000000   \n",
       "max         4.000000       3.000000       2.000000       5.000000   \n",
       "\n",
       "            PLZ8_HHZ       PLZ8_GBZ         ARBEIT    ORTSGR_KLS9  \\\n",
       "count  774706.000000  774706.000000  794005.000000  794005.000000   \n",
       "mean        3.612821       3.381087       3.167854       5.293002   \n",
       "std         0.973967       1.111598       1.002376       2.303739   \n",
       "min         1.000000       1.000000       1.000000       0.000000   \n",
       "25%         3.000000       3.000000       3.000000       4.000000   \n",
       "50%         4.000000       3.000000       3.000000       5.000000   \n",
       "75%         4.000000       4.000000       4.000000       7.000000   \n",
       "max         5.000000       5.000000       9.000000       9.000000   \n",
       "\n",
       "           RELAT_AB  \n",
       "count  794005.00000  \n",
       "mean        3.07222  \n",
       "std         1.36298  \n",
       "min         1.00000  \n",
       "25%         2.00000  \n",
       "50%         3.00000  \n",
       "75%         4.00000  \n",
       "max         9.00000  \n",
       "\n",
       "[8 rows x 81 columns]"
      ]
     },
     "execution_count": 9,
     "metadata": {},
     "output_type": "execute_result"
    }
   ],
   "source": [
    "azdias.describe()"
   ]
  },
  {
   "cell_type": "code",
   "execution_count": 10,
   "metadata": {},
   "outputs": [
    {
     "data": {
      "text/plain": [
       "(891221, 85)"
      ]
     },
     "execution_count": 10,
     "metadata": {},
     "output_type": "execute_result"
    }
   ],
   "source": [
    "azdias.shape"
   ]
  },
  {
   "cell_type": "markdown",
   "metadata": {},
   "source": [
    "## Step 1: Preprocessing\n",
    "\n",
    "### Step 1.1: Assess Missing Data\n",
    "\n",
    "The feature summary file contains a summary of properties for each demographics data column. You will use this file to help you make cleaning decisions during this stage of the project. First of all, you should assess the demographics data in terms of missing data. Pay attention to the following points as you perform your analysis, and take notes on what you observe. Make sure that you fill in the **Discussion** cell with your findings and decisions at the end of each step that has one!\n",
    "\n",
    "#### Step 1.1.1: Convert Missing Value Codes to NaNs\n",
    "The fourth column of the feature attributes summary (loaded in above as `feat_info`) documents the codes from the data dictionary that indicate missing or unknown data. While the file encodes this as a list (e.g. `[-1,0]`), this will get read in as a string object. You'll need to do a little bit of parsing to make use of it to identify and clean the data. Convert data that matches a 'missing' or 'unknown' value code into a numpy NaN value. You might want to see how much data takes on a 'missing' or 'unknown' code, and how much data is naturally missing, as a point of interest.\n",
    "\n",
    "**As one more reminder, you are encouraged to add additional cells to break up your analysis into manageable chunks.**"
   ]
  },
  {
   "cell_type": "code",
   "execution_count": 11,
   "metadata": {},
   "outputs": [],
   "source": [
    "#Create copy of dataset to clean it\n",
    "feat_info_clean = feat_info.copy(deep = True)\n",
    "azdias_clean = azdias.copy(deep = True)"
   ]
  },
  {
   "cell_type": "code",
   "execution_count": 12,
   "metadata": {},
   "outputs": [],
   "source": [
    "natural_missing_values = (azdias_clean.isnull().sum()/azdias_clean.shape[0]*100).sort_values(ascending = False)"
   ]
  },
  {
   "cell_type": "code",
   "execution_count": 13,
   "metadata": {},
   "outputs": [
    {
     "data": {
      "text/plain": [
       "KK_KUNDENTYP    65.596749\n",
       "KBA05_ANTG1     14.959701\n",
       "KBA05_ANTG2     14.959701\n",
       "KBA05_ANTG3     14.959701\n",
       "KBA05_ANTG4     14.959701\n",
       "dtype: float64"
      ]
     },
     "execution_count": 13,
     "metadata": {},
     "output_type": "execute_result"
    }
   ],
   "source": [
    "natural_missing_values[:5]"
   ]
  },
  {
   "cell_type": "code",
   "execution_count": 14,
   "metadata": {},
   "outputs": [
    {
     "data": {
      "text/plain": [
       "35"
      ]
     },
     "execution_count": 14,
     "metadata": {},
     "output_type": "execute_result"
    }
   ],
   "source": [
    "(natural_missing_values> 10).sum()"
   ]
  },
  {
   "cell_type": "markdown",
   "metadata": {},
   "source": [
    "**Note:**\n",
    "\n",
    "To assess what missing or unknow values have to be replaced by `np.nan` values following steps will be taken:\n",
    "\n",
    "1. Eliminate unnecessary characters from `missing_or_unknown` column of `feat_info_clean`\n",
    "2. Split characters to a list\n",
    "3. Convert characters to floats\n",
    "4. Use floats to replace values in `azdias_clean` dataframe"
   ]
  },
  {
   "cell_type": "code",
   "execution_count": 15,
   "metadata": {},
   "outputs": [],
   "source": [
    "def eliminate_characters(data_column, characters):\n",
    "    '''This function aims to eliminate a set of characters from a specific column in a datest\n",
    "    INPUT: \n",
    "        1. Data column in which the characters should be eliminated\n",
    "        2. Character or list of characters that should be eliminated from data column\n",
    "    OUTPUT:\n",
    "        1. None\n",
    "        '''\n",
    "    data_column.replace(to_replace = characters, value = '', regex = True, inplace = True)"
   ]
  },
  {
   "cell_type": "code",
   "execution_count": 16,
   "metadata": {},
   "outputs": [],
   "source": [
    "characters = ['\\[', '\\]']\n",
    "\n",
    "eliminate_characters(feat_info_clean.missing_or_unknown, characters)"
   ]
  },
  {
   "cell_type": "code",
   "execution_count": 17,
   "metadata": {},
   "outputs": [
    {
     "data": {
      "text/html": [
       "<div>\n",
       "<style scoped>\n",
       "    .dataframe tbody tr th:only-of-type {\n",
       "        vertical-align: middle;\n",
       "    }\n",
       "\n",
       "    .dataframe tbody tr th {\n",
       "        vertical-align: top;\n",
       "    }\n",
       "\n",
       "    .dataframe thead th {\n",
       "        text-align: right;\n",
       "    }\n",
       "</style>\n",
       "<table border=\"1\" class=\"dataframe\">\n",
       "  <thead>\n",
       "    <tr style=\"text-align: right;\">\n",
       "      <th></th>\n",
       "      <th>attribute</th>\n",
       "      <th>information_level</th>\n",
       "      <th>type</th>\n",
       "      <th>missing_or_unknown</th>\n",
       "    </tr>\n",
       "  </thead>\n",
       "  <tbody>\n",
       "    <tr>\n",
       "      <th>0</th>\n",
       "      <td>AGER_TYP</td>\n",
       "      <td>person</td>\n",
       "      <td>categorical</td>\n",
       "      <td>-1,0</td>\n",
       "    </tr>\n",
       "    <tr>\n",
       "      <th>1</th>\n",
       "      <td>ALTERSKATEGORIE_GROB</td>\n",
       "      <td>person</td>\n",
       "      <td>ordinal</td>\n",
       "      <td>-1,0,9</td>\n",
       "    </tr>\n",
       "    <tr>\n",
       "      <th>2</th>\n",
       "      <td>ANREDE_KZ</td>\n",
       "      <td>person</td>\n",
       "      <td>categorical</td>\n",
       "      <td>-1,0</td>\n",
       "    </tr>\n",
       "  </tbody>\n",
       "</table>\n",
       "</div>"
      ],
      "text/plain": [
       "              attribute information_level         type missing_or_unknown\n",
       "0              AGER_TYP            person  categorical               -1,0\n",
       "1  ALTERSKATEGORIE_GROB            person      ordinal             -1,0,9\n",
       "2             ANREDE_KZ            person  categorical               -1,0"
      ]
     },
     "execution_count": 17,
     "metadata": {},
     "output_type": "execute_result"
    }
   ],
   "source": [
    "feat_info_clean.head(3)"
   ]
  },
  {
   "cell_type": "code",
   "execution_count": 18,
   "metadata": {},
   "outputs": [],
   "source": [
    "feat_info_clean.missing_or_unknown = feat_info_clean.missing_or_unknown.str.split(',')"
   ]
  },
  {
   "cell_type": "code",
   "execution_count": 19,
   "metadata": {},
   "outputs": [
    {
     "data": {
      "text/html": [
       "<div>\n",
       "<style scoped>\n",
       "    .dataframe tbody tr th:only-of-type {\n",
       "        vertical-align: middle;\n",
       "    }\n",
       "\n",
       "    .dataframe tbody tr th {\n",
       "        vertical-align: top;\n",
       "    }\n",
       "\n",
       "    .dataframe thead th {\n",
       "        text-align: right;\n",
       "    }\n",
       "</style>\n",
       "<table border=\"1\" class=\"dataframe\">\n",
       "  <thead>\n",
       "    <tr style=\"text-align: right;\">\n",
       "      <th></th>\n",
       "      <th>attribute</th>\n",
       "      <th>information_level</th>\n",
       "      <th>type</th>\n",
       "      <th>missing_or_unknown</th>\n",
       "    </tr>\n",
       "  </thead>\n",
       "  <tbody>\n",
       "    <tr>\n",
       "      <th>0</th>\n",
       "      <td>AGER_TYP</td>\n",
       "      <td>person</td>\n",
       "      <td>categorical</td>\n",
       "      <td>[-1, 0]</td>\n",
       "    </tr>\n",
       "    <tr>\n",
       "      <th>1</th>\n",
       "      <td>ALTERSKATEGORIE_GROB</td>\n",
       "      <td>person</td>\n",
       "      <td>ordinal</td>\n",
       "      <td>[-1, 0, 9]</td>\n",
       "    </tr>\n",
       "    <tr>\n",
       "      <th>2</th>\n",
       "      <td>ANREDE_KZ</td>\n",
       "      <td>person</td>\n",
       "      <td>categorical</td>\n",
       "      <td>[-1, 0]</td>\n",
       "    </tr>\n",
       "    <tr>\n",
       "      <th>3</th>\n",
       "      <td>CJT_GESAMTTYP</td>\n",
       "      <td>person</td>\n",
       "      <td>categorical</td>\n",
       "      <td>[0]</td>\n",
       "    </tr>\n",
       "    <tr>\n",
       "      <th>4</th>\n",
       "      <td>FINANZ_MINIMALIST</td>\n",
       "      <td>person</td>\n",
       "      <td>ordinal</td>\n",
       "      <td>[-1]</td>\n",
       "    </tr>\n",
       "  </tbody>\n",
       "</table>\n",
       "</div>"
      ],
      "text/plain": [
       "              attribute information_level         type missing_or_unknown\n",
       "0              AGER_TYP            person  categorical            [-1, 0]\n",
       "1  ALTERSKATEGORIE_GROB            person      ordinal         [-1, 0, 9]\n",
       "2             ANREDE_KZ            person  categorical            [-1, 0]\n",
       "3         CJT_GESAMTTYP            person  categorical                [0]\n",
       "4     FINANZ_MINIMALIST            person      ordinal               [-1]"
      ]
     },
     "execution_count": 19,
     "metadata": {},
     "output_type": "execute_result"
    }
   ],
   "source": [
    "feat_info_clean.head()"
   ]
  },
  {
   "cell_type": "code",
   "execution_count": 20,
   "metadata": {},
   "outputs": [],
   "source": [
    "unknown_missing_values_list = feat_info_clean.missing_or_unknown.tolist()"
   ]
  },
  {
   "cell_type": "code",
   "execution_count": 21,
   "metadata": {},
   "outputs": [],
   "source": [
    "def convert_to_float(values_list):\n",
    "    '''This function takes as input a nested list (2 levels) and converts all numerical values to floats in place while\n",
    "    ignoring strings or empty strings.\n",
    "    INPUT: List of values to be transformed\n",
    "    OUTPUT: None\n",
    "    '''\n",
    "    for i in range(len(values_list)):\n",
    "        for j in range(len(values_list[i])):\n",
    "            if re.search(r'[A-Z]+', values_list[i][j]) or re.search(r'^$', values_list[i][j]):\n",
    "                pass\n",
    "            else:\n",
    "                values_list[i][j] = float(values_list[i][j])"
   ]
  },
  {
   "cell_type": "code",
   "execution_count": 22,
   "metadata": {},
   "outputs": [],
   "source": [
    "convert_to_float(unknown_missing_values_list)"
   ]
  },
  {
   "cell_type": "code",
   "execution_count": 23,
   "metadata": {},
   "outputs": [
    {
     "data": {
      "text/plain": [
       "[[-1.0, 0.0],\n",
       " [-1.0, 0.0, 9.0],\n",
       " [-1.0, 0.0],\n",
       " [0.0],\n",
       " [-1.0],\n",
       " [-1.0],\n",
       " [-1.0],\n",
       " [-1.0],\n",
       " [-1.0],\n",
       " [-1.0],\n",
       " [-1.0],\n",
       " [0.0],\n",
       " [''],\n",
       " [''],\n",
       " [-1.0, 0.0]]"
      ]
     },
     "execution_count": 23,
     "metadata": {},
     "output_type": "execute_result"
    }
   ],
   "source": [
    "unknown_missing_values_list[:15]"
   ]
  },
  {
   "cell_type": "markdown",
   "metadata": {},
   "source": [
    "**NOTE:**\n",
    "\n",
    "There are multiple values in the `unknown_missing_values_list` that are empty strings. In the next steps, the columns that should have empty strings encoded as `np.nan` values will be investigated to make sure that conversion of unknown and missing values to `np.nan` values runs smoothly. "
   ]
  },
  {
   "cell_type": "code",
   "execution_count": 24,
   "metadata": {},
   "outputs": [
    {
     "data": {
      "text/plain": [
       "[12, 13, 44, 45, 51, 53, 69, 71, 72, 74]"
      ]
     },
     "execution_count": 24,
     "metadata": {},
     "output_type": "execute_result"
    }
   ],
   "source": [
    "empty_strings = []\n",
    "for i in range(len(unknown_missing_values_list)):\n",
    "    for item in unknown_missing_values_list[i]:\n",
    "        if item == '':\n",
    "            empty_strings.append(i)\n",
    "empty_strings"
   ]
  },
  {
   "cell_type": "code",
   "execution_count": 25,
   "metadata": {},
   "outputs": [
    {
     "data": {
      "text/plain": [
       "['GFK_URLAUBERTYP',\n",
       " 'GREEN_AVANTGARDE',\n",
       " 'ANZ_PERSONEN',\n",
       " 'ANZ_TITEL',\n",
       " 'ANZ_HH_TITEL',\n",
       " 'KONSUMNAEHE',\n",
       " 'GEBAEUDETYP_RASTER',\n",
       " 'MOBI_REGIO',\n",
       " 'ONLINE_AFFINITAET',\n",
       " 'KBA13_ANZAHL_PKW']"
      ]
     },
     "execution_count": 25,
     "metadata": {},
     "output_type": "execute_result"
    }
   ],
   "source": [
    "column_names = azdias_clean.columns\n",
    "columns_to_check = []\n",
    "for value in empty_strings:\n",
    "    columns_to_check.append(column_names[value])\n",
    "    \n",
    "columns_to_check"
   ]
  },
  {
   "cell_type": "code",
   "execution_count": 26,
   "metadata": {},
   "outputs": [
    {
     "name": "stdout",
     "output_type": "stream",
     "text": [
      "Unique values in column GFK_URLAUBERTYP: [ 10.   1.   5.  12.   9.   3.   8.  11.   4.   2.   7.   6.  nan]\n",
      "Unique values in column GREEN_AVANTGARDE: [0 1]\n",
      "Unique values in column ANZ_PERSONEN: [ nan   2.   1.   0.   4.   3.   5.   7.   6.   8.  12.   9.  21.  10.  13.\n",
      "  11.  14.  45.  20.  31.  29.  37.  16.  22.  15.  23.  18.  35.  17.  40.\n",
      "  38.]\n",
      "Unique values in column ANZ_TITEL: [ nan   0.   1.   2.   4.   3.   6.]\n",
      "Unique values in column ANZ_HH_TITEL: [ nan   0.   1.   5.   2.   3.   7.   4.   6.   9.  15.  14.   8.  11.  10.\n",
      "  12.  13.  20.  16.  17.  23.  18.]\n",
      "Unique values in column KONSUMNAEHE: [ nan   1.   5.   4.   3.   2.   6.   7.]\n",
      "Unique values in column GEBAEUDETYP_RASTER: [ nan   3.   4.   5.   1.   2.]\n",
      "Unique values in column MOBI_REGIO: [ nan   1.   3.   4.   5.   2.   6.]\n",
      "Unique values in column ONLINE_AFFINITAET: [  1.   3.   2.   5.   4.   0.  nan]\n",
      "Unique values in column KBA13_ANZAHL_PKW: [  nan  963.  712. ...,    2.   30.    7.]\n"
     ]
    }
   ],
   "source": [
    "for column in columns_to_check:\n",
    "    print('Unique values in column {}: {}'.format(column, azdias_clean[column].unique()))"
   ]
  },
  {
   "cell_type": "markdown",
   "metadata": {},
   "source": [
    "**Note:**\n",
    "\n",
    "It looks as if the columns that should have empty strings do not have any. Therefore in the `replace_by_nan` function all missing or unknown values encoded as an empty string will be ignored."
   ]
  },
  {
   "cell_type": "code",
   "execution_count": 27,
   "metadata": {},
   "outputs": [],
   "source": [
    "def replace_by_nan(missing_values_list, column_referece_list):\n",
    "    ''' This function replaces all values encoded in the missing_values_list by np.nan values\n",
    "    INPUT: \n",
    "        1. List encoding all values that should be replaced by np.nan values\n",
    "        2. List of columns on which the values should be replaced by np.nan values\n",
    "    OUTPUT:\n",
    "        2. Dictionary containig the column name and the values that should be replaced mapped to np.nan values.\n",
    "        This dict can be used with the pd.DataFrame.replace() function to replace the desired values\n",
    "        '''\n",
    "    replace_values = {}\n",
    "    for idx, i in enumerate(missing_values_list):\n",
    "        temp_dict = {}\n",
    "        for j in i:\n",
    "            if j != '':\n",
    "                temp_dict[j] = np.nan\n",
    "                replace_values[column_referece_list[idx]] = temp_dict\n",
    "    return replace_values"
   ]
  },
  {
   "cell_type": "code",
   "execution_count": 28,
   "metadata": {},
   "outputs": [],
   "source": [
    "azdias_clean = azdias_clean.replace(replace_by_nan(unknown_missing_values_list, column_names))"
   ]
  },
  {
   "cell_type": "code",
   "execution_count": 29,
   "metadata": {},
   "outputs": [
    {
     "data": {
      "text/html": [
       "<div>\n",
       "<style scoped>\n",
       "    .dataframe tbody tr th:only-of-type {\n",
       "        vertical-align: middle;\n",
       "    }\n",
       "\n",
       "    .dataframe tbody tr th {\n",
       "        vertical-align: top;\n",
       "    }\n",
       "\n",
       "    .dataframe thead th {\n",
       "        text-align: right;\n",
       "    }\n",
       "</style>\n",
       "<table border=\"1\" class=\"dataframe\">\n",
       "  <thead>\n",
       "    <tr style=\"text-align: right;\">\n",
       "      <th></th>\n",
       "      <th>AGER_TYP</th>\n",
       "      <th>ALTERSKATEGORIE_GROB</th>\n",
       "      <th>ANREDE_KZ</th>\n",
       "      <th>CJT_GESAMTTYP</th>\n",
       "      <th>FINANZ_MINIMALIST</th>\n",
       "      <th>FINANZ_SPARER</th>\n",
       "      <th>FINANZ_VORSORGER</th>\n",
       "      <th>FINANZ_ANLEGER</th>\n",
       "      <th>FINANZ_UNAUFFAELLIGER</th>\n",
       "      <th>FINANZ_HAUSBAUER</th>\n",
       "      <th>...</th>\n",
       "      <th>PLZ8_ANTG1</th>\n",
       "      <th>PLZ8_ANTG2</th>\n",
       "      <th>PLZ8_ANTG3</th>\n",
       "      <th>PLZ8_ANTG4</th>\n",
       "      <th>PLZ8_BAUMAX</th>\n",
       "      <th>PLZ8_HHZ</th>\n",
       "      <th>PLZ8_GBZ</th>\n",
       "      <th>ARBEIT</th>\n",
       "      <th>ORTSGR_KLS9</th>\n",
       "      <th>RELAT_AB</th>\n",
       "    </tr>\n",
       "  </thead>\n",
       "  <tbody>\n",
       "  </tbody>\n",
       "</table>\n",
       "<p>0 rows × 85 columns</p>\n",
       "</div>"
      ],
      "text/plain": [
       "Empty DataFrame\n",
       "Columns: [AGER_TYP, ALTERSKATEGORIE_GROB, ANREDE_KZ, CJT_GESAMTTYP, FINANZ_MINIMALIST, FINANZ_SPARER, FINANZ_VORSORGER, FINANZ_ANLEGER, FINANZ_UNAUFFAELLIGER, FINANZ_HAUSBAUER, FINANZTYP, GEBURTSJAHR, GFK_URLAUBERTYP, GREEN_AVANTGARDE, HEALTH_TYP, LP_LEBENSPHASE_FEIN, LP_LEBENSPHASE_GROB, LP_FAMILIE_FEIN, LP_FAMILIE_GROB, LP_STATUS_FEIN, LP_STATUS_GROB, NATIONALITAET_KZ, PRAEGENDE_JUGENDJAHRE, RETOURTYP_BK_S, SEMIO_SOZ, SEMIO_FAM, SEMIO_REL, SEMIO_MAT, SEMIO_VERT, SEMIO_LUST, SEMIO_ERL, SEMIO_KULT, SEMIO_RAT, SEMIO_KRIT, SEMIO_DOM, SEMIO_KAEM, SEMIO_PFLICHT, SEMIO_TRADV, SHOPPER_TYP, SOHO_KZ, TITEL_KZ, VERS_TYP, ZABEOTYP, ALTER_HH, ANZ_PERSONEN, ANZ_TITEL, HH_EINKOMMEN_SCORE, KK_KUNDENTYP, W_KEIT_KIND_HH, WOHNDAUER_2008, ANZ_HAUSHALTE_AKTIV, ANZ_HH_TITEL, GEBAEUDETYP, KONSUMNAEHE, MIN_GEBAEUDEJAHR, OST_WEST_KZ, WOHNLAGE, CAMEO_DEUG_2015, CAMEO_DEU_2015, CAMEO_INTL_2015, KBA05_ANTG1, KBA05_ANTG2, KBA05_ANTG3, KBA05_ANTG4, KBA05_BAUMAX, KBA05_GBZ, BALLRAUM, EWDICHTE, INNENSTADT, GEBAEUDETYP_RASTER, KKK, MOBI_REGIO, ONLINE_AFFINITAET, REGIOTYP, KBA13_ANZAHL_PKW, PLZ8_ANTG1, PLZ8_ANTG2, PLZ8_ANTG3, PLZ8_ANTG4, PLZ8_BAUMAX, PLZ8_HHZ, PLZ8_GBZ, ARBEIT, ORTSGR_KLS9, RELAT_AB]\n",
       "Index: []\n",
       "\n",
       "[0 rows x 85 columns]"
      ]
     },
     "execution_count": 29,
     "metadata": {},
     "output_type": "execute_result"
    }
   ],
   "source": [
    "#Test to see if the required values have been replaced\n",
    "azdias_clean[azdias_clean['ALTERSKATEGORIE_GROB'] == 9.0]"
   ]
  },
  {
   "cell_type": "markdown",
   "metadata": {},
   "source": [
    "#### Step 1.1.2: Assess Missing Data in Each Column\n",
    "\n",
    "How much missing data is present in each column? There are a few columns that are outliers in terms of the proportion of values that are missing. You will want to use matplotlib's [`hist()`](https://matplotlib.org/api/_as_gen/matplotlib.pyplot.hist.html) function to visualize the distribution of missing value counts to find these columns. Identify and document these columns. While some of these columns might have justifications for keeping or re-encoding the data, for this project you should just remove them from the dataframe. (Feel free to make remarks about these outlier columns in the discussion, however!)\n",
    "\n",
    "For the remaining features, are there any patterns in which columns have, or share, missing data?"
   ]
  },
  {
   "cell_type": "code",
   "execution_count": 30,
   "metadata": {},
   "outputs": [
    {
     "data": {
      "text/plain": [
       "0.71006861979097535"
      ]
     },
     "execution_count": 30,
     "metadata": {},
     "output_type": "execute_result"
    }
   ],
   "source": [
    "(azdias_clean.isnull().sum().sum() - azdias.isnull().sum().sum())/azdias.isnull().sum().sum() "
   ]
  },
  {
   "cell_type": "code",
   "execution_count": 31,
   "metadata": {},
   "outputs": [],
   "source": [
    "missing_before = pd.DataFrame(azdias.isnull().sum(), columns = ['Missing_before_clean'])\n",
    "missing_after = pd.DataFrame(azdias_clean.isnull().sum(), columns = ['Missing_after_clean'])\n"
   ]
  },
  {
   "cell_type": "code",
   "execution_count": 32,
   "metadata": {},
   "outputs": [],
   "source": [
    "comp_missing = pd.merge(missing_before, missing_after,\n",
    "                        left_index = True, right_index = True) "
   ]
  },
  {
   "cell_type": "code",
   "execution_count": 33,
   "metadata": {},
   "outputs": [
    {
     "data": {
      "text/html": [
       "<div>\n",
       "<style scoped>\n",
       "    .dataframe tbody tr th:only-of-type {\n",
       "        vertical-align: middle;\n",
       "    }\n",
       "\n",
       "    .dataframe tbody tr th {\n",
       "        vertical-align: top;\n",
       "    }\n",
       "\n",
       "    .dataframe thead th {\n",
       "        text-align: right;\n",
       "    }\n",
       "</style>\n",
       "<table border=\"1\" class=\"dataframe\">\n",
       "  <thead>\n",
       "    <tr style=\"text-align: right;\">\n",
       "      <th></th>\n",
       "      <th>Missing_before_clean</th>\n",
       "      <th>Missing_after_clean</th>\n",
       "    </tr>\n",
       "  </thead>\n",
       "  <tbody>\n",
       "    <tr>\n",
       "      <th>AGER_TYP</th>\n",
       "      <td>0</td>\n",
       "      <td>685843</td>\n",
       "    </tr>\n",
       "    <tr>\n",
       "      <th>SEMIO_SOZ</th>\n",
       "      <td>0</td>\n",
       "      <td>0</td>\n",
       "    </tr>\n",
       "    <tr>\n",
       "      <th>SEMIO_FAM</th>\n",
       "      <td>0</td>\n",
       "      <td>0</td>\n",
       "    </tr>\n",
       "    <tr>\n",
       "      <th>SEMIO_REL</th>\n",
       "      <td>0</td>\n",
       "      <td>0</td>\n",
       "    </tr>\n",
       "    <tr>\n",
       "      <th>SEMIO_MAT</th>\n",
       "      <td>0</td>\n",
       "      <td>0</td>\n",
       "    </tr>\n",
       "    <tr>\n",
       "      <th>SEMIO_VERT</th>\n",
       "      <td>0</td>\n",
       "      <td>0</td>\n",
       "    </tr>\n",
       "    <tr>\n",
       "      <th>SEMIO_LUST</th>\n",
       "      <td>0</td>\n",
       "      <td>0</td>\n",
       "    </tr>\n",
       "    <tr>\n",
       "      <th>SEMIO_ERL</th>\n",
       "      <td>0</td>\n",
       "      <td>0</td>\n",
       "    </tr>\n",
       "    <tr>\n",
       "      <th>PRAEGENDE_JUGENDJAHRE</th>\n",
       "      <td>0</td>\n",
       "      <td>108164</td>\n",
       "    </tr>\n",
       "    <tr>\n",
       "      <th>SEMIO_KULT</th>\n",
       "      <td>0</td>\n",
       "      <td>0</td>\n",
       "    </tr>\n",
       "    <tr>\n",
       "      <th>SEMIO_KRIT</th>\n",
       "      <td>0</td>\n",
       "      <td>0</td>\n",
       "    </tr>\n",
       "    <tr>\n",
       "      <th>SEMIO_DOM</th>\n",
       "      <td>0</td>\n",
       "      <td>0</td>\n",
       "    </tr>\n",
       "    <tr>\n",
       "      <th>SEMIO_KAEM</th>\n",
       "      <td>0</td>\n",
       "      <td>0</td>\n",
       "    </tr>\n",
       "    <tr>\n",
       "      <th>SEMIO_PFLICHT</th>\n",
       "      <td>0</td>\n",
       "      <td>0</td>\n",
       "    </tr>\n",
       "    <tr>\n",
       "      <th>SEMIO_TRADV</th>\n",
       "      <td>0</td>\n",
       "      <td>0</td>\n",
       "    </tr>\n",
       "  </tbody>\n",
       "</table>\n",
       "</div>"
      ],
      "text/plain": [
       "                       Missing_before_clean  Missing_after_clean\n",
       "AGER_TYP                                  0               685843\n",
       "SEMIO_SOZ                                 0                    0\n",
       "SEMIO_FAM                                 0                    0\n",
       "SEMIO_REL                                 0                    0\n",
       "SEMIO_MAT                                 0                    0\n",
       "SEMIO_VERT                                0                    0\n",
       "SEMIO_LUST                                0                    0\n",
       "SEMIO_ERL                                 0                    0\n",
       "PRAEGENDE_JUGENDJAHRE                     0               108164\n",
       "SEMIO_KULT                                0                    0\n",
       "SEMIO_KRIT                                0                    0\n",
       "SEMIO_DOM                                 0                    0\n",
       "SEMIO_KAEM                                0                    0\n",
       "SEMIO_PFLICHT                             0                    0\n",
       "SEMIO_TRADV                               0                    0"
      ]
     },
     "execution_count": 33,
     "metadata": {},
     "output_type": "execute_result"
    }
   ],
   "source": [
    "comp_missing.sort_values(by = ['Missing_before_clean'],\n",
    "                         ascending = True)[:15]"
   ]
  },
  {
   "cell_type": "code",
   "execution_count": 34,
   "metadata": {},
   "outputs": [],
   "source": [
    "comp_missing['Diff'] = comp_missing['Missing_before_clean'] -comp_missing['Missing_after_clean']\n",
    "comp_missing['Diff_in_%'] = np.round((comp_missing['Diff']/azdias_clean.shape[0])*100, 2)"
   ]
  },
  {
   "cell_type": "code",
   "execution_count": 35,
   "metadata": {},
   "outputs": [
    {
     "data": {
      "text/html": [
       "<div>\n",
       "<style scoped>\n",
       "    .dataframe tbody tr th:only-of-type {\n",
       "        vertical-align: middle;\n",
       "    }\n",
       "\n",
       "    .dataframe tbody tr th {\n",
       "        vertical-align: top;\n",
       "    }\n",
       "\n",
       "    .dataframe thead th {\n",
       "        text-align: right;\n",
       "    }\n",
       "</style>\n",
       "<table border=\"1\" class=\"dataframe\">\n",
       "  <thead>\n",
       "    <tr style=\"text-align: right;\">\n",
       "      <th></th>\n",
       "      <th>Missing_before_clean</th>\n",
       "      <th>Missing_after_clean</th>\n",
       "      <th>Diff</th>\n",
       "      <th>Diff_in_%</th>\n",
       "    </tr>\n",
       "  </thead>\n",
       "  <tbody>\n",
       "    <tr>\n",
       "      <th>AGER_TYP</th>\n",
       "      <td>0</td>\n",
       "      <td>685843</td>\n",
       "      <td>-685843</td>\n",
       "      <td>-76.96</td>\n",
       "    </tr>\n",
       "    <tr>\n",
       "      <th>ALTERSKATEGORIE_GROB</th>\n",
       "      <td>0</td>\n",
       "      <td>2881</td>\n",
       "      <td>-2881</td>\n",
       "      <td>-0.32</td>\n",
       "    </tr>\n",
       "    <tr>\n",
       "      <th>GEBURTSJAHR</th>\n",
       "      <td>0</td>\n",
       "      <td>392318</td>\n",
       "      <td>-392318</td>\n",
       "      <td>-44.02</td>\n",
       "    </tr>\n",
       "    <tr>\n",
       "      <th>HEALTH_TYP</th>\n",
       "      <td>0</td>\n",
       "      <td>111196</td>\n",
       "      <td>-111196</td>\n",
       "      <td>-12.48</td>\n",
       "    </tr>\n",
       "    <tr>\n",
       "      <th>LP_LEBENSPHASE_FEIN</th>\n",
       "      <td>4854</td>\n",
       "      <td>97632</td>\n",
       "      <td>-92778</td>\n",
       "      <td>-10.41</td>\n",
       "    </tr>\n",
       "    <tr>\n",
       "      <th>LP_LEBENSPHASE_GROB</th>\n",
       "      <td>4854</td>\n",
       "      <td>94572</td>\n",
       "      <td>-89718</td>\n",
       "      <td>-10.07</td>\n",
       "    </tr>\n",
       "    <tr>\n",
       "      <th>LP_FAMILIE_FEIN</th>\n",
       "      <td>4854</td>\n",
       "      <td>77792</td>\n",
       "      <td>-72938</td>\n",
       "      <td>-8.18</td>\n",
       "    </tr>\n",
       "    <tr>\n",
       "      <th>LP_FAMILIE_GROB</th>\n",
       "      <td>4854</td>\n",
       "      <td>77792</td>\n",
       "      <td>-72938</td>\n",
       "      <td>-8.18</td>\n",
       "    </tr>\n",
       "    <tr>\n",
       "      <th>NATIONALITAET_KZ</th>\n",
       "      <td>0</td>\n",
       "      <td>108315</td>\n",
       "      <td>-108315</td>\n",
       "      <td>-12.15</td>\n",
       "    </tr>\n",
       "    <tr>\n",
       "      <th>PRAEGENDE_JUGENDJAHRE</th>\n",
       "      <td>0</td>\n",
       "      <td>108164</td>\n",
       "      <td>-108164</td>\n",
       "      <td>-12.14</td>\n",
       "    </tr>\n",
       "    <tr>\n",
       "      <th>SHOPPER_TYP</th>\n",
       "      <td>0</td>\n",
       "      <td>111196</td>\n",
       "      <td>-111196</td>\n",
       "      <td>-12.48</td>\n",
       "    </tr>\n",
       "    <tr>\n",
       "      <th>TITEL_KZ</th>\n",
       "      <td>73499</td>\n",
       "      <td>889061</td>\n",
       "      <td>-815562</td>\n",
       "      <td>-91.51</td>\n",
       "    </tr>\n",
       "    <tr>\n",
       "      <th>VERS_TYP</th>\n",
       "      <td>0</td>\n",
       "      <td>111196</td>\n",
       "      <td>-111196</td>\n",
       "      <td>-12.48</td>\n",
       "    </tr>\n",
       "    <tr>\n",
       "      <th>ALTER_HH</th>\n",
       "      <td>73499</td>\n",
       "      <td>310267</td>\n",
       "      <td>-236768</td>\n",
       "      <td>-26.57</td>\n",
       "    </tr>\n",
       "    <tr>\n",
       "      <th>W_KEIT_KIND_HH</th>\n",
       "      <td>107602</td>\n",
       "      <td>147988</td>\n",
       "      <td>-40386</td>\n",
       "      <td>-4.53</td>\n",
       "    </tr>\n",
       "  </tbody>\n",
       "</table>\n",
       "</div>"
      ],
      "text/plain": [
       "                       Missing_before_clean  Missing_after_clean    Diff  \\\n",
       "AGER_TYP                                  0               685843 -685843   \n",
       "ALTERSKATEGORIE_GROB                      0                 2881   -2881   \n",
       "GEBURTSJAHR                               0               392318 -392318   \n",
       "HEALTH_TYP                                0               111196 -111196   \n",
       "LP_LEBENSPHASE_FEIN                    4854                97632  -92778   \n",
       "LP_LEBENSPHASE_GROB                    4854                94572  -89718   \n",
       "LP_FAMILIE_FEIN                        4854                77792  -72938   \n",
       "LP_FAMILIE_GROB                        4854                77792  -72938   \n",
       "NATIONALITAET_KZ                          0               108315 -108315   \n",
       "PRAEGENDE_JUGENDJAHRE                     0               108164 -108164   \n",
       "SHOPPER_TYP                               0               111196 -111196   \n",
       "TITEL_KZ                              73499               889061 -815562   \n",
       "VERS_TYP                                  0               111196 -111196   \n",
       "ALTER_HH                              73499               310267 -236768   \n",
       "W_KEIT_KIND_HH                       107602               147988  -40386   \n",
       "\n",
       "                       Diff_in_%  \n",
       "AGER_TYP                  -76.96  \n",
       "ALTERSKATEGORIE_GROB       -0.32  \n",
       "GEBURTSJAHR               -44.02  \n",
       "HEALTH_TYP                -12.48  \n",
       "LP_LEBENSPHASE_FEIN       -10.41  \n",
       "LP_LEBENSPHASE_GROB       -10.07  \n",
       "LP_FAMILIE_FEIN            -8.18  \n",
       "LP_FAMILIE_GROB            -8.18  \n",
       "NATIONALITAET_KZ          -12.15  \n",
       "PRAEGENDE_JUGENDJAHRE     -12.14  \n",
       "SHOPPER_TYP               -12.48  \n",
       "TITEL_KZ                  -91.51  \n",
       "VERS_TYP                  -12.48  \n",
       "ALTER_HH                  -26.57  \n",
       "W_KEIT_KIND_HH             -4.53  "
      ]
     },
     "execution_count": 35,
     "metadata": {},
     "output_type": "execute_result"
    }
   ],
   "source": [
    "comp_missing[comp_missing['Diff']!= 0][:15]"
   ]
  },
  {
   "cell_type": "code",
   "execution_count": 36,
   "metadata": {},
   "outputs": [
    {
     "data": {
      "image/png": "[encoded data removed]",
      "text/plain": [
       "<matplotlib.figure.Figure at 0x7f8b7c296668>"
      ]
     },
     "metadata": {
      "needs_background": "light"
     },
     "output_type": "display_data"
    }
   ],
   "source": [
    "azdias_clean.isnull().sum().hist()\n",
    "plt.xlabel('Number of Missing Values')\n",
    "plt.ylabel('Number of Columns')\n",
    "plt.title('Histogram of Missing Data by Column');"
   ]
  },
  {
   "cell_type": "code",
   "execution_count": 37,
   "metadata": {},
   "outputs": [
    {
     "data": {
      "image/png": "[encoded data removed]",
      "text/plain": [
       "<matplotlib.figure.Figure at 0x7f8b7a15b0f0>"
      ]
     },
     "metadata": {
      "needs_background": "light"
     },
     "output_type": "display_data"
    }
   ],
   "source": [
    "percentages = ((azdias_clean.isnull().sum()/azdias_clean.shape[0])*100).sort_values(ascending=False)\n",
    "\n",
    "y_ticks = np.arange(percentages.values.min(), percentages.values.max(), 5)\n",
    "\n",
    "y_labels = []\n",
    "for i in y_ticks:\n",
    "    y_labels.append(str(i) + '%')\n",
    "\n",
    "\n",
    "fig_p, ax_p = plt.subplots(1,1, figsize = (17,10))\n",
    "\n",
    "plt.xticks(np.arange(len(percentages.keys())),percentages.keys(), rotation = 90)\n",
    "plt.yticks(y_ticks, y_labels)\n",
    "plt.ylabel('Percentages from Total')\n",
    "plt.xlabel('Column Name')\n",
    "plt.title('Percentages of NaN Values From Total Values in Column', fontsize = 16)\n",
    "plt.bar(x = np.arange(len(percentages.keys())), height = percentages.values, width = 1.5);"
   ]
  },
  {
   "cell_type": "code",
   "execution_count": 38,
   "metadata": {},
   "outputs": [],
   "source": [
    "under_20 = percentages[percentages<20]"
   ]
  },
  {
   "cell_type": "code",
   "execution_count": 39,
   "metadata": {},
   "outputs": [
    {
     "data": {
      "text/plain": [
       "39"
      ]
     },
     "execution_count": 39,
     "metadata": {},
     "output_type": "execute_result"
    }
   ],
   "source": [
    "between_10_and_20 = under_20.count() - (under_20 > 10).sum()\n",
    "between_10_and_20"
   ]
  },
  {
   "cell_type": "code",
   "execution_count": 40,
   "metadata": {},
   "outputs": [
    {
     "data": {
      "text/plain": [
       "24"
      ]
     },
     "execution_count": 40,
     "metadata": {},
     "output_type": "execute_result"
    }
   ],
   "source": [
    "(percentages == 0).sum()"
   ]
  },
  {
   "cell_type": "code",
   "execution_count": 41,
   "metadata": {},
   "outputs": [],
   "source": [
    "def drop_high_null_volume_cols(df):\n",
    "    '''This function drops all columns, where more than 20% of their values are missing.\n",
    "    INPUT: \n",
    "        1. Dataframe\n",
    "    OUTPUT:\n",
    "        1. Dataframe without columns that have more than 20% of values missing\n",
    "        2. List of columns that have been dropped, because more than 20% of ther values were missing\n",
    "    '''\n",
    "    percentages = ((df.isnull().sum()/df.shape[0])*100).sort_values(ascending=False)\n",
    "    dropped_columns = []\n",
    "    for i in range(len(percentages)):\n",
    "        if percentages.values[i] > 20:\n",
    "            df.drop(columns = percentages.keys()[i], inplace = True)\n",
    "            dropped_columns.append(percentages.keys()[i])\n",
    "    return df, dropped_columns"
   ]
  },
  {
   "cell_type": "code",
   "execution_count": 42,
   "metadata": {},
   "outputs": [],
   "source": [
    "def drop_attributes(df_feat, rows_to_drop):\n",
    "    '''This function filters rows from dataset.\n",
    "    INPUT: \n",
    "        1. Dataframe\n",
    "        2. List of rows to be dropped\n",
    "    OUTPUT:\n",
    "        1. Dataframe without rows to be dropped\n",
    "        '''\n",
    "    for value in rows_to_drop:\n",
    "        df_feat = df_feat[df_feat['attribute'] != value]\n",
    "    return df_feat"
   ]
  },
  {
   "cell_type": "code",
   "execution_count": 43,
   "metadata": {},
   "outputs": [],
   "source": [
    "azdias_clean, dropped_cols = drop_high_null_volume_cols(azdias_clean)"
   ]
  },
  {
   "cell_type": "code",
   "execution_count": 44,
   "metadata": {},
   "outputs": [
    {
     "data": {
      "text/plain": [
       "['TITEL_KZ',\n",
       " 'AGER_TYP',\n",
       " 'KK_KUNDENTYP',\n",
       " 'KBA05_BAUMAX',\n",
       " 'GEBURTSJAHR',\n",
       " 'ALTER_HH']"
      ]
     },
     "execution_count": 44,
     "metadata": {},
     "output_type": "execute_result"
    }
   ],
   "source": [
    "dropped_cols"
   ]
  },
  {
   "cell_type": "code",
   "execution_count": 45,
   "metadata": {},
   "outputs": [],
   "source": [
    "feat_info_clean = drop_attributes(feat_info_clean, dropped_cols)"
   ]
  },
  {
   "cell_type": "code",
   "execution_count": 46,
   "metadata": {},
   "outputs": [
    {
     "data": {
      "text/plain": [
       "(891221, 79)"
      ]
     },
     "execution_count": 46,
     "metadata": {},
     "output_type": "execute_result"
    }
   ],
   "source": [
    "azdias_clean.shape"
   ]
  },
  {
   "cell_type": "markdown",
   "metadata": {},
   "source": [
    "#### Discussion 1.1.2: Assess Missing Data in Each Column\n",
    "\n",
    "**ANSWER:**\n",
    "\n",
    "There are 35 columns in which more than 10% of data is naturally missing. The column with the highest percentage of missing values is `KK_KUNDENTYP` with about 65.5% of data missing. \n",
    "\n",
    "After replacing all values encoded in the `missing_or_unknown` column of the `feat_info_clean` dataframe with `np.nan` values in the `azdias_clean` dataframe the distribution of missing values increased about 71%. Some columns such as `AGER_TYP` went from having no naturally missing values to having about 77% of their values missing. \n",
    "\n",
    "After replacement the histogram *Histogram of Missing Data by Column* shows there are about 5 columns that have more than 200.000 missing values. Given that the dataframe has a total of 891.221 this amount of missing values would represent about 23% or more missing data in the column. \n",
    "\n",
    "A more in depth analysis of columns with missing data shows that more than 95% of data is missing the  `TITEL_KZ`  column. Before the replacement this column already had a high number of naturally missing values, however, replacement further increased this number. Following the `TITEL_KZ` column are the `AGER_TYP`, `KK_KUNDENTYP`, `KBA05_BAUMAX`, `GEBURTSJAHR`, and `ALTER_HH` with about 77%, 66%, 53%, 44% and 34%  of missing data respectively. Given the high amount of missing values in these columns, they were excluded of the dataset.\n",
    "\n",
    "Interestingly, after the replacement most columns have around 10% and 20% of missing values. Only 24 of the 85 columns have no missing data. This points to the fact that the dataset will have to be cleaned further in the next sections."
   ]
  },
  {
   "cell_type": "markdown",
   "metadata": {},
   "source": [
    "#### Step 1.1.3: Assess Missing Data in Each Row\n",
    "\n",
    "Now, you'll perform a similar assessment for the rows of the dataset. How much data is missing in each row? As with the columns, you should see some groups of points that have a very different numbers of missing values. Divide the data into two subsets: one for data points that are above some threshold for missing values, and a second subset for points below that threshold.\n",
    "\n",
    "In order to know what to do with the outlier rows, we should see if the distribution of data values on columns that are not missing data (or are missing very little data) are similar or different between the two groups. Select at least five of these columns and compare the distribution of values.\n",
    "- You can use seaborn's [`countplot()`](https://seaborn.pydata.org/generated/seaborn.countplot.html) function to create a bar chart of code frequencies and matplotlib's [`subplot()`](https://matplotlib.org/api/_as_gen/matplotlib.pyplot.subplot.html) function to put bar charts for the two subplots side by side.\n",
    "- To reduce repeated code, you might want to write a function that can perform this comparison, taking as one of its arguments a column to be compared.\n",
    "\n",
    "Depending on what you observe in your comparison, this will have implications on how you approach your conclusions later in the analysis. If the distributions of non-missing features look similar between the data with many missing values and the data with few or no missing values, then we could argue that simply dropping those points from the analysis won't present a major issue. On the other hand, if the data with many missing values looks very different from the data with few or no missing values, then we should make a note on those data as special. We'll revisit these data later on. **Either way, you should continue your analysis for now using just the subset of the data with few or no missing values.**"
   ]
  },
  {
   "cell_type": "code",
   "execution_count": 47,
   "metadata": {},
   "outputs": [
    {
     "data": {
      "image/png": "[encoded data removed]",
      "text/plain": [
       "<matplotlib.figure.Figure at 0x7f8b7a0a0a20>"
      ]
     },
     "metadata": {
      "needs_background": "light"
     },
     "output_type": "display_data"
    }
   ],
   "source": [
    "azdias_clean.isnull().sum(axis = 1).hist()\n",
    "plt.xlabel('Number of Missing Values')\n",
    "plt.ylabel('Number of Rows')\n",
    "plt.title('Histogram Missing Data by Row');"
   ]
  },
  {
   "cell_type": "code",
   "execution_count": 48,
   "metadata": {},
   "outputs": [],
   "source": [
    "azdias_low_null_count = azdias_clean[azdias_clean.isnull().sum(axis = 1) < 25]\n",
    "azdias_high_null_count = azdias_clean[azdias_clean.isnull().sum(axis = 1) >= 25]"
   ]
  },
  {
   "cell_type": "code",
   "execution_count": 49,
   "metadata": {},
   "outputs": [
    {
     "data": {
      "text/plain": [
       "89.5295330787762"
      ]
     },
     "execution_count": 49,
     "metadata": {},
     "output_type": "execute_result"
    }
   ],
   "source": [
    "azdias_low_null_count.shape[0]/azdias_clean.shape[0]*100"
   ]
  },
  {
   "cell_type": "code",
   "execution_count": 50,
   "metadata": {},
   "outputs": [
    {
     "data": {
      "text/plain": [
       "10.470466921223805"
      ]
     },
     "execution_count": 50,
     "metadata": {},
     "output_type": "execute_result"
    }
   ],
   "source": [
    "azdias_high_null_count.shape[0]/azdias_clean.shape[0]*100"
   ]
  },
  {
   "cell_type": "code",
   "execution_count": 51,
   "metadata": {},
   "outputs": [
    {
     "data": {
      "image/png": "[encoded data removed]",
      "text/plain": [
       "<matplotlib.figure.Figure at 0x7f8b79ecd358>"
      ]
     },
     "metadata": {
      "needs_background": "light"
     },
     "output_type": "display_data"
    }
   ],
   "source": [
    "sns.countplot(azdias_low_null_count.isnull().sum(axis =1));\n",
    "plt.xlabel('Number of Missing Values')\n",
    "plt.ylabel('Number of Rows')\n",
    "plt.title('Number of Missing Rown by Value - Low Null count');"
   ]
  },
  {
   "cell_type": "code",
   "execution_count": 52,
   "metadata": {},
   "outputs": [
    {
     "data": {
      "text/plain": [
       "21.894433680157814"
      ]
     },
     "execution_count": 52,
     "metadata": {},
     "output_type": "execute_result"
    }
   ],
   "source": [
    "(azdias_low_null_count.isnull().sum(axis =1) > 0).sum()/azdias_low_null_count.shape[0]*100"
   ]
  },
  {
   "cell_type": "code",
   "execution_count": 53,
   "metadata": {},
   "outputs": [
    {
     "data": {
      "image/png": "[encoded data removed]",
      "text/plain": [
       "<matplotlib.figure.Figure at 0x7f8b78674438>"
      ]
     },
     "metadata": {
      "needs_background": "light"
     },
     "output_type": "display_data"
    }
   ],
   "source": [
    "sns.countplot(azdias_high_null_count.isnull().sum(axis =1))\n",
    "plt.xlabel('Number of Missing Values')\n",
    "plt.ylabel('Number of Rows')\n",
    "plt.title('Number of Missing Rown by Value - High Null count');"
   ]
  },
  {
   "cell_type": "code",
   "execution_count": 54,
   "metadata": {},
   "outputs": [
    {
     "data": {
      "text/plain": [
       "49.541874296736857"
      ]
     },
     "execution_count": 54,
     "metadata": {},
     "output_type": "execute_result"
    }
   ],
   "source": [
    "(azdias_high_null_count.isnull().sum(axis =1) > 43).sum()/azdias_high_null_count.shape[0]*100"
   ]
  },
  {
   "cell_type": "code",
   "execution_count": 55,
   "metadata": {},
   "outputs": [],
   "source": [
    "comp_columns = azdias_low_null_count.isnull().sum().sort_values(ascending = True)[:7].keys()"
   ]
  },
  {
   "cell_type": "code",
   "execution_count": 56,
   "metadata": {},
   "outputs": [
    {
     "data": {
      "image/png": "[encoded data removed]",
      "text/plain": [
       "<matplotlib.figure.Figure at 0x7f8b79eb8f98>"
      ]
     },
     "metadata": {
      "needs_background": "light"
     },
     "output_type": "display_data"
    }
   ],
   "source": [
    "comp_fig, comp_ax = plt.subplots(nrows = 7, ncols= 2, figsize = (15,15));\n",
    "pos = 0\n",
    "for column in comp_columns:\n",
    "    sns.countplot(azdias_low_null_count[column], ax = comp_ax[pos,0])\n",
    "    comp_ax[0][0].set_title('Below 25')\n",
    "    comp_ax[pos][0].set_xlabel(column)\n",
    "    sns.countplot(azdias_high_null_count[column], ax = comp_ax[pos,1])\n",
    "    comp_ax[0][1].set_title('Above 25')\n",
    "    pos += 1\n",
    "    plt.tight_layout()\n",
    "\n"
   ]
  },
  {
   "cell_type": "markdown",
   "metadata": {},
   "source": [
    "#### Discussion 1.1.3: Assess Missing Data in Each Row\n",
    "\n",
    "**ANSWER:**\n",
    "\n",
    "The histogram *Histogram Missing Data by Row* shows that there is one group of rows that have less than 25 missing values per row and a group that has more than 25 missing values per row. The first group referred to as `azdias_low_null_count` contains about 90% of the rows of the dataset whereas the second group called `azdias_high_null_count` contains about 10% of the rows. This suggests that the largest part of the dataset had a low null value count. \n",
    "\n",
    "Diving deeper into the count of missing values in the `azdias_low_null_count` group we can see the majority of rows have 0 missing values. Only 21% of the rows in this group have more than 0 missing values. The `azdias_high_null_count` shows that 49% of rows have 43 ore more missing values, which is  54% or more of the data in a row.\n",
    "\n",
    "If we compare the distribution of values for the 7 columns  `ZABEOTYP`, `ANZ_TITEL`, `SEMIO_SOZ`, `SEMIO_FAM`, `SEMIO_REL`, `SEMIO_MAT`, `SEMIO_VERT` where there are no missing values between the two subsets `azdias_low_null_count` and `azdias_high_null_count` we can see that the distributions are very different. Only the columns `ANZ_TITEL` has a similar distribution. Given that most rows in this column have the value 0 it could be argued that dropping these points in the `azdias_high_null_count` would not present a major issue. However, in the other columns the different distributions point to this data being special."
   ]
  },
  {
   "cell_type": "markdown",
   "metadata": {},
   "source": [
    "### Step 1.2: Select and Re-Encode Features\n",
    "\n",
    "Checking for missing data isn't the only way in which you can prepare a dataset for analysis. Since the unsupervised learning techniques to be used will only work on data that is encoded numerically, you need to make a few encoding changes or additional assumptions to be able to make progress. In addition, while almost all of the values in the dataset are encoded using numbers, not all of them represent numeric values. Check the third column of the feature summary (`feat_info`) for a summary of types of measurement.\n",
    "- For numeric and interval data, these features can be kept without changes.\n",
    "- Most of the variables in the dataset are ordinal in nature. While ordinal values may technically be non-linear in spacing, make the simplifying assumption that the ordinal variables can be treated as being interval in nature (that is, kept without any changes).\n",
    "- Special handling may be necessary for the remaining two variable types: categorical, and 'mixed'.\n",
    "\n",
    "In the first two parts of this sub-step, you will perform an investigation of the categorical and mixed-type features and make a decision on each of them, whether you will keep, drop, or re-encode each. Then, in the last part, you will create a new data frame with only the selected and engineered columns.\n",
    "\n",
    "Data wrangling is often the trickiest part of the data analysis process, and there's a lot of it to be done here. But stick with it: once you're done with this step, you'll be ready to get to the machine learning parts of the project!"
   ]
  },
  {
   "cell_type": "code",
   "execution_count": 57,
   "metadata": {},
   "outputs": [
    {
     "data": {
      "text/plain": [
       "ordinal        49\n",
       "categorical    18\n",
       "numeric         6\n",
       "mixed           6\n",
       "Name: type, dtype: int64"
      ]
     },
     "execution_count": 57,
     "metadata": {},
     "output_type": "execute_result"
    }
   ],
   "source": [
    "feat_info_clean.type.value_counts()"
   ]
  },
  {
   "cell_type": "markdown",
   "metadata": {},
   "source": [
    "#### Step 1.2.1: Re-Encode Categorical Features\n",
    "\n",
    "For categorical data, you would ordinarily need to encode the levels as dummy variables. Depending on the number of categories, perform one of the following:\n",
    "- For binary (two-level) categoricals that take numeric values, you can keep them without needing to do anything.\n",
    "- There is one binary variable that takes on non-numeric values. For this one, you need to re-encode the values as numbers or create a dummy variable.\n",
    "- For multi-level categoricals (three or more values), you can choose to encode the values using multiple dummy variables (e.g. via [OneHotEncoder](http://scikit-learn.org/stable/modules/generated/sklearn.preprocessing.OneHotEncoder.html)), or (to keep things straightforward) just drop them from the analysis. As always, document your choices in the Discussion section."
   ]
  },
  {
   "cell_type": "code",
   "execution_count": 58,
   "metadata": {},
   "outputs": [],
   "source": [
    "def get_type_values(df, string):\n",
    "    '''This functions extracts the names of all attributes of provided data type.\n",
    "    INPUT:\n",
    "        1. Dataframe\n",
    "        2. Datatype of feature\n",
    "    OUTPUT: \n",
    "        1. List with all attribute names of provided data type\n",
    "        '''\n",
    "    return df[df['type'] == string]['attribute'].values\n"
   ]
  },
  {
   "cell_type": "code",
   "execution_count": 59,
   "metadata": {},
   "outputs": [],
   "source": [
    "def filter_categoricals(df, column_values):\n",
    "    '''This function assesses what type of categorical a specific column is.\n",
    "    INPUT:\n",
    "        1. Dataframe\n",
    "        2. Column names of categoricals\n",
    "    OUTPUT:\n",
    "        1. List of all binary categoricals that take numeric values\n",
    "        2. List of all binary categoricals that take non-numeric values\n",
    "        3. List of multi_level categorical\n",
    "        '''\n",
    "    binary = []\n",
    "    binary_reencode = []\n",
    "    multi_level = []\n",
    "    for value in column_values:\n",
    "        values = df[value].unique()\n",
    "        if df[value].nunique() == 2:\n",
    "            if isinstance(values[0], np.int64) or isinstance(values[0], np.float64):\n",
    "                binary.append(value)\n",
    "            else:\n",
    "                binary_reencode.append(value)\n",
    "        else:\n",
    "            multi_level.append(value)\n",
    "    return binary, binary_reencode, multi_level"
   ]
  },
  {
   "cell_type": "code",
   "execution_count": 60,
   "metadata": {},
   "outputs": [],
   "source": [
    "def create_dummy_variables(df, feat_df, string = 'categorical'):\n",
    "    ''' This function creates a dataframe with dummies\n",
    "    INPUT:\n",
    "        1. Dataframe to which to add dummy variables\n",
    "        2. Dataframe where type of column name is encoded (e.g 'categorical')\n",
    "        3. Feature data type\n",
    "    OUTPUT:\n",
    "        1. Datafram with dummy variables\n",
    "        '''\n",
    "    binary, binary_reencode, multi_level = filter_categoricals(df, get_type_values(feat_df, string))\n",
    "    df = pd.get_dummies(data = df, columns = binary_reencode)\n",
    "    df = pd.get_dummies(data =df, columns = multi_level)\n",
    "    return df"
   ]
  },
  {
   "cell_type": "code",
   "execution_count": 61,
   "metadata": {},
   "outputs": [
    {
     "name": "stdout",
     "output_type": "stream",
     "text": [
      "Binary categoricals: ['ANREDE_KZ', 'GREEN_AVANTGARDE', 'SOHO_KZ', 'VERS_TYP']\n",
      "Binary categoricals to reencode: ['OST_WEST_KZ']\n",
      "Multi level categoricals: ['CJT_GESAMTTYP', 'FINANZTYP', 'GFK_URLAUBERTYP', 'LP_FAMILIE_FEIN', 'LP_FAMILIE_GROB', 'LP_STATUS_FEIN', 'LP_STATUS_GROB', 'NATIONALITAET_KZ', 'SHOPPER_TYP', 'ZABEOTYP', 'GEBAEUDETYP', 'CAMEO_DEUG_2015', 'CAMEO_DEU_2015']\n"
     ]
    }
   ],
   "source": [
    "categorical = get_type_values(feat_info_clean, 'categorical')\n",
    "binary, binary_reencode, multi_level = filter_categoricals(azdias_low_null_count, categorical)\n",
    "print(\"Binary categoricals: {}\\nBinary categoricals to reencode: {}\\nMulti level categoricals: {}\".format(binary,binary_reencode, multi_level))"
   ]
  },
  {
   "cell_type": "code",
   "execution_count": 62,
   "metadata": {},
   "outputs": [
    {
     "name": "stderr",
     "output_type": "stream",
     "text": [
      "/opt/conda/lib/python3.6/site-packages/pandas/core/frame.py:3697: SettingWithCopyWarning: \n",
      "A value is trying to be set on a copy of a slice from a DataFrame\n",
      "\n",
      "See the caveats in the documentation: http://pandas.pydata.org/pandas-docs/stable/indexing.html#indexing-view-versus-copy\n",
      "  errors=errors)\n"
     ]
    }
   ],
   "source": [
    "drop_multi_level = ['CJT_GESAMTTYP','FINANZTYP', 'LP_FAMILIE_FEIN', 'LP_STATUS_FEIN', 'GEBAEUDETYP','CAMEO_DEU_2015']\n",
    "azdias_low_null_count.drop(columns = drop_multi_level, inplace = True)\n",
    "feat_info_clean = drop_attributes(feat_info_clean, drop_multi_level)"
   ]
  },
  {
   "cell_type": "code",
   "execution_count": 63,
   "metadata": {},
   "outputs": [],
   "source": [
    "azdias_low_null_count = create_dummy_variables(azdias_low_null_count, feat_info_clean)"
   ]
  },
  {
   "cell_type": "code",
   "execution_count": 64,
   "metadata": {},
   "outputs": [],
   "source": [
    "azdias_low_null_count.rename(columns = {'OST_WEST_KZ_O': 'OST_WEST_KZ_OW'}, inplace = True)"
   ]
  },
  {
   "cell_type": "code",
   "execution_count": 65,
   "metadata": {},
   "outputs": [],
   "source": [
    "azdias_low_null_count.drop(columns = 'OST_WEST_KZ_W', inplace = True)"
   ]
  },
  {
   "cell_type": "markdown",
   "metadata": {},
   "source": [
    "#### Discussion 1.2.1: Re-Encode Categorical Features\n",
    "\n",
    "**ANSWER:**\n",
    "\n",
    "An analysis of all categorical columns shows that there are 4 binary categoricals with numeric values that can be kept,  one categorical binary `OST_WEST_KZ` with non-numeric value that should be re-econded and 13 multi-level categoricals that have to be assessed. \n",
    "\n",
    "The categorical binary with non-numeric value was re-encoded to 0 for *W* (west) and 1 for *O* (east) in the new column `OST_WEST_KZ_OW`.\n",
    "\n",
    "From the 13 multi-level categoricals `CJT_GESAMTTYP`, `FINANZTYP`, `LP_FAMILIE_FEIN`,  `LP_STATUS_FEIN`, `GEBAEUDETYP`, `CAMEO_DEU_2015` were dropped. The reasoning being as follows:\n",
    "\n",
    "- `CJT_GESAMTTYP`: To reduce complexity of further analysis this column was dropped\n",
    "- `FINANZTYP`: The columns `FINANZ_MINIMALIST`, `FINANZ_SPARER`, `FINANZ_VORSORGER`, `FINANZ_ANLEGER`, `FINANZ_UNAUFFAELLIGER`, `FINANZ_HAUSBAUER` already encode this information in more detail. Therefore this column is not necessary. \n",
    "- `LP_FAMILIE_FEIN`: The column `LP_FAMILIE_GROB` contains the same information in less detail, therefore this column is not necessary\n",
    "- `LP_STATUS_FEIN`: The column `LP_STATUS_GROB` contains the same information in less detail, therefore this column is not necessary\n",
    "- `GEBAEUDETYP`: To reduce complexity of further analysis this column was dropped\n",
    "- `CAMEO_DEU_2015`:  The column `CAMEO_DEUG_2015` contains the same information in less detail, therefore this column is not necessary\n",
    "\n",
    "The other 7  multi-level variables  `GFK_URLAUBERTYP`, `LP_FAMILIE_GROB`,  `LP_STATUS_GROB`, `NATIONALITAET_KZ`, `SHOPPER_TYP`, `ZABEOTYP`, and `CAMEO_DEUG_2015`, were reencoded as dummy variables because they were deemed important for further analysis given the following reasoning:\n",
    "\n",
    "- `GFK_URLAUBERTYP`: Kept to have information about vacation habits of customers that might be relevant to their consumer behavior\n",
    "- `LP_FAMILIE_GROB`: Kept because `LP_FAMILIE_FEIN` was dropped\n",
    "- `LP_STATUS_GROB`: Kept because `LP_STATUS_FEIN` was dropped\n",
    "- `NATIONALITAET_KZ`: Kept to have information about consumers nationality\n",
    "- `SHOPPER_TYP`: Kept to have information about the shopper typology of the customers\n",
    "- `ZABEOTYP`: Kept to have information about the energy consumption habits of customers \n",
    "- `CAMEO_DEUG_2015`: Kept because `CAMEO_DEU_2015` was dropped"
   ]
  },
  {
   "cell_type": "markdown",
   "metadata": {},
   "source": [
    "#### Step 1.2.2: Engineer Mixed-Type Features\n",
    "\n",
    "There are a handful of features that are marked as \"mixed\" in the feature summary that require special treatment in order to be included in the analysis. There are two in particular that deserve attention; the handling of the rest are up to your own choices:\n",
    "- \"PRAEGENDE_JUGENDJAHRE\" combines information on three dimensions: generation by decade, movement (mainstream vs. avantgarde), and nation (east vs. west). While there aren't enough levels to disentangle east from west, you should create two new variables to capture the other two dimensions: an interval-type variable for decade, and a binary variable for movement.\n",
    "- \"CAMEO_INTL_2015\" combines information on two axes: wealth and life stage. Break up the two-digit codes by their 'tens'-place and 'ones'-place digits into two new ordinal variables (which, for the purposes of this project, is equivalent to just treating them as their raw numeric values).\n",
    "- If you decide to keep or engineer new features around the other mixed-type features, make sure you note your steps in the Discussion section.\n",
    "\n",
    "Be sure to check `Data_Dictionary.md` for the details needed to finish these tasks."
   ]
  },
  {
   "cell_type": "code",
   "execution_count": 66,
   "metadata": {},
   "outputs": [],
   "source": [
    "def reencode_mixed_values(df, column_name, values_dict, new_column_name):\n",
    "    '''This functions creates a new column replacing a set of defined values (re-encode column) on provided dataframe\n",
    "    INPUT: \n",
    "        1. Dataframe\n",
    "        2. Names of columns in dataframe to be re-encoded\n",
    "        3. Dictionary mapping values to replacement values\n",
    "        4. New column name for columns with replaced value\n",
    "    OUTPUT:\n",
    "        1. None\n",
    "        '''\n",
    "    df[new_column_name] = df[column_name].replace(values_dict)"
   ]
  },
  {
   "cell_type": "code",
   "execution_count": 67,
   "metadata": {},
   "outputs": [],
   "source": [
    "def reencode_clean_all_mixed(df, df_feat, column_names_replace, values_dict, new_column_name, string = 'mixed'):\n",
    "    '''This created multiple new columns with replaced values (re-encoded columns) and drops original columns\n",
    "    INPUT:\n",
    "        1. Dataframe\n",
    "        2. Dataframe where type of column name is encoded\n",
    "        3. Names of columns in dataframe to be re-encoded\n",
    "        4. Dictionary mapping values to replacement values\n",
    "        5. New column name for columns with replaced value\n",
    "        6. Data type of feature\n",
    "        Data type of feature\n",
    "    OUTPUT:\n",
    "        1. Dataframe with new encoded columns\n",
    "        2. List of original columns that were dropped\n",
    "        '''\n",
    "    for i in range(len(new_column_name)):\n",
    "        reencode_mixed_values(df = df, column_name = column_names_replace[i], \n",
    "                values_dict = values_dict[i], new_column_name = new_column_name[i])\n",
    "    mixed = get_type_values(df_feat, string)\n",
    "    df.drop(columns = mixed, inplace = True)\n",
    "    return df, mixed\n"
   ]
  },
  {
   "cell_type": "code",
   "execution_count": 68,
   "metadata": {},
   "outputs": [],
   "source": [
    "#'PRAEGENDE_JUGENDJAHRE'\n",
    "decades = {1.0: 40.0, 2.0: 40.0, 3.0: 50.0, 4.0: 50.0, 5.0: 60.0, 6.0: 60.0,\n",
    "                                     7.0: 60.0, 8.0: 70.0, 9.0: 70.0, 10.0: 80.0, 11.0: 80.0, 12.0: 80.0,\n",
    "                                     13.0: 80.0, 14.0: 90.0, 15.0: 90.0}\n",
    "movement = {1: 0, 2: 1, 3: 0, 4: 1, 5: 0, 6: 1, 7: 1, 8:0, 9: 1, 10:0, 11: 1, 12:0, 13: 1, 14: 0, 15: 1}\n",
    "#'CAMEO_INTL_2015'\n",
    "wealth = {'11': 1.0, '12': 1.0, '13': 1.0, '14': 1.0, '15': 1.0,\n",
    "          '21': 2.0, '22': 2.0, '23': 2.0, '24': 2.0, '25': 2.0,\n",
    "          '31': 3.0, '32': 3.0, '33': 3.0, '34': 3.0, '35': 3.0,\n",
    "          '41': 4.0, '42': 4.0, '43': 4.0, '44': 4.0, '45': 4.0,\n",
    "          '51': 5.0, '52': 5.0, '53': 5.0, '54': 5.0, '55': 5.0}\n",
    "life_stage = {'11': 1.0, '12': 2.0, '13': 3.0, '14': 4.0, '15': 5.0,\n",
    "              '21': 1.0, '22': 2.0, '23': 3.0, '24': 4.0, '25': 5.0,\n",
    "              '31': 1.0, '32': 2.0, '33': 3.0, '34': 4.0, '35': 5.0,\n",
    "              '41': 1.0, '42': 2.0, '43': 3.0, '44': 4.0, '45': 5.0,\n",
    "              '51': 1.0, '52': 2.0, '53': 3.0, '54': 4.0, '55': 5.0}\n"
   ]
  },
  {
   "cell_type": "code",
   "execution_count": 69,
   "metadata": {},
   "outputs": [],
   "source": [
    "columns_to_replace = ['PRAEGENDE_JUGENDJAHRE','PRAEGENDE_JUGENDJAHRE','CAMEO_INTL_2015', 'CAMEO_INTL_2015']\n",
    "value_dicts = [decades, movement, wealth, life_stage]\n",
    "new_column_names = ['DECADE', 'MOVEMENT', 'WEALTH', 'LIFE_STAGE']\n",
    "\n",
    "azdias_low_null_count, dropped_mixed_cols = reencode_clean_all_mixed(df = azdias_low_null_count, df_feat = feat_info_clean,\n",
    "                                                              column_names_replace = columns_to_replace, values_dict = value_dicts,\n",
    "                                                              new_column_name = new_column_names)"
   ]
  },
  {
   "cell_type": "code",
   "execution_count": 70,
   "metadata": {},
   "outputs": [],
   "source": [
    "feat_info_clean = drop_attributes(feat_info_clean, dropped_mixed_cols)"
   ]
  },
  {
   "cell_type": "markdown",
   "metadata": {},
   "source": [
    "#### Discussion 1.2.2: Engineer Mixed-Type Features\n",
    "\n",
    "**ANSWER:**\n",
    "\n",
    "Both `PRAEGENDE_JUGENDJAHRE` and `CAMEO_INTL_2015` were engineered. \n",
    "Using the `Data_Dictionary.md` file as reference `PRAEGENDE_JUGENDJAHRE`  was divided into `DECADE` and `MOVEMENT` whereas `CAMEO_INTL_2015` was divided to `WEALTH` and `LIFE_STAGE`. This was done by creating a dictionary with the values to be replaced and using the `.replace()` function of Pandas. The original columns where dropped after the engineering step. \n",
    "\n",
    "Other mixed columns were dropped using following logic:\n",
    "\n",
    "- `LP_LEBENSPHASE_FEIN`: This column contains information on the wealth and family status of consumers. This information is indirectly provided by `CAMEO_INT_2015` and therefore present in the engineered columns. So this columns was dropped.\n",
    "- `LP_LEBENSPHASE_GROB`: Contains the same information as the previously discussed column with less detail and is therefore not necessary.\n",
    "- `WOHNLAGE`: Dropped to reduce complexity\n",
    "- `PLZ8_BAUMAX`: Dropped to reduce complexity"
   ]
  },
  {
   "cell_type": "markdown",
   "metadata": {},
   "source": [
    "#### Step 1.2.3: Complete Feature Selection\n",
    "\n",
    "In order to finish this step up, you need to make sure that your data frame now only has the columns that you want to keep. To summarize, the dataframe should consist of the following:\n",
    "- All numeric, interval, and ordinal type columns from the original dataset.\n",
    "- Binary categorical features (all numerically-encoded).\n",
    "- Engineered features from other multi-level categorical features and mixed features.\n",
    "\n",
    "Make sure that for any new columns that you have engineered, that you've excluded the original columns from the final dataset. Otherwise, their values will interfere with the analysis later on the project. For example, you should not keep \"PRAEGENDE_JUGENDJAHRE\", since its values won't be useful for the algorithm: only the values derived from it in the engineered features you created should be retained. As a reminder, your data should only be from **the subset with few or no missing values**."
   ]
  },
  {
   "cell_type": "code",
   "execution_count": 71,
   "metadata": {},
   "outputs": [
    {
     "data": {
      "text/plain": [
       "ordinal        49\n",
       "categorical    12\n",
       "numeric         6\n",
       "Name: type, dtype: int64"
      ]
     },
     "execution_count": 71,
     "metadata": {},
     "output_type": "execute_result"
    }
   ],
   "source": [
    "feat_info_clean.type.value_counts()"
   ]
  },
  {
   "cell_type": "code",
   "execution_count": 72,
   "metadata": {},
   "outputs": [
    {
     "data": {
      "text/plain": [
       "ordinal        49\n",
       "categorical    21\n",
       "numeric         7\n",
       "mixed           7\n",
       "interval        1\n",
       "Name: type, dtype: int64"
      ]
     },
     "execution_count": 72,
     "metadata": {},
     "output_type": "execute_result"
    }
   ],
   "source": [
    "feat_info.type.value_counts()"
   ]
  },
  {
   "cell_type": "code",
   "execution_count": 73,
   "metadata": {},
   "outputs": [],
   "source": [
    "ordinal_clean = get_type_values(feat_info_clean, 'ordinal')\n",
    "numeric_clean = get_type_values(feat_info_clean, 'numeric')\n",
    "categorical_clean = get_type_values(feat_info_clean, 'categorical')\n",
    "\n",
    "required_columns = [*ordinal_clean, *numeric_clean, *categorical_clean]"
   ]
  },
  {
   "cell_type": "code",
   "execution_count": 74,
   "metadata": {},
   "outputs": [],
   "source": [
    "columns_dataset = azdias_low_null_count.columns"
   ]
  },
  {
   "cell_type": "code",
   "execution_count": 75,
   "metadata": {},
   "outputs": [],
   "source": [
    "def check_missing_values(required_values, df_columns):\n",
    "    '''This function takes compares to list of values.\n",
    "    INPUT: \n",
    "        1. List of values a\n",
    "        2. List of values b\n",
    "    OUTPUT:\n",
    "        1. List of values that were in list a but not in b\n",
    "        '''\n",
    "    missing_val = []\n",
    "    for col in required_values:\n",
    "        if col not in df_columns:\n",
    "            missing_val.append(col)\n",
    "    return missing_val"
   ]
  },
  {
   "cell_type": "code",
   "execution_count": 76,
   "metadata": {},
   "outputs": [],
   "source": [
    "missing_from_dataset = check_missing_values(required_columns, columns_dataset)"
   ]
  },
  {
   "cell_type": "code",
   "execution_count": 77,
   "metadata": {},
   "outputs": [
    {
     "data": {
      "text/plain": [
       "['GFK_URLAUBERTYP',\n",
       " 'LP_FAMILIE_GROB',\n",
       " 'LP_STATUS_GROB',\n",
       " 'NATIONALITAET_KZ',\n",
       " 'SHOPPER_TYP',\n",
       " 'ZABEOTYP',\n",
       " 'OST_WEST_KZ',\n",
       " 'CAMEO_DEUG_2015']"
      ]
     },
     "execution_count": 77,
     "metadata": {},
     "output_type": "execute_result"
    }
   ],
   "source": [
    "missing_from_dataset"
   ]
  },
  {
   "cell_type": "code",
   "execution_count": 78,
   "metadata": {},
   "outputs": [],
   "source": [
    "dropped_cat_cols = [*binary_reencode, *multi_level, *drop_multi_level]"
   ]
  },
  {
   "cell_type": "code",
   "execution_count": 79,
   "metadata": {},
   "outputs": [
    {
     "data": {
      "text/plain": [
       "[]"
      ]
     },
     "execution_count": 79,
     "metadata": {},
     "output_type": "execute_result"
    }
   ],
   "source": [
    "check_missing_values(missing_from_dataset, dropped_cat_cols)"
   ]
  },
  {
   "cell_type": "code",
   "execution_count": 80,
   "metadata": {},
   "outputs": [],
   "source": [
    "dropped_cols_total = [*dropped_cat_cols, *dropped_cols, *dropped_mixed_cols]"
   ]
  },
  {
   "cell_type": "code",
   "execution_count": 81,
   "metadata": {},
   "outputs": [],
   "source": [
    "ordinal_orig = get_type_values(feat_info, 'ordinal')\n",
    "categorical_orig = get_type_values(feat_info, 'categorical')\n",
    "mixed_orig = get_type_values(feat_info, 'mixed')\n",
    "numeric_orig = get_type_values(feat_info, 'numeric')\n",
    "interval_orig = get_type_values(feat_info, 'interval')\n",
    "\n",
    "required_original = [*ordinal_orig, *categorical_orig, *mixed_orig, *numeric_orig, *interval_orig]"
   ]
  },
  {
   "cell_type": "code",
   "execution_count": 82,
   "metadata": {},
   "outputs": [],
   "source": [
    "missing_from_dataset_orig = check_missing_values(required_original, columns_dataset)"
   ]
  },
  {
   "cell_type": "code",
   "execution_count": 83,
   "metadata": {},
   "outputs": [
    {
     "data": {
      "text/plain": [
       "[]"
      ]
     },
     "execution_count": 83,
     "metadata": {},
     "output_type": "execute_result"
    }
   ],
   "source": [
    "check_missing_values(missing_from_dataset_orig, dropped_cols_total)"
   ]
  },
  {
   "cell_type": "code",
   "execution_count": 84,
   "metadata": {},
   "outputs": [],
   "source": [
    "def check_for_correct_dummies(df_columns, column_for_dummy):\n",
    "    '''This function checks if dummy variables were correctly created\n",
    "    INPUT:\n",
    "        1. List of all columns in data set (with dummies)\n",
    "        2. List of original columns that had to be re-encoded als dummy variables\n",
    "    OUTPUT:\n",
    "        1. All column names/patterns checked\n",
    "        2. List of resulting dummies from data set\n",
    "        '''\n",
    "    checked_patterns = []\n",
    "    created_dummies = []\n",
    "    for col in df_columns:\n",
    "        for pattern in column_for_dummy:\n",
    "            if re.search(pattern + '[_][OW\\d]', col):\n",
    "                created_dummies.append(col)\n",
    "                if pattern not in checked_patterns:\n",
    "                    checked_patterns.append(pattern)\n",
    "    return checked_patterns, created_dummies"
   ]
  },
  {
   "cell_type": "code",
   "execution_count": 85,
   "metadata": {},
   "outputs": [],
   "source": [
    "columns_for_dummy_col = [*binary_reencode, *multi_level]"
   ]
  },
  {
   "cell_type": "code",
   "execution_count": 86,
   "metadata": {},
   "outputs": [
    {
     "data": {
      "text/plain": [
       "['OST_WEST_KZ',\n",
       " 'CJT_GESAMTTYP',\n",
       " 'FINANZTYP',\n",
       " 'GFK_URLAUBERTYP',\n",
       " 'LP_FAMILIE_FEIN',\n",
       " 'LP_FAMILIE_GROB',\n",
       " 'LP_STATUS_FEIN',\n",
       " 'LP_STATUS_GROB',\n",
       " 'NATIONALITAET_KZ',\n",
       " 'SHOPPER_TYP',\n",
       " 'ZABEOTYP',\n",
       " 'GEBAEUDETYP',\n",
       " 'CAMEO_DEUG_2015',\n",
       " 'CAMEO_DEU_2015']"
      ]
     },
     "execution_count": 86,
     "metadata": {},
     "output_type": "execute_result"
    }
   ],
   "source": [
    "columns_for_dummy_col"
   ]
  },
  {
   "cell_type": "code",
   "execution_count": 87,
   "metadata": {},
   "outputs": [],
   "source": [
    "columns_for_dummy_col = check_missing_values(columns_for_dummy_col, drop_multi_level)"
   ]
  },
  {
   "cell_type": "code",
   "execution_count": 88,
   "metadata": {},
   "outputs": [],
   "source": [
    "checked_columns, created_dummies = check_for_correct_dummies(columns_dataset, columns_for_dummy_col)"
   ]
  },
  {
   "cell_type": "code",
   "execution_count": 89,
   "metadata": {},
   "outputs": [
    {
     "data": {
      "text/plain": [
       "[]"
      ]
     },
     "execution_count": 89,
     "metadata": {},
     "output_type": "execute_result"
    }
   ],
   "source": [
    "check_missing_values(checked_columns,columns_for_dummy_col)"
   ]
  },
  {
   "cell_type": "markdown",
   "metadata": {},
   "source": [
    "### Step 1.3: Create a Cleaning Function\n",
    "\n",
    "Even though you've finished cleaning up the general population demographics data, it's important to look ahead to the future and realize that you'll need to perform the same cleaning steps on the customer demographics data. In this substep, complete the function below to execute the main feature selection, encoding, and re-engineering steps you performed above. Then, when it comes to looking at the customer data in Step 3, you can just run this function on that DataFrame to get the trimmed dataset in a single step."
   ]
  },
  {
   "cell_type": "code",
   "execution_count": 90,
   "metadata": {},
   "outputs": [],
   "source": [
    "def clean_data(df, df_feat):\n",
    "    \"\"\"\n",
    "    Perform feature trimming, re-encoding, and engineering for demographics\n",
    "    data\n",
    "    \n",
    "    INPUT: \n",
    "        1. Demographics DataFrame\n",
    "        2. Dataframe with feature attributes for demographics data\n",
    "    OUTPUT: \n",
    "        1. Trimmed and cleaned demographics DataFrame\n",
    "        2. Trimmed and cleaned Dataframe with feature attributes for demographics data\n",
    "    \"\"\"\n",
    "    \n",
    "    # Put in code here to execute all main cleaning steps:\n",
    "    # convert missing value codes into NaNs, ...\n",
    "    characters = ['\\[', '\\]']\n",
    "    eliminate_characters(df_feat.missing_or_unknown, characters)\n",
    "    df_feat.missing_or_unknown = df_feat.missing_or_unknown.str.split(',')\n",
    "    unknown_missing_values_list = df_feat.missing_or_unknown.tolist()\n",
    "    convert_to_float(unknown_missing_values_list)\n",
    "    column_names = df.columns\n",
    "    df = df.replace(replace_by_nan(unknown_missing_values_list, column_names))\n",
    "    # remove selected columns and rows, ...\n",
    "    columns_to_drop = ['TITEL_KZ','AGER_TYP',\n",
    "                       'KK_KUNDENTYP','KBA05_BAUMAX',\n",
    "                       'GEBURTSJAHR','ALTER_HH',\n",
    "                       'CJT_GESAMTTYP','FINANZTYP', \n",
    "                       'LP_FAMILIE_FEIN','LP_STATUS_FEIN',\n",
    "                       'GEBAEUDETYP','CAMEO_DEU_2015']\n",
    "    df.drop(columns = columns_to_drop, inplace = True)\n",
    "    #df, columns_to_drop = drop_high_null_volume_cols(df)\n",
    "    \n",
    "    df_feat = drop_attributes(df_feat, columns_to_drop)\n",
    "    \n",
    "    df_low = df[df.isnull().sum(axis = 1) < 25]\n",
    "    \n",
    "    df_high = df[df.isnull().sum(axis = 1) >= 25]\n",
    "    \n",
    "    \n",
    "    df_low = create_dummy_variables(df_low, df_feat, string = 'categorical')\n",
    "    \n",
    "    df_low.rename(columns = {'OST_WEST_KZ_O': 'OST_WEST_KZ_OW'}, inplace = True)\n",
    "    df_low.drop(columns = 'OST_WEST_KZ_W', inplace = True)\n",
    "    \n",
    "    decades = {1.0: 40.0, 2.0: 40.0, 3.0: 50.0, 4.0: 50.0, 5.0: 60.0, 6.0: 60.0,\n",
    "               7.0: 60.0, 8.0: 70.0, 9.0: 70.0, 10.0: 80.0, 11.0: 80.0, 12.0: 80.0,\n",
    "               13.0: 80.0, 14.0: 90.0, 15.0: 90.0}\n",
    "            \n",
    "    movement = {1: 0, 2: 1, 3: 0, 4: 1, 5: 0, 6: 1, 7: 1, 8:0, 9: 1, 10:0, 11: 1, 12:0, 13: 1, 14: 0, 15: 1}\n",
    "\n",
    "    wealth = {'11': 1.0, '12': 1.0, '13': 1.0, '14': 1.0, '15': 1.0,\n",
    "          '21': 2.0, '22': 2.0, '23': 2.0, '24': 2.0, '25': 2.0,\n",
    "          '31': 3.0, '32': 3.0, '33': 3.0, '34': 3.0, '35': 3.0,\n",
    "          '41': 4.0, '42': 4.0, '43': 4.0, '44': 4.0, '45': 4.0,\n",
    "          '51': 5.0, '52': 5.0, '53': 5.0, '54': 5.0, '55': 5.0}\n",
    "    life_stage = {'11': 1.0, '12': 2.0, '13': 3.0, '14': 4.0, '15': 5.0,\n",
    "              '21': 1.0, '22': 2.0, '23': 3.0, '24': 4.0, '25': 5.0,\n",
    "              '31': 1.0, '32': 2.0, '33': 3.0, '34': 4.0, '35': 5.0,\n",
    "              '41': 1.0, '42': 2.0, '43': 3.0, '44': 4.0, '45': 5.0,\n",
    "              '51': 1.0, '52': 2.0, '53': 3.0, '54': 4.0, '55': 5.0}\n",
    "    \n",
    "    columns_to_replace = ['PRAEGENDE_JUGENDJAHRE','PRAEGENDE_JUGENDJAHRE','CAMEO_INTL_2015', 'CAMEO_INTL_2015']\n",
    "    value_dicts = [decades, movement, wealth, life_stage]\n",
    "    new_column_names = ['DECADE', 'MOVEMENT', 'WEALTH', 'LIFE_STAGE']\n",
    "    \n",
    "    df_low, columns_to_drop = reencode_clean_all_mixed(df=df_low, df_feat = df_feat, column_names_replace = columns_to_replace,\n",
    "                              values_dict = value_dicts, new_column_name = new_column_names)\n",
    "    \n",
    "    \n",
    "    df_feat = drop_attributes(df_feat, columns_to_drop)\n",
    "    \n",
    "    return df_low, df_high, df_feat"
   ]
  },
  {
   "cell_type": "markdown",
   "metadata": {},
   "source": [
    "## Step 2: Feature Transformation\n",
    "\n",
    "### Step 2.1: Apply Feature Scaling\n",
    "\n",
    "Before we apply dimensionality reduction techniques to the data, we need to perform feature scaling so that the principal component vectors are not influenced by the natural differences in scale for features. Starting from this part of the project, you'll want to keep an eye on the [API reference page for sklearn](http://scikit-learn.org/stable/modules/classes.html) to help you navigate to all of the classes and functions that you'll need. In this substep, you'll need to check the following:\n",
    "\n",
    "- sklearn requires that data not have missing values in order for its estimators to work properly. So, before applying the scaler to your data, make sure that you've cleaned the DataFrame of the remaining missing values. This can be as simple as just removing all data points with missing data, or applying an [Imputer](http://scikit-learn.org/stable/modules/generated/sklearn.preprocessing.Imputer.html) to replace all missing values. You might also try a more complicated procedure where you temporarily remove missing values in order to compute the scaling parameters before re-introducing those missing values and applying imputation. Think about how much missing data you have and what possible effects each approach might have on your analysis, and justify your decision in the discussion section below.\n",
    "- For the actual scaling function, a [StandardScaler](http://scikit-learn.org/stable/modules/generated/sklearn.preprocessing.StandardScaler.html) instance is suggested, scaling each feature to mean 0 and standard deviation 1.\n",
    "- For these classes, you can make use of the `.fit_transform()` method to both fit a procedure to the data as well as apply the transformation to the data at the same time. Don't forget to keep the fit sklearn objects handy, since you'll be applying them to the customer demographics data towards the end of the project."
   ]
  },
  {
   "cell_type": "code",
   "execution_count": 91,
   "metadata": {},
   "outputs": [
    {
     "data": {
      "text/plain": [
       "KKK               64764\n",
       "REGIOTYP          64764\n",
       "W_KEIT_KIND_HH    59227\n",
       "KBA05_ANTG4       40009\n",
       "KBA05_ANTG1       40009\n",
       "KBA05_ANTG2       40009\n",
       "KBA05_ANTG3       40009\n",
       "KBA05_GBZ         40009\n",
       "MOBI_REGIO        40009\n",
       "HEALTH_TYP        36671\n",
       "dtype: int64"
      ]
     },
     "execution_count": 91,
     "metadata": {},
     "output_type": "execute_result"
    }
   ],
   "source": [
    "azdias_low_null_count.isnull().sum().sort_values(ascending = False)[:10]"
   ]
  },
  {
   "cell_type": "code",
   "execution_count": 92,
   "metadata": {},
   "outputs": [],
   "source": [
    "test = azdias_low_null_count[azdias_low_null_count.isnull().sum(axis = 1) == 0]  "
   ]
  },
  {
   "cell_type": "code",
   "execution_count": 93,
   "metadata": {},
   "outputs": [
    {
     "data": {
      "text/plain": [
       "0.21894183024065494"
      ]
     },
     "execution_count": 93,
     "metadata": {},
     "output_type": "execute_result"
    }
   ],
   "source": [
    "1-(test.shape[0]/azdias_low_null_count.shape[0])"
   ]
  },
  {
   "cell_type": "code",
   "execution_count": 94,
   "metadata": {},
   "outputs": [],
   "source": [
    "imputer = Imputer(missing_values = np.nan, strategy = 'median')\n",
    "azdias_no_null = pd.DataFrame(imputer.fit_transform(azdias_low_null_count))"
   ]
  },
  {
   "cell_type": "code",
   "execution_count": 95,
   "metadata": {},
   "outputs": [
    {
     "name": "stdout",
     "output_type": "stream",
     "text": [
      "0\n",
      "0\n"
     ]
    }
   ],
   "source": [
    "#Check if Imputer worked\n",
    "print(azdias_no_null.isnull().sum().sum())\n",
    "print(azdias_no_null.isnull().sum(axis = 1).sum())"
   ]
  },
  {
   "cell_type": "code",
   "execution_count": 96,
   "metadata": {},
   "outputs": [],
   "source": [
    "scaler = StandardScaler()\n",
    "scaler_fit_trans =scaler.fit_transform(azdias_no_null)"
   ]
  },
  {
   "cell_type": "code",
   "execution_count": 97,
   "metadata": {},
   "outputs": [],
   "source": [
    "azdias_final = pd.DataFrame(scaler_fit_trans)"
   ]
  },
  {
   "cell_type": "code",
   "execution_count": 98,
   "metadata": {},
   "outputs": [],
   "source": [
    "azdias_final.columns = azdias_low_null_count.columns"
   ]
  },
  {
   "cell_type": "code",
   "execution_count": 99,
   "metadata": {},
   "outputs": [
    {
     "data": {
      "text/html": [
       "<div>\n",
       "<style scoped>\n",
       "    .dataframe tbody tr th:only-of-type {\n",
       "        vertical-align: middle;\n",
       "    }\n",
       "\n",
       "    .dataframe tbody tr th {\n",
       "        vertical-align: top;\n",
       "    }\n",
       "\n",
       "    .dataframe thead th {\n",
       "        text-align: right;\n",
       "    }\n",
       "</style>\n",
       "<table border=\"1\" class=\"dataframe\">\n",
       "  <thead>\n",
       "    <tr style=\"text-align: right;\">\n",
       "      <th></th>\n",
       "      <th>ALTERSKATEGORIE_GROB</th>\n",
       "      <th>ANREDE_KZ</th>\n",
       "      <th>FINANZ_MINIMALIST</th>\n",
       "      <th>FINANZ_SPARER</th>\n",
       "      <th>FINANZ_VORSORGER</th>\n",
       "      <th>FINANZ_ANLEGER</th>\n",
       "      <th>FINANZ_UNAUFFAELLIGER</th>\n",
       "      <th>FINANZ_HAUSBAUER</th>\n",
       "      <th>GREEN_AVANTGARDE</th>\n",
       "      <th>HEALTH_TYP</th>\n",
       "      <th>...</th>\n",
       "      <th>CAMEO_DEUG_2015_4</th>\n",
       "      <th>CAMEO_DEUG_2015_5</th>\n",
       "      <th>CAMEO_DEUG_2015_6</th>\n",
       "      <th>CAMEO_DEUG_2015_7</th>\n",
       "      <th>CAMEO_DEUG_2015_8</th>\n",
       "      <th>CAMEO_DEUG_2015_9</th>\n",
       "      <th>DECADE</th>\n",
       "      <th>MOVEMENT</th>\n",
       "      <th>WEALTH</th>\n",
       "      <th>LIFE_STAGE</th>\n",
       "    </tr>\n",
       "  </thead>\n",
       "  <tbody>\n",
       "    <tr>\n",
       "      <th>0</th>\n",
       "      <td>-1.766583</td>\n",
       "      <td>0.957932</td>\n",
       "      <td>-1.494563</td>\n",
       "      <td>1.537958</td>\n",
       "      <td>-1.040677</td>\n",
       "      <td>1.466028</td>\n",
       "      <td>0.958855</td>\n",
       "      <td>1.339191</td>\n",
       "      <td>-0.530442</td>\n",
       "      <td>1.096516</td>\n",
       "      <td>...</td>\n",
       "      <td>-0.386920</td>\n",
       "      <td>-0.272885</td>\n",
       "      <td>-0.391135</td>\n",
       "      <td>-0.329005</td>\n",
       "      <td>2.221523</td>\n",
       "      <td>-0.396028</td>\n",
       "      <td>1.172889</td>\n",
       "      <td>-0.530442</td>\n",
       "      <td>1.186174</td>\n",
       "      <td>-1.266961</td>\n",
       "    </tr>\n",
       "    <tr>\n",
       "      <th>1</th>\n",
       "      <td>0.200534</td>\n",
       "      <td>0.957932</td>\n",
       "      <td>-1.494563</td>\n",
       "      <td>0.864598</td>\n",
       "      <td>-1.766947</td>\n",
       "      <td>-0.570971</td>\n",
       "      <td>0.244297</td>\n",
       "      <td>1.339191</td>\n",
       "      <td>1.885219</td>\n",
       "      <td>1.096516</td>\n",
       "      <td>...</td>\n",
       "      <td>2.584513</td>\n",
       "      <td>-0.272885</td>\n",
       "      <td>-0.391135</td>\n",
       "      <td>-0.329005</td>\n",
       "      <td>-0.450142</td>\n",
       "      <td>-0.396028</td>\n",
       "      <td>1.172889</td>\n",
       "      <td>1.885219</td>\n",
       "      <td>-0.868201</td>\n",
       "      <td>0.761246</td>\n",
       "    </tr>\n",
       "    <tr>\n",
       "      <th>2</th>\n",
       "      <td>1.184092</td>\n",
       "      <td>0.957932</td>\n",
       "      <td>0.683201</td>\n",
       "      <td>-0.482123</td>\n",
       "      <td>1.138132</td>\n",
       "      <td>-0.570971</td>\n",
       "      <td>-1.184817</td>\n",
       "      <td>-0.791446</td>\n",
       "      <td>-0.530442</td>\n",
       "      <td>-0.257063</td>\n",
       "      <td>...</td>\n",
       "      <td>-0.386920</td>\n",
       "      <td>-0.272885</td>\n",
       "      <td>-0.391135</td>\n",
       "      <td>-0.329005</td>\n",
       "      <td>-0.450142</td>\n",
       "      <td>-0.396028</td>\n",
       "      <td>-0.223438</td>\n",
       "      <td>-0.530442</td>\n",
       "      <td>-1.552992</td>\n",
       "      <td>-0.590892</td>\n",
       "    </tr>\n",
       "    <tr>\n",
       "      <th>3</th>\n",
       "      <td>0.200534</td>\n",
       "      <td>-1.043916</td>\n",
       "      <td>0.683201</td>\n",
       "      <td>0.191237</td>\n",
       "      <td>0.411863</td>\n",
       "      <td>-1.249970</td>\n",
       "      <td>0.244297</td>\n",
       "      <td>-0.791446</td>\n",
       "      <td>-0.530442</td>\n",
       "      <td>1.096516</td>\n",
       "      <td>...</td>\n",
       "      <td>-0.386920</td>\n",
       "      <td>-0.272885</td>\n",
       "      <td>2.556661</td>\n",
       "      <td>-0.329005</td>\n",
       "      <td>-0.450142</td>\n",
       "      <td>-0.396028</td>\n",
       "      <td>-0.223438</td>\n",
       "      <td>-0.530442</td>\n",
       "      <td>0.501382</td>\n",
       "      <td>0.085177</td>\n",
       "    </tr>\n",
       "    <tr>\n",
       "      <th>4</th>\n",
       "      <td>-1.766583</td>\n",
       "      <td>0.957932</td>\n",
       "      <td>-0.042721</td>\n",
       "      <td>-1.155483</td>\n",
       "      <td>1.138132</td>\n",
       "      <td>-0.570971</td>\n",
       "      <td>-0.470260</td>\n",
       "      <td>1.339191</td>\n",
       "      <td>-0.530442</td>\n",
       "      <td>1.096516</td>\n",
       "      <td>...</td>\n",
       "      <td>-0.386920</td>\n",
       "      <td>-0.272885</td>\n",
       "      <td>-0.391135</td>\n",
       "      <td>-0.329005</td>\n",
       "      <td>2.221523</td>\n",
       "      <td>-0.396028</td>\n",
       "      <td>-1.619764</td>\n",
       "      <td>-0.530442</td>\n",
       "      <td>1.186174</td>\n",
       "      <td>0.761246</td>\n",
       "    </tr>\n",
       "  </tbody>\n",
       "</table>\n",
       "<p>5 rows × 108 columns</p>\n",
       "</div>"
      ],
      "text/plain": [
       "   ALTERSKATEGORIE_GROB  ANREDE_KZ  FINANZ_MINIMALIST  FINANZ_SPARER  \\\n",
       "0             -1.766583   0.957932          -1.494563       1.537958   \n",
       "1              0.200534   0.957932          -1.494563       0.864598   \n",
       "2              1.184092   0.957932           0.683201      -0.482123   \n",
       "3              0.200534  -1.043916           0.683201       0.191237   \n",
       "4             -1.766583   0.957932          -0.042721      -1.155483   \n",
       "\n",
       "   FINANZ_VORSORGER  FINANZ_ANLEGER  FINANZ_UNAUFFAELLIGER  FINANZ_HAUSBAUER  \\\n",
       "0         -1.040677        1.466028               0.958855          1.339191   \n",
       "1         -1.766947       -0.570971               0.244297          1.339191   \n",
       "2          1.138132       -0.570971              -1.184817         -0.791446   \n",
       "3          0.411863       -1.249970               0.244297         -0.791446   \n",
       "4          1.138132       -0.570971              -0.470260          1.339191   \n",
       "\n",
       "   GREEN_AVANTGARDE  HEALTH_TYP     ...      CAMEO_DEUG_2015_4  \\\n",
       "0         -0.530442    1.096516     ...              -0.386920   \n",
       "1          1.885219    1.096516     ...               2.584513   \n",
       "2         -0.530442   -0.257063     ...              -0.386920   \n",
       "3         -0.530442    1.096516     ...              -0.386920   \n",
       "4         -0.530442    1.096516     ...              -0.386920   \n",
       "\n",
       "   CAMEO_DEUG_2015_5  CAMEO_DEUG_2015_6  CAMEO_DEUG_2015_7  CAMEO_DEUG_2015_8  \\\n",
       "0          -0.272885          -0.391135          -0.329005           2.221523   \n",
       "1          -0.272885          -0.391135          -0.329005          -0.450142   \n",
       "2          -0.272885          -0.391135          -0.329005          -0.450142   \n",
       "3          -0.272885           2.556661          -0.329005          -0.450142   \n",
       "4          -0.272885          -0.391135          -0.329005           2.221523   \n",
       "\n",
       "   CAMEO_DEUG_2015_9    DECADE  MOVEMENT    WEALTH  LIFE_STAGE  \n",
       "0          -0.396028  1.172889 -0.530442  1.186174   -1.266961  \n",
       "1          -0.396028  1.172889  1.885219 -0.868201    0.761246  \n",
       "2          -0.396028 -0.223438 -0.530442 -1.552992   -0.590892  \n",
       "3          -0.396028 -0.223438 -0.530442  0.501382    0.085177  \n",
       "4          -0.396028 -1.619764 -0.530442  1.186174    0.761246  \n",
       "\n",
       "[5 rows x 108 columns]"
      ]
     },
     "execution_count": 99,
     "metadata": {},
     "output_type": "execute_result"
    }
   ],
   "source": [
    "azdias_final.head()"
   ]
  },
  {
   "cell_type": "code",
   "execution_count": 100,
   "metadata": {},
   "outputs": [
    {
     "data": {
      "text/plain": [
       "(797906, 108)"
      ]
     },
     "execution_count": 100,
     "metadata": {},
     "output_type": "execute_result"
    }
   ],
   "source": [
    "azdias_final.shape"
   ]
  },
  {
   "cell_type": "markdown",
   "metadata": {},
   "source": [
    "### Discussion 2.1: Apply Feature Scaling\n",
    "\n",
    "**ANSWER:**\n",
    "\n",
    "A quick look at the data shows that after the re-encoding and re-engineering of columns there are still missing values in the `azdias_low_null_count` dataset. Only about 22% of the rows over all columns have zero missing values. Given that we do not want to loose too much data by eliminating all rows with missing values, an sklearn Imputer was used to fill the missing values with the median. The median was chosen to create the imputer to avoid outliers from influencing the values used to replace the missing data. \n",
    "\n",
    "To prepare data for PCA and clustering a sklearn Standard Scaler was used to scale all data to a z-score (z = (x - u) / sd)."
   ]
  },
  {
   "cell_type": "markdown",
   "metadata": {},
   "source": [
    "### Step 2.2: Perform Dimensionality Reduction\n",
    "\n",
    "On your scaled data, you are now ready to apply dimensionality reduction techniques.\n",
    "\n",
    "- Use sklearn's [PCA](http://scikit-learn.org/stable/modules/generated/sklearn.decomposition.PCA.html) class to apply principal component analysis on the data, thus finding the vectors of maximal variance in the data. To start, you should not set any parameters (so all components are computed) or set a number of components that is at least half the number of features (so there's enough features to see the general trend in variability).\n",
    "- Check out the ratio of variance explained by each principal component as well as the cumulative variance explained. Try plotting the cumulative or sequential values using matplotlib's [`plot()`](https://matplotlib.org/api/_as_gen/matplotlib.pyplot.plot.html) function. Based on what you find, select a value for the number of transformed features you'll retain for the clustering part of the project.\n",
    "- Once you've made a choice for the number of components to keep, make sure you re-fit a PCA instance to perform the decided-on transformation."
   ]
  },
  {
   "cell_type": "code",
   "execution_count": 101,
   "metadata": {},
   "outputs": [],
   "source": [
    "pca = PCA(n_components = azdias_final.shape[1])\n",
    "X_pca = pca.fit_transform(azdias_final)"
   ]
  },
  {
   "cell_type": "code",
   "execution_count": 102,
   "metadata": {},
   "outputs": [],
   "source": [
    "def scree_plot(pca):\n",
    "    '''\n",
    "    Creates a scree plot associated with the principal components \n",
    "    \n",
    "    INPUT: pca - the result of instantian of PCA in scikit learn\n",
    "            \n",
    "    OUTPUT:\n",
    "            None\n",
    "    '''\n",
    "    num_components=len(pca.explained_variance_ratio_)\n",
    "    ind = np.arange(num_components)\n",
    "    vals = pca.explained_variance_ratio_\n",
    " \n",
    "    plt.figure(figsize=(20, 10))\n",
    "    ax = plt.subplot(111)\n",
    "    cumvals = np.cumsum(vals)\n",
    "    ax.bar(ind, vals)\n",
    "    ax.plot(ind, cumvals)\n",
    "    if num_components < 80:\n",
    "        for i in range(num_components):\n",
    "            ax.annotate(r\"%s%%\" % ((str(vals[i]*100)[:4])), (ind[i]+0.2, vals[i]), va=\"bottom\", ha=\"center\", fontsize=10)\n",
    " \n",
    "    ax.xaxis.set_tick_params(width=0)\n",
    "    ax.yaxis.set_tick_params(width=2, length=12)\n",
    " \n",
    "    ax.set_xlabel(\"Principal Component\")\n",
    "    ax.set_ylabel(\"Variance Explained (%)\")\n",
    "    plt.title('Explained Variance Per Principal Component')\n",
    "    plt.tight_layout()"
   ]
  },
  {
   "cell_type": "code",
   "execution_count": 103,
   "metadata": {},
   "outputs": [
    {
     "data": {
      "image/png": "[encoded data removed]",
      "text/plain": [
       "<matplotlib.figure.Figure at 0x7f8b78643a90>"
      ]
     },
     "metadata": {
      "needs_background": "light"
     },
     "output_type": "display_data"
    }
   ],
   "source": [
    "scree_plot(pca)"
   ]
  },
  {
   "cell_type": "code",
   "execution_count": 104,
   "metadata": {},
   "outputs": [
    {
     "name": "stdout",
     "output_type": "stream",
     "text": [
      "The variance explained by the first 5 features amounts to: 0.34\n",
      "Average variance increase per feature in this interval amounts to: 0.0670\n",
      "\n",
      "The variance explained by the first 10 features amounts to: 0.43\n",
      "Average variance increase per feature in this interval amounts to: 0.0189\n",
      "\n",
      "The variance explained by the first 15 features amounts to: 0.50\n",
      "Average variance increase per feature in this interval amounts to: 0.0142\n",
      "\n",
      "The variance explained by the first 20 features amounts to: 0.56\n",
      "Average variance increase per feature in this interval amounts to: 0.0121\n",
      "\n",
      "The variance explained by the first 25 features amounts to: 0.62\n",
      "Average variance increase per feature in this interval amounts to: 0.0110\n",
      "\n",
      "The variance explained by the first 30 features amounts to: 0.67\n",
      "Average variance increase per feature in this interval amounts to: 0.0103\n",
      "\n",
      "The variance explained by the first 35 features amounts to: 0.72\n",
      "Average variance increase per feature in this interval amounts to: 0.0098\n",
      "\n",
      "The variance explained by the first 40 features amounts to: 0.76\n",
      "Average variance increase per feature in this interval amounts to: 0.0094\n",
      "\n",
      "The variance explained by the first 45 features amounts to: 0.81\n",
      "Average variance increase per feature in this interval amounts to: 0.0089\n",
      "\n",
      "The variance explained by the first 50 features amounts to: 0.85\n",
      "Average variance increase per feature in this interval amounts to: 0.0080\n",
      "\n",
      "The variance explained by the first 55 features amounts to: 0.88\n",
      "Average variance increase per feature in this interval amounts to: 0.0068\n",
      "\n",
      "The variance explained by the first 60 features amounts to: 0.91\n",
      "Average variance increase per feature in this interval amounts to: 0.0054\n",
      "\n",
      "The variance explained by the first 65 features amounts to: 0.93\n",
      "Average variance increase per feature in this interval amounts to: 0.0041\n",
      "\n",
      "The variance explained by the first 70 features amounts to: 0.95\n",
      "Average variance increase per feature in this interval amounts to: 0.0035\n",
      "\n",
      "The variance explained by the first 75 features amounts to: 0.96\n",
      "Average variance increase per feature in this interval amounts to: 0.0028\n",
      "\n"
     ]
    }
   ],
   "source": [
    "temp = 0\n",
    "temp_old = 0\n",
    "interval_step = 5\n",
    "for feature_num in np.arange(5, 80, interval_step):\n",
    "    \n",
    "    temp = pca.explained_variance_ratio_[:feature_num].sum()\n",
    "    print('The variance explained by the first {} features amounts to: {:.2f}'.format(feature_num, \n",
    "                                                                                  temp))\n",
    "    print('Average variance increase per feature in this interval amounts to: {:.4f}\\n'.format(((temp-temp_old)/interval_step)))\n",
    "    temp_old = temp"
   ]
  },
  {
   "cell_type": "code",
   "execution_count": 105,
   "metadata": {},
   "outputs": [],
   "source": [
    "pca = PCA(n_components = 25)\n",
    "X_pca = pca.fit_transform(azdias_final)"
   ]
  },
  {
   "cell_type": "code",
   "execution_count": 106,
   "metadata": {},
   "outputs": [
    {
     "data": {
      "image/png": "[encoded data removed]",
      "text/plain": [
       "<matplotlib.figure.Figure at 0x7f8b7a1ad390>"
      ]
     },
     "metadata": {
      "needs_background": "light"
     },
     "output_type": "display_data"
    }
   ],
   "source": [
    "scree_plot(pca)"
   ]
  },
  {
   "cell_type": "markdown",
   "metadata": {},
   "source": [
    "### Discussion 2.2: Perform Dimensionality Reduction\n",
    "\n",
    "**ANSWER:**\n",
    "\n",
    "A PCA object was created to fit and transform the `azdias_clean` dataset. In the first scree plot generated to see the eigenvalues of each eigenvector, we can recognize that the first 4 dimensions already explain a large part of the variance. A more detailed analysis of the eigenvalues shows that the first five dimension explain 34% of the eigenvalue and each of the features is responsible for an average of 0.06 increase in the variance. The average increase in variance explained by each feature starts stagnating at around 20 features. To encompass as much information as possible through the eigenvectors while substantially reducing the number of features in the dataset 25 principal components were retained for the next step of the analysis. "
   ]
  },
  {
   "cell_type": "markdown",
   "metadata": {},
   "source": [
    "### Step 2.3: Interpret Principal Components\n",
    "\n",
    "Now that we have our transformed principal components, it's a nice idea to check out the weight of each variable on the first few components to see if they can be interpreted in some fashion.\n",
    "\n",
    "As a reminder, each principal component is a unit vector that points in the direction of highest variance (after accounting for the variance captured by earlier principal components). The further a weight is from zero, the more the principal component is in the direction of the corresponding feature. If two features have large weights of the same sign (both positive or both negative), then increases in one tend expect to be associated with increases in the other. To contrast, features with different signs can be expected to show a negative correlation: increases in one variable should result in a decrease in the other.\n",
    "\n",
    "- To investigate the features, you should map each weight to their corresponding feature name, then sort the features according to weight. The most interesting features for each principal component, then, will be those at the beginning and end of the sorted list. Use the data dictionary document to help you understand these most prominent features, their relationships, and what a positive or negative value on the principal component might indicate.\n",
    "- You should investigate and interpret feature associations from the first three principal components in this substep. To help facilitate this, you should write a function that you can call at any time to print the sorted list of feature weights, for the *i*-th principal component. This might come in handy in the next step of the project, when you interpret the tendencies of the discovered clusters."
   ]
  },
  {
   "cell_type": "code",
   "execution_count": 107,
   "metadata": {},
   "outputs": [],
   "source": [
    "def helper_for_pca(full_dataset, pca):\n",
    "    '''This function get the dimensions and the weights per feature of the PCA results\n",
    "    INPUT: \n",
    "        1. Dataframe\n",
    "        2. Principal component Analysis results\n",
    "    OUTPUT: \n",
    "        1. Dimensions of PCA\n",
    "        2. Weights of each feature of PCA\n",
    "        '''\n",
    "   \n",
    "    dimensions = ['Dimension {}'.format(i) for i in range(1,len(pca.components_)+1)]\n",
    "    \n",
    "    components = pd.DataFrame(np.round(pca.components_, 4), columns = full_dataset.keys())\n",
    "    return dimensions, components"
   ]
  },
  {
   "cell_type": "code",
   "execution_count": 108,
   "metadata": {},
   "outputs": [],
   "source": [
    "def pca_results(full_dataset, pca):\n",
    "    '''\n",
    "    This function create a DataFrame with relevant information about the results of the PCA. \n",
    "    INPUT:\n",
    "        1. Dataframe\n",
    "        2. Principal component Analysis results\n",
    "    OUTPUT:\n",
    "        1. Dataframe with PCA results that includes dimension feature weights and explained variance\n",
    "    \n",
    "    '''\n",
    "   \n",
    "    dimensions, components = helper_for_pca(full_dataset, pca)\n",
    "    components.index = dimensions\n",
    "    ratios = pca.explained_variance_ratio_.reshape(len(pca.components_), 1)\n",
    "    variance_ratios = pd.DataFrame(np.round(ratios, 4), columns = ['Explained Variance'])\n",
    "    variance_ratios.index = dimensions\n",
    "    return pd.concat([variance_ratios, components], axis = 1)"
   ]
  },
  {
   "cell_type": "code",
   "execution_count": 109,
   "metadata": {},
   "outputs": [],
   "source": [
    "def plot_pca_results(full_dataset, pca, n_dim_in_plot):\n",
    "    '''This function visualizes the results of the PCA by dimension including the weight of each feature and\n",
    "    the explained variance\n",
    "    INPUT:\n",
    "        1. Dataframe\n",
    "        2. PCA results\n",
    "        3. Number of dimensions in one plot\n",
    "    OUTPUT:\n",
    "        1. None\n",
    "        '''\n",
    "    dimensions, components = helper_for_pca(full_dataset, pca)\n",
    "    step = n_dim_in_plot\n",
    "    start = 0\n",
    "    end = step\n",
    "    r = int(np.ceil(len(dimensions)/3))\n",
    "    \n",
    "    for i in range(r):\n",
    "        if end > (len(dimensions)):\n",
    "            end = (len(dimensions))+1 \n",
    "            \n",
    "        fig, ax = plt.subplots(figsize = (14,8))\n",
    "        slice_comp = components[start:end]\n",
    "        slice_comp.plot(ax = ax, kind = 'bar')\n",
    "        ax.set_ylabel(\"Feature Weights\")\n",
    "        ax.set_xticklabels(dimensions[start:end], rotation=0)\n",
    "        plt.legend(bbox_to_anchor=(1.05, 1), loc='upper left', borderaxespad=0.)\n",
    "        for i, ev in enumerate(pca.explained_variance_ratio_[start:end]):\n",
    "            ax.text(i-0.40, ax.get_ylim()[1] + 0.05, \"Explained Variance\\n          %.4f\"%(ev))\n",
    "        start = end\n",
    "        end+=step"
   ]
  },
  {
   "cell_type": "code",
   "execution_count": 110,
   "metadata": {},
   "outputs": [],
   "source": [
    "def plot_pca_by_dimension(full_dataset, pca, dimension_name, figsize):\n",
    "    '''This function visualizes the PCA results of one single dimension including the weight of each feature and\n",
    "    the explained variance\n",
    "    INPUT:\n",
    "        1. Dataframe\n",
    "        2. PCA results\n",
    "        3. Dimension to be plotted\n",
    "        4. Figure size\n",
    "    OUTPUT:\n",
    "        1. None\n",
    "        '''\n",
    "    dimensions, components = helper_for_pca(full_dataset, pca)\n",
    "    loc = dimensions.index(dimension_name)\n",
    "    comp_sorted = components.iloc[loc].sort_values(ascending = False)\n",
    "    x = np.arange(len(comp_sorted.keys()))\n",
    "    y = comp_sorted.values\n",
    "    plt.figure(figsize = figsize)\n",
    "    plt.xticks(x ,comp_sorted.keys(), rotation = 90)\n",
    "    plt.ylabel('Feature Weights')\n",
    "    plt.title(dimension_name + ' - Explained Variance Ratio {:.4f}'.format(pca.explained_variance_ratio_[loc]), fontsize = 14)\n",
    "    plt.bar(x,y)"
   ]
  },
  {
   "cell_type": "code",
   "execution_count": 111,
   "metadata": {},
   "outputs": [],
   "source": [
    "result_matrix = pca_results(azdias_final, pca)"
   ]
  },
  {
   "cell_type": "code",
   "execution_count": 112,
   "metadata": {},
   "outputs": [
    {
     "data": {
      "text/html": [
       "<div>\n",
       "<style scoped>\n",
       "    .dataframe tbody tr th:only-of-type {\n",
       "        vertical-align: middle;\n",
       "    }\n",
       "\n",
       "    .dataframe tbody tr th {\n",
       "        vertical-align: top;\n",
       "    }\n",
       "\n",
       "    .dataframe thead th {\n",
       "        text-align: right;\n",
       "    }\n",
       "</style>\n",
       "<table border=\"1\" class=\"dataframe\">\n",
       "  <thead>\n",
       "    <tr style=\"text-align: right;\">\n",
       "      <th></th>\n",
       "      <th>Explained Variance</th>\n",
       "      <th>ALTERSKATEGORIE_GROB</th>\n",
       "      <th>ANREDE_KZ</th>\n",
       "      <th>FINANZ_MINIMALIST</th>\n",
       "      <th>FINANZ_SPARER</th>\n",
       "      <th>FINANZ_VORSORGER</th>\n",
       "      <th>FINANZ_ANLEGER</th>\n",
       "      <th>FINANZ_UNAUFFAELLIGER</th>\n",
       "      <th>FINANZ_HAUSBAUER</th>\n",
       "      <th>GREEN_AVANTGARDE</th>\n",
       "      <th>...</th>\n",
       "      <th>CAMEO_DEUG_2015_4</th>\n",
       "      <th>CAMEO_DEUG_2015_5</th>\n",
       "      <th>CAMEO_DEUG_2015_6</th>\n",
       "      <th>CAMEO_DEUG_2015_7</th>\n",
       "      <th>CAMEO_DEUG_2015_8</th>\n",
       "      <th>CAMEO_DEUG_2015_9</th>\n",
       "      <th>DECADE</th>\n",
       "      <th>MOVEMENT</th>\n",
       "      <th>WEALTH</th>\n",
       "      <th>LIFE_STAGE</th>\n",
       "    </tr>\n",
       "  </thead>\n",
       "  <tbody>\n",
       "    <tr>\n",
       "      <th>Dimension 1</th>\n",
       "      <td>0.1198</td>\n",
       "      <td>-0.0944</td>\n",
       "      <td>0.0156</td>\n",
       "      <td>-0.2041</td>\n",
       "      <td>0.1245</td>\n",
       "      <td>-0.0926</td>\n",
       "      <td>0.0593</td>\n",
       "      <td>0.0558</td>\n",
       "      <td>0.1582</td>\n",
       "      <td>-0.1125</td>\n",
       "      <td>...</td>\n",
       "      <td>-0.0780</td>\n",
       "      <td>-0.0114</td>\n",
       "      <td>0.0030</td>\n",
       "      <td>0.0368</td>\n",
       "      <td>0.0998</td>\n",
       "      <td>0.1230</td>\n",
       "      <td>0.0793</td>\n",
       "      <td>-0.1125</td>\n",
       "      <td>0.1996</td>\n",
       "      <td>-0.1191</td>\n",
       "    </tr>\n",
       "    <tr>\n",
       "      <th>Dimension 2</th>\n",
       "      <td>0.0906</td>\n",
       "      <td>0.2490</td>\n",
       "      <td>0.0750</td>\n",
       "      <td>0.0755</td>\n",
       "      <td>-0.2296</td>\n",
       "      <td>0.2255</td>\n",
       "      <td>-0.1968</td>\n",
       "      <td>-0.2173</td>\n",
       "      <td>0.1012</td>\n",
       "      <td>-0.0112</td>\n",
       "      <td>...</td>\n",
       "      <td>-0.0350</td>\n",
       "      <td>-0.0061</td>\n",
       "      <td>0.0142</td>\n",
       "      <td>0.0119</td>\n",
       "      <td>0.0392</td>\n",
       "      <td>0.0211</td>\n",
       "      <td>-0.2448</td>\n",
       "      <td>-0.0112</td>\n",
       "      <td>0.0611</td>\n",
       "      <td>0.0084</td>\n",
       "    </tr>\n",
       "    <tr>\n",
       "      <th>Dimension 3</th>\n",
       "      <td>0.0598</td>\n",
       "      <td>0.0578</td>\n",
       "      <td>-0.3543</td>\n",
       "      <td>0.1392</td>\n",
       "      <td>-0.0889</td>\n",
       "      <td>0.0862</td>\n",
       "      <td>-0.1742</td>\n",
       "      <td>-0.0849</td>\n",
       "      <td>-0.0367</td>\n",
       "      <td>0.0496</td>\n",
       "      <td>...</td>\n",
       "      <td>-0.0274</td>\n",
       "      <td>-0.0037</td>\n",
       "      <td>-0.0005</td>\n",
       "      <td>0.0017</td>\n",
       "      <td>0.0197</td>\n",
       "      <td>0.0265</td>\n",
       "      <td>-0.0913</td>\n",
       "      <td>0.0496</td>\n",
       "      <td>0.0331</td>\n",
       "      <td>-0.0146</td>\n",
       "    </tr>\n",
       "    <tr>\n",
       "      <th>Dimension 4</th>\n",
       "      <td>0.0385</td>\n",
       "      <td>-0.0364</td>\n",
       "      <td>0.0498</td>\n",
       "      <td>0.0303</td>\n",
       "      <td>0.0048</td>\n",
       "      <td>-0.0202</td>\n",
       "      <td>-0.0933</td>\n",
       "      <td>0.0606</td>\n",
       "      <td>-0.0620</td>\n",
       "      <td>0.3507</td>\n",
       "      <td>...</td>\n",
       "      <td>-0.0466</td>\n",
       "      <td>0.0241</td>\n",
       "      <td>-0.0361</td>\n",
       "      <td>-0.0198</td>\n",
       "      <td>-0.0159</td>\n",
       "      <td>-0.0144</td>\n",
       "      <td>0.0376</td>\n",
       "      <td>0.3507</td>\n",
       "      <td>-0.0803</td>\n",
       "      <td>0.0362</td>\n",
       "    </tr>\n",
       "    <tr>\n",
       "      <th>Dimension 5</th>\n",
       "      <td>0.0264</td>\n",
       "      <td>0.0540</td>\n",
       "      <td>-0.0235</td>\n",
       "      <td>0.0662</td>\n",
       "      <td>-0.0158</td>\n",
       "      <td>-0.0009</td>\n",
       "      <td>0.0496</td>\n",
       "      <td>-0.0785</td>\n",
       "      <td>-0.0659</td>\n",
       "      <td>-0.0865</td>\n",
       "      <td>...</td>\n",
       "      <td>0.0100</td>\n",
       "      <td>-0.0325</td>\n",
       "      <td>-0.0097</td>\n",
       "      <td>-0.0090</td>\n",
       "      <td>0.0425</td>\n",
       "      <td>0.0582</td>\n",
       "      <td>0.0119</td>\n",
       "      <td>-0.0865</td>\n",
       "      <td>0.0785</td>\n",
       "      <td>-0.0440</td>\n",
       "    </tr>\n",
       "  </tbody>\n",
       "</table>\n",
       "<p>5 rows × 109 columns</p>\n",
       "</div>"
      ],
      "text/plain": [
       "             Explained Variance  ALTERSKATEGORIE_GROB  ANREDE_KZ  \\\n",
       "Dimension 1              0.1198               -0.0944     0.0156   \n",
       "Dimension 2              0.0906                0.2490     0.0750   \n",
       "Dimension 3              0.0598                0.0578    -0.3543   \n",
       "Dimension 4              0.0385               -0.0364     0.0498   \n",
       "Dimension 5              0.0264                0.0540    -0.0235   \n",
       "\n",
       "             FINANZ_MINIMALIST  FINANZ_SPARER  FINANZ_VORSORGER  \\\n",
       "Dimension 1            -0.2041         0.1245           -0.0926   \n",
       "Dimension 2             0.0755        -0.2296            0.2255   \n",
       "Dimension 3             0.1392        -0.0889            0.0862   \n",
       "Dimension 4             0.0303         0.0048           -0.0202   \n",
       "Dimension 5             0.0662        -0.0158           -0.0009   \n",
       "\n",
       "             FINANZ_ANLEGER  FINANZ_UNAUFFAELLIGER  FINANZ_HAUSBAUER  \\\n",
       "Dimension 1          0.0593                 0.0558            0.1582   \n",
       "Dimension 2         -0.1968                -0.2173            0.1012   \n",
       "Dimension 3         -0.1742                -0.0849           -0.0367   \n",
       "Dimension 4         -0.0933                 0.0606           -0.0620   \n",
       "Dimension 5          0.0496                -0.0785           -0.0659   \n",
       "\n",
       "             GREEN_AVANTGARDE     ...      CAMEO_DEUG_2015_4  \\\n",
       "Dimension 1           -0.1125     ...                -0.0780   \n",
       "Dimension 2           -0.0112     ...                -0.0350   \n",
       "Dimension 3            0.0496     ...                -0.0274   \n",
       "Dimension 4            0.3507     ...                -0.0466   \n",
       "Dimension 5           -0.0865     ...                 0.0100   \n",
       "\n",
       "             CAMEO_DEUG_2015_5  CAMEO_DEUG_2015_6  CAMEO_DEUG_2015_7  \\\n",
       "Dimension 1            -0.0114             0.0030             0.0368   \n",
       "Dimension 2            -0.0061             0.0142             0.0119   \n",
       "Dimension 3            -0.0037            -0.0005             0.0017   \n",
       "Dimension 4             0.0241            -0.0361            -0.0198   \n",
       "Dimension 5            -0.0325            -0.0097            -0.0090   \n",
       "\n",
       "             CAMEO_DEUG_2015_8  CAMEO_DEUG_2015_9  DECADE  MOVEMENT  WEALTH  \\\n",
       "Dimension 1             0.0998             0.1230  0.0793   -0.1125  0.1996   \n",
       "Dimension 2             0.0392             0.0211 -0.2448   -0.0112  0.0611   \n",
       "Dimension 3             0.0197             0.0265 -0.0913    0.0496  0.0331   \n",
       "Dimension 4            -0.0159            -0.0144  0.0376    0.3507 -0.0803   \n",
       "Dimension 5             0.0425             0.0582  0.0119   -0.0865  0.0785   \n",
       "\n",
       "             LIFE_STAGE  \n",
       "Dimension 1     -0.1191  \n",
       "Dimension 2      0.0084  \n",
       "Dimension 3     -0.0146  \n",
       "Dimension 4      0.0362  \n",
       "Dimension 5     -0.0440  \n",
       "\n",
       "[5 rows x 109 columns]"
      ]
     },
     "execution_count": 112,
     "metadata": {},
     "output_type": "execute_result"
    }
   ],
   "source": [
    "result_matrix.head()"
   ]
  },
  {
   "cell_type": "code",
   "execution_count": 113,
   "metadata": {},
   "outputs": [],
   "source": [
    "# Uncomment to plot weights and explained variance per dimension\n",
    "# for all dimensions\n",
    "#plot_pca_results(azdias_final, pca, 3)"
   ]
  },
  {
   "cell_type": "code",
   "execution_count": 114,
   "metadata": {},
   "outputs": [
    {
     "data": {
      "image/png": "[encoded data removed]",
      "text/plain": [
       "<matplotlib.figure.Figure at 0x7f8b6461fe80>"
      ]
     },
     "metadata": {
      "needs_background": "light"
     },
     "output_type": "display_data"
    }
   ],
   "source": [
    "plot_pca_by_dimension(azdias_final, pca, 'Dimension 1', (18,15))"
   ]
  },
  {
   "cell_type": "code",
   "execution_count": 115,
   "metadata": {},
   "outputs": [
    {
     "data": {
      "image/png": "[encoded data removed]",
      "text/plain": [
       "<matplotlib.figure.Figure at 0x7f8b644f2c50>"
      ]
     },
     "metadata": {
      "needs_background": "light"
     },
     "output_type": "display_data"
    }
   ],
   "source": [
    "plot_pca_by_dimension(azdias_final, pca, 'Dimension 2', (18,15))"
   ]
  },
  {
   "cell_type": "code",
   "execution_count": 116,
   "metadata": {},
   "outputs": [
    {
     "data": {
      "image/png": "[encoded data removed]",
      "text/plain": [
       "<matplotlib.figure.Figure at 0x7f8b642e5780>"
      ]
     },
     "metadata": {
      "needs_background": "light"
     },
     "output_type": "display_data"
    }
   ],
   "source": [
    "plot_pca_by_dimension(azdias_final, pca, 'Dimension 3', (18,15))"
   ]
  },
  {
   "cell_type": "markdown",
   "metadata": {},
   "source": [
    "### Discussion 2.3: Interpret Principal Components\n",
    "\n",
    "The first three principal components explain around 27% of the variance and will therefore be analyzed in more detail. Only the top three positively weighted and top three negatively weighted features will be considered in this scenario.  \n",
    "\n",
    "*__Dimension 1:__*\n",
    "\n",
    "|FEATURE | DESCRPTION|TYPE\n",
    "|---|--------|---|\n",
    "|LP_STATUS_GROB_1.0|low-income earners|+|\n",
    "|PLZ8_ANTG3|Number of 6-10 family houses in the PLZ8 region|+|\n",
    "|HH_EINKOMMEN_SCORE|Estimated household net income|+|\n",
    "|MOBI_REGIO|Movement patterns|-|\n",
    "|KBA05_ANTG1|Number of 1-2 family houses in the microcell|-|\n",
    "|FINANZ_MINIMALIST|Financial typology of low financial interest individuals|-|\n",
    "\n",
    "*Interpretation:*\n",
    "\n",
    "The first eigenvector positively weights items related to the income of individuals. The explanation of the features in the `Data_Dictionary.md`suggest that we are looking at lower income individuals. Family houses with 6-10 families seem to be prevalent in the area. Furthermore, the household income is positively weighted, this suggest that this variable is correlated to the `LP_STATUS_GROB_1.0`.\n",
    "Negatively weighted features in the first eigenvector are the mobility patterns. The number of 1-2 family houses in the microcell, i.e. in the area, and the feature describing the typology of individuals with low financial interest. One can assume that `PLZ8_ANTG` and `KBA05_ANTG1` are negatively correlated, since if the concentration of 6-10 family houses is high then the concentration of 1-2 family houses must be low. Also this may point to low-income individuals being less mobile and more interested in their financial situation.\n",
    "\n",
    "*__Dimension 2:__*\n",
    "\n",
    "|FEATURE| DESCRPTION|TYPE\n",
    "|----|--------|---|\n",
    "|ALTERSKATEGORIE_GROB|Estimated age based on given name analysis|+|\n",
    "|FINANZ_VORSORGER|Financial typology of individuals that like to be prepared financially|+|\n",
    "|ZABEOTYP_3|Energy consumption typology of individuals choosing a fair supply|+|\n",
    "|DECADE|Decade of influential movement|-|\n",
    "|SEMIO_REL|Personality typology of religious individuals|-|\n",
    "|FINANZ_SPARER|Financial typology of money-saving individuals|-|\n",
    "\n",
    "*Interpretation:*\n",
    "\n",
    "The second dimension positively weigths the age of the individual, their willigness to be prepared financilly, and their energy consumption of a fair supply. Negatively correlated to these variables are the decade, which makes sense given that the older the individual the smaller the decade will be. Also negatively correlated are religious individuals that tend to save a lot. \n",
    "\n",
    "*__Dimension 3:__*\n",
    "\n",
    "|FEATURE| DESCRPTION|TYPE\n",
    "|----|--------|---|\n",
    "|SEMIO_VERT|Personality typology of dreamful individuals|+|\n",
    "|SEMIO_SOZ| Personality typology of socially-minded individuals|+|\n",
    "|SEMIO_FAM|Personality typology of family-minded individuals|+|\n",
    "|ANREDE_KZ|Gender|-|\n",
    "|SEMIO_KAEM|Personality typology of individuals with a combative attitude|-|\n",
    "|SEMIO_DOM|Personality typology of dominant-minded individuals|-|\n",
    "\n",
    "*Interpretation:*\n",
    "\n",
    "This dimension positively weights a group of individuals that are dreamful, and socially as well as family minded. Negatively correlated are dominant-minded individuals with combative attitudes. Also the gender seems to incluence this characteristics."
   ]
  },
  {
   "cell_type": "markdown",
   "metadata": {},
   "source": [
    "## Step 3: Clustering\n",
    "\n",
    "### Step 3.1: Apply Clustering to General Population\n",
    "\n",
    "You've assessed and cleaned the demographics data, then scaled and transformed them. Now, it's time to see how the data clusters in the principal components space. In this substep, you will apply k-means clustering to the dataset and use the average within-cluster distances from each point to their assigned cluster's centroid to decide on a number of clusters to keep.\n",
    "\n",
    "- Use sklearn's [KMeans](http://scikit-learn.org/stable/modules/generated/sklearn.cluster.KMeans.html#sklearn.cluster.KMeans) class to perform k-means clustering on the PCA-transformed data.\n",
    "- Then, compute the average difference from each point to its assigned cluster's center. **Hint**: The KMeans object's `.score()` method might be useful here, but note that in sklearn, scores tend to be defined so that larger is better. Try applying it to a small, toy dataset, or use an internet search to help your understanding.\n",
    "- Perform the above two steps for a number of different cluster counts. You can then see how the average distance decreases with an increasing number of clusters. However, each additional cluster provides a smaller net benefit. Use this fact to select a final number of clusters in which to group the data. **Warning**: because of the large size of the dataset, it can take a long time for the algorithm to resolve. The more clusters to fit, the longer the algorithm will take. You should test for cluster counts through at least 10 clusters to get the full picture, but you shouldn't need to test for a number of clusters above about 30.\n",
    "- Once you've selected a final number of clusters to use, re-fit a KMeans instance to perform the clustering operation. Make sure that you also obtain the cluster assignments for the general demographics data, since you'll be using them in the final Step 3.3."
   ]
  },
  {
   "cell_type": "code",
   "execution_count": 117,
   "metadata": {},
   "outputs": [],
   "source": [
    "# Over a number of different cluster counts...\n",
    "def get_kmeans_score(data, n_clusters):\n",
    "    '''This function computes a score for KMeans with n_clusters.\n",
    "    INPUT:\n",
    "        1. Dataframe\n",
    "        2. Number of clusters/centroids\n",
    "    OUTPUT:\n",
    "        1. Score of KMeans with n_clusters/n_centroids\n",
    "        '''\n",
    "    kmeans = KMeans(n_clusters = n_clusters)\n",
    "    model = kmeans.fit(data)\n",
    "    score = np.abs(model.score(data))\n",
    "    \n",
    "    return score"
   ]
  },
  {
   "cell_type": "code",
   "execution_count": 118,
   "metadata": {},
   "outputs": [
    {
     "name": "stdout",
     "output_type": "stream",
     "text": [
      "STATUS: Fitting KMeans with Centroid 4\n",
      "STATUS: Fitting KMeans with Centroid 8\n",
      "STATUS: Fitting KMeans with Centroid 12\n",
      "STATUS: Fitting KMeans with Centroid 16\n",
      "STATUS: Fitting KMeans with Centroid 20\n",
      "STATUS: Fitting KMeans with Centroid 24\n",
      "STATUS: Fitting KMeans with Centroid 28\n",
      "Finished fitting Kmeans\n"
     ]
    }
   ],
   "source": [
    "with active_session():\n",
    "    scores = []\n",
    "    centroids = np.arange(2,32,2)\n",
    "\n",
    "    for centroid in centroids:\n",
    "        scores.append(get_kmeans_score(X_pca, centroid))\n",
    "        if centroid%4 == 0:\n",
    "            print('STATUS: Fitting KMeans with Centroid {}'.format(centroid))\n",
    "    print('Finished fitting Kmeans')"
   ]
  },
  {
   "cell_type": "code",
   "execution_count": 119,
   "metadata": {},
   "outputs": [
    {
     "data": {
      "image/png": "[encoded data removed]",
      "text/plain": [
       "<matplotlib.figure.Figure at 0x7f8b640ff128>"
      ]
     },
     "metadata": {
      "needs_background": "light"
     },
     "output_type": "display_data"
    }
   ],
   "source": [
    "plt.plot(centroids, scores, linestyle = '--', marker = 'o')\n",
    "plt.ylabel('SSE')\n",
    "plt.xlabel('Number of Centroids')\n",
    "plt.title('SSE vs. Number of Centroids');"
   ]
  },
  {
   "cell_type": "code",
   "execution_count": 120,
   "metadata": {},
   "outputs": [],
   "source": [
    "kmeans = KMeans(n_clusters = 10)\n",
    "model =kmeans.fit(X_pca)"
   ]
  },
  {
   "cell_type": "code",
   "execution_count": 121,
   "metadata": {},
   "outputs": [],
   "source": [
    "azdias_pred = model.predict(X_pca)"
   ]
  },
  {
   "cell_type": "markdown",
   "metadata": {},
   "source": [
    "### Discussion 3.1: Apply Clustering to General Population\n",
    "\n",
    "**ANSWER:**\n",
    "\n",
    "The Kmeans Algortihm was used to cluster the unlabeled data and the Elbow Method implemented to choose the best number of clusters. The resulting scores of the Kmeans algorithm with n_clusters from 2-30 in steps of 2 including 30 show the *elbow* at 10 clusters. This is clearly visible in the *SSE vs. Number of Centroids* graph. Starting at this point the net benefit of additional clusters starts to stagnate."
   ]
  },
  {
   "cell_type": "markdown",
   "metadata": {},
   "source": [
    "### Step 3.2: Apply All Steps to the Customer Data\n",
    "\n",
    "Now that you have clusters and cluster centers for the general population, it's time to see how the customer data maps on to those clusters. Take care to not confuse this for re-fitting all of the models to the customer data. Instead, you're going to use the fits from the general population to clean, transform, and cluster the customer data. In the last step of the project, you will interpret how the general population fits apply to the customer data.\n",
    "\n",
    "- Don't forget when loading in the customers data, that it is semicolon (`;`) delimited.\n",
    "- Apply the same feature wrangling, selection, and engineering steps to the customer demographics using the `clean_data()` function you created earlier. (You can assume that the customer demographics data has similar meaning behind missing data patterns as the general demographics data.)\n",
    "- Use the sklearn objects from the general demographics data, and apply their transformations to the customers data. That is, you should not be using a `.fit()` or `.fit_transform()` method to re-fit the old objects, nor should you be creating new sklearn objects! Carry the data through the feature scaling, PCA, and clustering steps, obtaining cluster assignments for all of the data in the customer demographics data."
   ]
  },
  {
   "cell_type": "code",
   "execution_count": 122,
   "metadata": {},
   "outputs": [],
   "source": [
    "customer_data = pd.read_csv('Udacity_CUSTOMERS_Subset.csv', sep = ';')"
   ]
  },
  {
   "cell_type": "code",
   "execution_count": 123,
   "metadata": {},
   "outputs": [],
   "source": [
    "customer_data_clean, customer_data_clean_high_null, feat_info_clean = clean_data(customer_data, feat_info)"
   ]
  },
  {
   "cell_type": "code",
   "execution_count": 124,
   "metadata": {},
   "outputs": [],
   "source": [
    "customer_data_no_null = pd.DataFrame(imputer.transform(customer_data_clean))\n",
    "customer_data_final = scaler.transform(customer_data_no_null)\n",
    "X_pca_customer = pca.transform(customer_data_final) \n",
    "customer_pred = model.predict(X_pca_customer)"
   ]
  },
  {
   "cell_type": "markdown",
   "metadata": {},
   "source": [
    "### Step 3.3: Compare Customer Data to Demographics Data\n",
    "\n",
    "At this point, you have clustered data based on demographics of the general population of Germany, and seen how the customer data for a mail-order sales company maps onto those demographic clusters. In this final substep, you will compare the two cluster distributions to see where the strongest customer base for the company is.\n",
    "\n",
    "Consider the proportion of persons in each cluster for the general population, and the proportions for the customers. If we think the company's customer base to be universal, then the cluster assignment proportions should be fairly similar between the two. If there are only particular segments of the population that are interested in the company's products, then we should see a mismatch from one to the other. If there is a higher proportion of persons in a cluster for the customer data compared to the general population (e.g. 5% of persons are assigned to a cluster for the general population, but 15% of the customer data is closest to that cluster's centroid) then that suggests the people in that cluster to be a target audience for the company. On the other hand, the proportion of the data in a cluster being larger in the general population than the customer data (e.g. only 2% of customers closest to a population centroid that captures 6% of the data) suggests that group of persons to be outside of the target demographics.\n",
    "\n",
    "Take a look at the following points in this step:\n",
    "\n",
    "- Compute the proportion of data points in each cluster for the general population and the customer data. Visualizations will be useful here: both for the individual dataset proportions, but also to visualize the ratios in cluster representation between groups. Seaborn's [`countplot()`](https://seaborn.pydata.org/generated/seaborn.countplot.html) or [`barplot()`](https://seaborn.pydata.org/generated/seaborn.barplot.html) function could be handy.\n",
    "  - Recall the analysis you performed in step 1.1.3 of the project, where you separated out certain data points from the dataset if they had more than a specified threshold of missing values. If you found that this group was qualitatively different from the main bulk of the data, you should treat this as an additional data cluster in this analysis. Make sure that you account for the number of data points in this subset, for both the general population and customer datasets, when making your computations!\n",
    "- Which cluster or clusters are overrepresented in the customer dataset compared to the general population? Select at least one such cluster and infer what kind of people might be represented by that cluster. Use the principal component interpretations from step 2.3 or look at additional components to help you make this inference. Alternatively, you can use the `.inverse_transform()` method of the PCA and StandardScaler objects to transform centroids back to the original data space and interpret the retrieved values directly.\n",
    "- Perform a similar investigation for the underrepresented clusters. Which cluster or clusters are underrepresented in the customer dataset compared to the general population, and what kinds of people are typified by these clusters?"
   ]
  },
  {
   "cell_type": "code",
   "execution_count": 125,
   "metadata": {},
   "outputs": [
    {
     "data": {
      "image/png": "[encoded data removed]",
      "text/plain": [
       "<matplotlib.figure.Figure at 0x7f8b64254978>"
      ]
     },
     "metadata": {
      "needs_background": "light"
     },
     "output_type": "display_data"
    }
   ],
   "source": [
    "#Proportions WITHOUT missing data\n",
    "\n",
    "fig, ax = plt.subplots(1, 2, figsize = (11,5))\n",
    "sns.countplot(azdias_pred, ax= ax[0])\n",
    "sns.countplot(customer_pred, ax = ax[1])\n",
    "ax[0].set_xlabel('Clusters')\n",
    "ax[1].set_xlabel('Clusters')\n",
    "ax[0].set_title('General Population')\n",
    "ax[1].set_title('Customer Population')\n",
    "\n",
    "plt.tight_layout(pad=0.4, w_pad=0.8, h_pad=1.0)\n"
   ]
  },
  {
   "cell_type": "code",
   "execution_count": 126,
   "metadata": {},
   "outputs": [
    {
     "data": {
      "image/png": "[encoded data removed]",
      "text/plain": [
       "<matplotlib.figure.Figure at 0x7f8b64472588>"
      ]
     },
     "metadata": {
      "needs_background": "light"
     },
     "output_type": "display_data"
    }
   ],
   "source": [
    "fig = plt.figure(figsize = (8,6))\n",
    "sns.distplot(customer_pred, label = 'Customer', color = 'green')\n",
    "sns.distplot(azdias_pred, label = 'Population', color = 'orange')\n",
    "plt.legend();"
   ]
  },
  {
   "cell_type": "code",
   "execution_count": 127,
   "metadata": {},
   "outputs": [],
   "source": [
    "pop_predictions = pd.DataFrame(azdias_pred, columns = ['Predictions_Pop'])\n",
    "cust_predictions = pd.DataFrame(customer_pred, columns = ['Predictions_Cust'])"
   ]
  },
  {
   "cell_type": "code",
   "execution_count": 128,
   "metadata": {},
   "outputs": [],
   "source": [
    "add_missing_pop = azdias_high_null_count.copy()\n",
    "add_missing_cust = customer_data_clean_high_null.copy()\n",
    "add_missing_pop['Label'] = 10\n",
    "add_missing_cust['Label'] = 10"
   ]
  },
  {
   "cell_type": "code",
   "execution_count": 129,
   "metadata": {},
   "outputs": [],
   "source": [
    "grouped_pop_predictions = pd.DataFrame(pop_predictions.groupby('Predictions_Pop').size())\n",
    "grouped_cust_predictions = pd.DataFrame(cust_predictions.groupby('Predictions_Cust').size())"
   ]
  },
  {
   "cell_type": "code",
   "execution_count": 130,
   "metadata": {},
   "outputs": [],
   "source": [
    "grouped_pop_predictions_final = pd.concat(\n",
    "    [grouped_pop_predictions, pd.DataFrame(add_missing_pop.groupby(by = 'Label').size())], ignore_index=True)\n",
    "\n",
    "grouped_cust_predictions_final = pd.concat(\n",
    "    [grouped_cust_predictions, pd.DataFrame(add_missing_cust.groupby(by = 'Label').size())], ignore_index=True)"
   ]
  },
  {
   "cell_type": "code",
   "execution_count": 131,
   "metadata": {},
   "outputs": [],
   "source": [
    "grouped_pop_predictions_final.columns = ['Count_Pop']\n",
    "grouped_cust_predictions_final.columns = ['Count_Cust']"
   ]
  },
  {
   "cell_type": "code",
   "execution_count": 132,
   "metadata": {},
   "outputs": [],
   "source": [
    "comp_proportions = pd.DataFrame()"
   ]
  },
  {
   "cell_type": "code",
   "execution_count": 133,
   "metadata": {},
   "outputs": [],
   "source": [
    "comp_proportions['Labels'] = np.arange(0,11)"
   ]
  },
  {
   "cell_type": "code",
   "execution_count": 134,
   "metadata": {},
   "outputs": [],
   "source": [
    "comp_proportions['Population_prop_per_cluster'] = ((grouped_pop_predictions_final['Count_Pop']/\n",
    "                                                   (pop_predictions.shape[0]+ add_missing_pop.shape[0])*100).values)\n",
    "comp_proportions['Customer_prop_per_cluster'] = ((grouped_cust_predictions_final['Count_Cust']/\n",
    "                                                 (cust_predictions.shape[0]+add_missing_cust.shape[0])*100).values)\n",
    "comp_proportions['Diff'] = comp_proportions['Customer_prop_per_cluster'] - comp_proportions['Population_prop_per_cluster']"
   ]
  },
  {
   "cell_type": "code",
   "execution_count": 135,
   "metadata": {},
   "outputs": [
    {
     "data": {
      "text/html": [
       "<div>\n",
       "<style scoped>\n",
       "    .dataframe tbody tr th:only-of-type {\n",
       "        vertical-align: middle;\n",
       "    }\n",
       "\n",
       "    .dataframe tbody tr th {\n",
       "        vertical-align: top;\n",
       "    }\n",
       "\n",
       "    .dataframe thead th {\n",
       "        text-align: right;\n",
       "    }\n",
       "</style>\n",
       "<table border=\"1\" class=\"dataframe\">\n",
       "  <thead>\n",
       "    <tr style=\"text-align: right;\">\n",
       "      <th></th>\n",
       "      <th>Labels</th>\n",
       "      <th>Population_prop_per_cluster</th>\n",
       "      <th>Customer_prop_per_cluster</th>\n",
       "      <th>Diff</th>\n",
       "    </tr>\n",
       "  </thead>\n",
       "  <tbody>\n",
       "    <tr>\n",
       "      <th>3</th>\n",
       "      <td>3</td>\n",
       "      <td>6.757471</td>\n",
       "      <td>24.982781</td>\n",
       "      <td>18.225310</td>\n",
       "    </tr>\n",
       "    <tr>\n",
       "      <th>10</th>\n",
       "      <td>10</td>\n",
       "      <td>10.470467</td>\n",
       "      <td>26.054515</td>\n",
       "      <td>15.584049</td>\n",
       "    </tr>\n",
       "    <tr>\n",
       "      <th>4</th>\n",
       "      <td>4</td>\n",
       "      <td>9.791511</td>\n",
       "      <td>14.298833</td>\n",
       "      <td>4.507323</td>\n",
       "    </tr>\n",
       "    <tr>\n",
       "      <th>6</th>\n",
       "      <td>6</td>\n",
       "      <td>6.568853</td>\n",
       "      <td>8.747104</td>\n",
       "      <td>2.178251</td>\n",
       "    </tr>\n",
       "    <tr>\n",
       "      <th>0</th>\n",
       "      <td>0</td>\n",
       "      <td>9.121307</td>\n",
       "      <td>6.338572</td>\n",
       "      <td>-2.782735</td>\n",
       "    </tr>\n",
       "    <tr>\n",
       "      <th>7</th>\n",
       "      <td>7</td>\n",
       "      <td>11.369458</td>\n",
       "      <td>8.155928</td>\n",
       "      <td>-3.213530</td>\n",
       "    </tr>\n",
       "    <tr>\n",
       "      <th>5</th>\n",
       "      <td>5</td>\n",
       "      <td>11.260507</td>\n",
       "      <td>7.300733</td>\n",
       "      <td>-3.959774</td>\n",
       "    </tr>\n",
       "    <tr>\n",
       "      <th>1</th>\n",
       "      <td>1</td>\n",
       "      <td>6.910071</td>\n",
       "      <td>1.424457</td>\n",
       "      <td>-5.485614</td>\n",
       "    </tr>\n",
       "    <tr>\n",
       "      <th>9</th>\n",
       "      <td>9</td>\n",
       "      <td>7.822302</td>\n",
       "      <td>0.677269</td>\n",
       "      <td>-7.145033</td>\n",
       "    </tr>\n",
       "    <tr>\n",
       "      <th>2</th>\n",
       "      <td>2</td>\n",
       "      <td>9.788930</td>\n",
       "      <td>1.217311</td>\n",
       "      <td>-8.571619</td>\n",
       "    </tr>\n",
       "    <tr>\n",
       "      <th>8</th>\n",
       "      <td>8</td>\n",
       "      <td>10.139124</td>\n",
       "      <td>0.802496</td>\n",
       "      <td>-9.336628</td>\n",
       "    </tr>\n",
       "  </tbody>\n",
       "</table>\n",
       "</div>"
      ],
      "text/plain": [
       "    Labels  Population_prop_per_cluster  Customer_prop_per_cluster       Diff\n",
       "3        3                     6.757471                  24.982781  18.225310\n",
       "10      10                    10.470467                  26.054515  15.584049\n",
       "4        4                     9.791511                  14.298833   4.507323\n",
       "6        6                     6.568853                   8.747104   2.178251\n",
       "0        0                     9.121307                   6.338572  -2.782735\n",
       "7        7                    11.369458                   8.155928  -3.213530\n",
       "5        5                    11.260507                   7.300733  -3.959774\n",
       "1        1                     6.910071                   1.424457  -5.485614\n",
       "9        9                     7.822302                   0.677269  -7.145033\n",
       "2        2                     9.788930                   1.217311  -8.571619\n",
       "8        8                    10.139124                   0.802496  -9.336628"
      ]
     },
     "execution_count": 135,
     "metadata": {},
     "output_type": "execute_result"
    }
   ],
   "source": [
    "comp_proportions.sort_values(by = ['Diff'], ascending = False)"
   ]
  },
  {
   "cell_type": "code",
   "execution_count": 136,
   "metadata": {},
   "outputs": [
    {
     "data": {
      "image/png": "[encoded data removed]",
      "text/plain": [
       "<matplotlib.figure.Figure at 0x7f8b78674390>"
      ]
     },
     "metadata": {
      "needs_background": "light"
     },
     "output_type": "display_data"
    }
   ],
   "source": [
    "#Proportions with missing values\n",
    "\n",
    "fig, ax = plt.subplots(1, 2, figsize = (11,5))\n",
    "sns.barplot(x = np.arange(0,11), y= grouped_pop_predictions_final['Count_Pop'], ax= ax[0])\n",
    "sns.barplot(x = np.arange(0,11), y = grouped_cust_predictions_final['Count_Cust'], ax = ax[1])\n",
    "ax[0].set_xlabel('Clusters')\n",
    "ax[1].set_xlabel('Clusters')\n",
    "ax[0].set_title('General Population')\n",
    "ax[1].set_title('Customer Population')\n",
    "\n",
    "plt.tight_layout(pad=0.4, w_pad=0.8, h_pad=1.0)"
   ]
  },
  {
   "cell_type": "code",
   "execution_count": 137,
   "metadata": {},
   "outputs": [],
   "source": [
    "def transform_data(pca, X_pca, df, predictions, cluster):\n",
    "    dimensions = ['Dimension {}'.format(i) for i in range(1,len(pca.components_)+1)]\n",
    "    X_pca = pd.DataFrame(X_pca, columns = dimensions)\n",
    "    labels = pd.DataFrame(predictions, columns = [\"Prediction\"])\n",
    "    X_pca_labeled = pd.concat([X_pca , labels], axis = 1)\n",
    "    cluster_df = X_pca_labeled[X_pca_labeled['Prediction'] == cluster].drop(columns='Prediction')\n",
    "    cluster_transformed = pd.DataFrame(scaler.inverse_transform(pca.inverse_transform(cluster_df)))\n",
    "    cluster_transformed.columns = df.columns\n",
    "    return cluster_transformed"
   ]
  },
  {
   "cell_type": "code",
   "execution_count": 156,
   "metadata": {},
   "outputs": [
    {
     "name": "stdout",
     "output_type": "stream",
     "text": [
      "Main features of overrepresented data cluster 3\n"
     ]
    },
    {
     "data": {
      "text/plain": [
       "ALTERSKATEGORIE_GROB     3.461957\n",
       "ANREDE_KZ                1.060959\n",
       "NATIONALITAET_KZ_1.0     0.984632\n",
       "NATIONALITAET_KZ_2.0     0.023302\n",
       "NATIONALITAET_KZ_3.0    -0.004365\n",
       "OST_WEST_KZ_OW           0.051281\n",
       "FINANZ_MINIMALIST        4.990772\n",
       "FINANZ_SPARER            1.269354\n",
       "FINANZ_VORSORGER         4.597670\n",
       "FINANZ_ANLEGER           1.161260\n",
       "FINANZ_UNAUFFAELLIGER    1.913869\n",
       "FINANZ_HAUSBAUER         2.088121\n",
       "WEALTH                   2.021592\n",
       "LIFE_STAGE               3.681974\n",
       "SEMIO_SOZ                5.290918\n",
       "SEMIO_FAM                4.741404\n",
       "SEMIO_REL                3.573509\n",
       "SEMIO_MAT                3.750569\n",
       "SEMIO_VERT               6.391004\n",
       "SEMIO_LUST               5.708863\n",
       "SEMIO_ERL                4.213029\n",
       "SEMIO_KULT               4.752732\n",
       "SEMIO_RAT                2.495354\n",
       "SEMIO_KRIT               2.796414\n",
       "SEMIO_DOM                3.088785\n",
       "SEMIO_KAEM               2.592159\n",
       "SEMIO_PFLICHT            3.017625\n",
       "SEMIO_TRADV              2.930066\n",
       "ONLINE_AFFINITAET        3.196328\n",
       "ANZ_PERSONEN             2.613928\n",
       "MOVEMENT                 1.003472\n",
       "RETOURTYP_BK_S           3.996478\n",
       "SHOPPER_TYP_0.0          0.350275\n",
       "SHOPPER_TYP_1.0          0.205045\n",
       "SHOPPER_TYP_2.0          0.110455\n",
       "SHOPPER_TYP_3.0          0.336841\n",
       "KONSUMNAEHE              3.215262\n",
       "BALLRAUM                 3.944940\n",
       "KKK                      2.099803\n",
       "dtype: float64"
      ]
     },
     "metadata": {},
     "output_type": "display_data"
    },
    {
     "name": "stdout",
     "output_type": "stream",
     "text": [
      "Main features of overrepresented data cluster 4\n"
     ]
    },
    {
     "data": {
      "text/plain": [
       "ALTERSKATEGORIE_GROB     3.450837\n",
       "ANREDE_KZ                1.092923\n",
       "NATIONALITAET_KZ_1.0     0.982394\n",
       "NATIONALITAET_KZ_2.0     0.028453\n",
       "NATIONALITAET_KZ_3.0    -0.013138\n",
       "OST_WEST_KZ_OW           0.084777\n",
       "FINANZ_MINIMALIST        4.824904\n",
       "FINANZ_SPARER            1.367827\n",
       "FINANZ_VORSORGER         4.622076\n",
       "FINANZ_ANLEGER           1.812101\n",
       "FINANZ_UNAUFFAELLIGER    1.699314\n",
       "FINANZ_HAUSBAUER         2.039581\n",
       "WEALTH                   2.394685\n",
       "LIFE_STAGE               3.299896\n",
       "SEMIO_SOZ                4.782582\n",
       "SEMIO_FAM                4.616308\n",
       "SEMIO_REL                3.551736\n",
       "SEMIO_MAT                3.467258\n",
       "SEMIO_VERT               5.988866\n",
       "SEMIO_LUST               5.083800\n",
       "SEMIO_ERL                4.372218\n",
       "SEMIO_KULT               4.677779\n",
       "SEMIO_RAT                2.552654\n",
       "SEMIO_KRIT               3.279627\n",
       "SEMIO_DOM                2.955711\n",
       "SEMIO_KAEM               2.579853\n",
       "SEMIO_PFLICHT            3.135714\n",
       "SEMIO_TRADV              2.769616\n",
       "ONLINE_AFFINITAET        2.858933\n",
       "ANZ_PERSONEN             2.401674\n",
       "MOVEMENT                 0.032287\n",
       "RETOURTYP_BK_S           4.036262\n",
       "SHOPPER_TYP_0.0          0.384937\n",
       "SHOPPER_TYP_1.0          0.223115\n",
       "SHOPPER_TYP_2.0          0.139424\n",
       "SHOPPER_TYP_3.0          0.248424\n",
       "KONSUMNAEHE              3.852366\n",
       "BALLRAUM                 5.159654\n",
       "KKK                      2.825136\n",
       "dtype: float64"
      ]
     },
     "metadata": {},
     "output_type": "display_data"
    },
    {
     "name": "stdout",
     "output_type": "stream",
     "text": [
      "Main features of overrepresented data cluster 6\n"
     ]
    },
    {
     "data": {
      "text/plain": [
       "ALTERSKATEGORIE_GROB     3.594753\n",
       "ANREDE_KZ                1.927948\n",
       "NATIONALITAET_KZ_1.0     0.948487\n",
       "NATIONALITAET_KZ_2.0    -0.006730\n",
       "NATIONALITAET_KZ_3.0     0.021741\n",
       "OST_WEST_KZ_OW           0.053241\n",
       "FINANZ_MINIMALIST        4.302084\n",
       "FINANZ_SPARER            1.375059\n",
       "FINANZ_VORSORGER         4.473291\n",
       "FINANZ_ANLEGER           1.813015\n",
       "FINANZ_UNAUFFAELLIGER    2.043070\n",
       "FINANZ_HAUSBAUER         2.466862\n",
       "WEALTH                   2.047358\n",
       "LIFE_STAGE               3.693844\n",
       "SEMIO_SOZ                2.833498\n",
       "SEMIO_FAM                1.971753\n",
       "SEMIO_REL                1.946481\n",
       "SEMIO_MAT                2.365357\n",
       "SEMIO_VERT               3.191447\n",
       "SEMIO_LUST               5.751421\n",
       "SEMIO_ERL                6.436856\n",
       "SEMIO_KULT               1.854103\n",
       "SEMIO_RAT                3.361506\n",
       "SEMIO_KRIT               5.581161\n",
       "SEMIO_DOM                5.974122\n",
       "SEMIO_KAEM               5.746064\n",
       "SEMIO_PFLICHT            2.770636\n",
       "SEMIO_TRADV              2.600876\n",
       "ONLINE_AFFINITAET        3.010993\n",
       "ANZ_PERSONEN             2.398913\n",
       "MOVEMENT                 0.973324\n",
       "RETOURTYP_BK_S           3.778166\n",
       "SHOPPER_TYP_0.0          0.066801\n",
       "SHOPPER_TYP_1.0          0.197445\n",
       "SHOPPER_TYP_2.0          0.239129\n",
       "SHOPPER_TYP_3.0          0.457364\n",
       "KONSUMNAEHE              3.240361\n",
       "BALLRAUM                 3.995034\n",
       "KKK                      2.117339\n",
       "dtype: float64"
      ]
     },
     "metadata": {},
     "output_type": "display_data"
    }
   ],
   "source": [
    "analysis_cols = ['ALTERSKATEGORIE_GROB','ANREDE_KZ','NATIONALITAET_KZ_1.0',\n",
    "                 'NATIONALITAET_KZ_2.0','NATIONALITAET_KZ_3.0','OST_WEST_KZ_OW',\n",
    "                 'FINANZ_MINIMALIST','FINANZ_SPARER','FINANZ_VORSORGER','FINANZ_ANLEGER',\n",
    "                 'FINANZ_UNAUFFAELLIGER','FINANZ_HAUSBAUER','WEALTH', 'LIFE_STAGE',\n",
    "                 'SEMIO_SOZ', 'SEMIO_FAM','SEMIO_REL', 'SEMIO_MAT', 'SEMIO_VERT',\n",
    "                 'SEMIO_LUST', 'SEMIO_ERL','SEMIO_KULT', 'SEMIO_RAT', 'SEMIO_KRIT',\n",
    "                 'SEMIO_DOM', 'SEMIO_KAEM','SEMIO_PFLICHT','SEMIO_TRADV',\n",
    "                 'ONLINE_AFFINITAET','ANZ_PERSONEN','MOVEMENT','RETOURTYP_BK_S',\n",
    "                 'SHOPPER_TYP_0.0','SHOPPER_TYP_1.0','SHOPPER_TYP_2.0','SHOPPER_TYP_3.0',\n",
    "                 'KONSUMNAEHE','BALLRAUM', 'KKK']\n",
    "over_rep = [3,4,6]\n",
    "\n",
    "for i in over_rep:\n",
    "    print('Main features of overrepresented data cluster {}'.format(i))\n",
    "    transformed_data = transform_data(pca, X_pca_customer, customer_data_clean, customer_pred, i)\n",
    "    transformed_data = transformed_data[analysis_cols]\n",
    "    display(transformed_data.mean())"
   ]
  },
  {
   "cell_type": "code",
   "execution_count": 155,
   "metadata": {},
   "outputs": [
    {
     "name": "stdout",
     "output_type": "stream",
     "text": [
      "Main features of underrepresented data cluster 8\n"
     ]
    },
    {
     "data": {
      "text/plain": [
       "ALTERSKATEGORIE_GROB     1.898450\n",
       "ANREDE_KZ                1.993847\n",
       "NATIONALITAET_KZ_1.0     0.729783\n",
       "NATIONALITAET_KZ_2.0     0.102488\n",
       "NATIONALITAET_KZ_3.0     0.085642\n",
       "OST_WEST_KZ_OW           0.204328\n",
       "FINANZ_MINIMALIST        1.646570\n",
       "FINANZ_SPARER            3.652700\n",
       "FINANZ_VORSORGER         2.770331\n",
       "FINANZ_ANLEGER           3.523030\n",
       "FINANZ_UNAUFFAELLIGER    3.209975\n",
       "FINANZ_HAUSBAUER         3.959444\n",
       "WEALTH                   4.302894\n",
       "LIFE_STAGE               2.240404\n",
       "SEMIO_SOZ                3.240965\n",
       "SEMIO_FAM                3.717018\n",
       "SEMIO_REL                4.925620\n",
       "SEMIO_MAT                4.705039\n",
       "SEMIO_VERT               2.322048\n",
       "SEMIO_LUST               3.132329\n",
       "SEMIO_ERL                4.520013\n",
       "SEMIO_KULT               3.857167\n",
       "SEMIO_RAT                5.906255\n",
       "SEMIO_KRIT               5.624717\n",
       "SEMIO_DOM                6.314548\n",
       "SEMIO_KAEM               6.233189\n",
       "SEMIO_PFLICHT            5.836176\n",
       "SEMIO_TRADV              5.368206\n",
       "ONLINE_AFFINITAET        2.836808\n",
       "ANZ_PERSONEN             1.615182\n",
       "MOVEMENT                 0.078003\n",
       "RETOURTYP_BK_S           3.172209\n",
       "SHOPPER_TYP_0.0          0.060958\n",
       "SHOPPER_TYP_1.0          0.200695\n",
       "SHOPPER_TYP_2.0          0.447198\n",
       "SHOPPER_TYP_3.0          0.205908\n",
       "KONSUMNAEHE              1.904294\n",
       "BALLRAUM                 2.889145\n",
       "KKK                      2.726676\n",
       "dtype: float64"
      ]
     },
     "metadata": {},
     "output_type": "display_data"
    },
    {
     "name": "stdout",
     "output_type": "stream",
     "text": [
      "Main features of underrepresented data cluster 2\n"
     ]
    },
    {
     "data": {
      "text/plain": [
       "ALTERSKATEGORIE_GROB     2.066791\n",
       "ANREDE_KZ                1.945553\n",
       "NATIONALITAET_KZ_1.0     0.795112\n",
       "NATIONALITAET_KZ_2.0     0.064315\n",
       "NATIONALITAET_KZ_3.0     0.089492\n",
       "OST_WEST_KZ_OW           0.088649\n",
       "FINANZ_MINIMALIST        2.892147\n",
       "FINANZ_SPARER            3.404028\n",
       "FINANZ_VORSORGER         2.758162\n",
       "FINANZ_ANLEGER           3.946322\n",
       "FINANZ_UNAUFFAELLIGER    3.498992\n",
       "FINANZ_HAUSBAUER         2.387257\n",
       "WEALTH                   2.399980\n",
       "LIFE_STAGE               3.207176\n",
       "SEMIO_SOZ                2.907730\n",
       "SEMIO_FAM                3.448045\n",
       "SEMIO_REL                4.607772\n",
       "SEMIO_MAT                4.578985\n",
       "SEMIO_VERT               2.856747\n",
       "SEMIO_LUST               3.174786\n",
       "SEMIO_ERL                4.697235\n",
       "SEMIO_KULT               3.716224\n",
       "SEMIO_RAT                5.677769\n",
       "SEMIO_KRIT               5.415314\n",
       "SEMIO_DOM                5.851359\n",
       "SEMIO_KAEM               5.571837\n",
       "SEMIO_PFLICHT            5.438210\n",
       "SEMIO_TRADV              5.239489\n",
       "ONLINE_AFFINITAET        3.926371\n",
       "ANZ_PERSONEN             2.368605\n",
       "MOVEMENT                 0.220688\n",
       "RETOURTYP_BK_S           2.682787\n",
       "SHOPPER_TYP_0.0          0.078031\n",
       "SHOPPER_TYP_1.0          0.339862\n",
       "SHOPPER_TYP_2.0          0.322762\n",
       "SHOPPER_TYP_3.0          0.205290\n",
       "KONSUMNAEHE              3.656205\n",
       "BALLRAUM                 4.925663\n",
       "KKK                      2.696702\n",
       "dtype: float64"
      ]
     },
     "metadata": {},
     "output_type": "display_data"
    },
    {
     "name": "stdout",
     "output_type": "stream",
     "text": [
      "Main features of underrepresented data cluster 9\n"
     ]
    },
    {
     "data": {
      "text/plain": [
       "ALTERSKATEGORIE_GROB     2.139990\n",
       "ANREDE_KZ                0.969792\n",
       "NATIONALITAET_KZ_1.0     0.810091\n",
       "NATIONALITAET_KZ_2.0     0.130961\n",
       "NATIONALITAET_KZ_3.0     0.022661\n",
       "OST_WEST_KZ_OW           0.260324\n",
       "FINANZ_MINIMALIST        2.277615\n",
       "FINANZ_SPARER            3.925604\n",
       "FINANZ_VORSORGER         2.435708\n",
       "FINANZ_ANLEGER           3.029136\n",
       "FINANZ_UNAUFFAELLIGER    3.538968\n",
       "FINANZ_HAUSBAUER         3.322651\n",
       "WEALTH                   4.269126\n",
       "LIFE_STAGE               2.018608\n",
       "SEMIO_SOZ                6.241844\n",
       "SEMIO_FAM                6.429894\n",
       "SEMIO_REL                5.727195\n",
       "SEMIO_MAT                4.982263\n",
       "SEMIO_VERT               6.063843\n",
       "SEMIO_LUST               3.501819\n",
       "SEMIO_ERL                2.607944\n",
       "SEMIO_KULT               6.413295\n",
       "SEMIO_RAT                3.843428\n",
       "SEMIO_KRIT               3.032145\n",
       "SEMIO_DOM                3.082242\n",
       "SEMIO_KAEM               2.638873\n",
       "SEMIO_PFLICHT            5.095916\n",
       "SEMIO_TRADV              4.529536\n",
       "ONLINE_AFFINITAET        3.333599\n",
       "ANZ_PERSONEN             1.776596\n",
       "MOVEMENT                 0.198088\n",
       "RETOURTYP_BK_S           3.164102\n",
       "SHOPPER_TYP_0.0          0.268379\n",
       "SHOPPER_TYP_1.0          0.477176\n",
       "SHOPPER_TYP_2.0          0.111765\n",
       "SHOPPER_TYP_3.0          0.102526\n",
       "KONSUMNAEHE              1.812290\n",
       "BALLRAUM                 2.594514\n",
       "KKK                      2.694221\n",
       "dtype: float64"
      ]
     },
     "metadata": {},
     "output_type": "display_data"
    }
   ],
   "source": [
    "under_rep = [8,2,9]\n",
    "\n",
    "for i in under_rep:\n",
    "    print('Main features of underrepresented data cluster {}'.format(i))\n",
    "    transformed_data = transform_data(pca, X_pca_customer, customer_data_clean, customer_pred, i)\n",
    "    transformed_data = transformed_data[analysis_cols]\n",
    "    display(transformed_data.mean())"
   ]
  },
  {
   "cell_type": "markdown",
   "metadata": {},
   "source": [
    "### Discussion 3.3: Compare Customer Data to Demographics Data\n",
    "\n",
    "\n",
    "**ANSWER:**\n",
    "\n",
    "Clusters 3, 10, and 4 are overrepresented in the customer data, which suggests that people in these clusters are relatively popular with the mail-order company. On the other side clusters 8, 2, and 9 are underrepresented and therefore unpopular with the company.\n",
    "In the following analysis I will concentrate on investigating the most overrepresented and most underrepresented segments, i.e. segments 3 and 8. For this, a number of specific features that aim at providing a general overview on the characteristics of the people in the segment was defined. The first six features should give a general overview on the demographics of the people in the segment. The next 2 features should provide an idea of the financial typology and wealth of the individuals in the segment. The next three feature give in insight into the personality and the online affinity of the individuals. Features 12 to 14 give an overview of the consumer shopping habits and finally the last two feature give general geographical information on the distance to urban centers and the purchasing power of the region the household is located at.\n",
    "\n",
    "\n",
    "*Target Audience for the customer*\n",
    "\n",
    "The target audience of the mail order company is male and older. Their household is prosperous and includes about 3 people; they are tipically families with older children that are already in school. People in this segment are from German descent and are located in West-Germany. They are investor and money-savers with high affinity to rational but also combative attitudes. They belong to the avantgarde movement, which suggests their are innovative in their thinking. The target audience has a high online affinity. Their shopping behaviour is very diverse, they are, however, more often family shoppers and rarely return purchased items. They reside in a less dense area, with high purchasing power, about 30-40km from the next urban center, but have a PoS in their area.\n",
    "\n",
    "*Outside Target Demographics*\n",
    "\n",
    "The segment outside the target group is almost completely contrary from the target group. The people in this segment are younger, more female, and have smaller households generally composed of young couples with childre. The data suggest they are from foreign descent and reside in Wet-Germany. They are less affluent and show low financial interest. They are dreamers that were shaped by the mainstream movement. They also have a high online affinity. They too have a diverse shopping behavior, but show a stronger tendence toward shopping to satisfy pleasures that have been externally set. They reside closer to urban centers than the target group, in denser areas with average purchasing power and also have a PoS in their area. \n",
    "\n",
    "\n",
    "|NR.|FEATURE|DESCRIPTION|OVER_REP_CLUSTER_3|UNDER_REP_CLUSTER_8|\n",
    "|---|---|---|---|---|\n",
    "|1|ALTERSKATEGORIE_GROB| Estimated age based on given name analysis|46 - 60 years old|30 - 45 years old|\n",
    "|2|ANREDE_KZ| Gender|male|female|\n",
    "|3|ANZ_PERSONEN|Number of adults in household|about 3|about 2|\n",
    "|4|LIFE_STAGE|Life Stage Typology - Lifestyle|Families With School Age Children|Young Couples With Children|\n",
    "|5|NATIONALITAET_KZ|Nationality based on given name analysis|German-sounding|foreign-sounding|\n",
    "|6|OST_WEST_KZ|Building location via former East / West Germany (GDR / FRG)|West|West|\n",
    "|7|FINANZ*|Financial typology|investor, money-saver|low financial interest|\n",
    "|8|WEALTH|Life Stage Typology - Wealth|Prosperous Households|Less Affluent|\n",
    "|9|SEMIO*|Personality typology|very high affinity to rational, combative attitude|very high affinity to being dreamful|\n",
    "|10|MOVEMENT|Dominating movement (mainstream/avantgarde)|Avantgarde|Mainstream|\n",
    "|11|ONLINE_AFFINITAET|Online affinity|high|high|\n",
    "|12|RETOURTYP_BK_S| Return type|conservative Low-Returner|incentive-receptive Normal-Returner|\n",
    "|13|SHOPPER_TYP| Shopper typology|family-shopper, but high scores on all other dimensions|external supplied hedonists,  but high scores on all other dimensions|\n",
    "|14|KONSUMNAEHE|Distance from building to point of sale (PoS)|building is located in a 500 x 500m grid cell that includes at least one RA1-consumption cell|building is located in a 250 x 250m grid cell that includes at least one RA1-consumption cell|\n",
    "|15|BALLRAUM|Distance to nearest urban center|30 -  40 km|20 -  30 km|\n",
    "|16|KKK|Purchasing power in region|high|average|"
   ]
  },
  {
   "cell_type": "code",
   "execution_count": null,
   "metadata": {},
   "outputs": [],
   "source": []
  }
 ],
 "metadata": {
  "kernelspec": {
   "display_name": "Python 3",
   "language": "python",
   "name": "python3"
  },
  "language_info": {
   "codemirror_mode": {
    "name": "ipython",
    "version": 3
   },
   "file_extension": ".py",
   "mimetype": "text/x-python",
   "name": "python",
   "nbconvert_exporter": "python",
   "pygments_lexer": "ipython3",
   "version": "3.6.3"
  }
 },
 "nbformat": 4,
 "nbformat_minor": 2
}
